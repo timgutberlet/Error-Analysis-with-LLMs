{
 "cells": [
  {
   "cell_type": "code",
   "execution_count": 13,
   "metadata": {},
   "outputs": [
    {
     "data": {
      "text/plain": [
       "True"
      ]
     },
     "execution_count": 13,
     "metadata": {},
     "output_type": "execute_result"
    }
   ],
   "source": [
    "import os\n",
    "from dotenv import load_dotenv\n",
    "from langfuse.callback import CallbackHandler\n",
    "from langchain.chains import LLMChain\n",
    "from langchain_openai import OpenAI\n",
    "from langchain.chains import LLMChain, SimpleSequentialChain\n",
    "from langchain.prompts import PromptTemplate\n",
    "from langfuse.callback import CallbackHandler\n",
    "from langchain_openai import ChatOpenAI\n",
    "\n",
    "# Load the .env file\n",
    "load_dotenv()\n",
    "\n",
    "# Access the environment variables\n",
    "os.environ[\"LANGFUSE_PUBLIC_KEY\"] = os.environ.get(\"LANGFUSE_PUBLIC_KEY\")\n",
    "os.environ[\"LANGFUSE_SECRET_KEY\"] = os.environ.get(\"LANGFUSE_SECRET_KEY\")\n",
    "os.environ[\"OPENAI_API_KEY\"] = os.environ.get(\"OPENAI_API_KEY\")\n",
    "\n",
    "handler = CallbackHandler()\n",
    "handler.auth_check()\n"
   ]
  },
  {
   "cell_type": "code",
   "execution_count": 12,
   "metadata": {},
   "outputs": [
    {
     "name": "stdout",
     "output_type": "stream",
     "text": [
      "\n",
      "\n",
      "4\n",
      "\n",
      "\n",
      "I cannot provide a rating for a book topic as I am a play critic. Please provide a play title for me to rate. Thank you.\n"
     ]
    }
   ],
   "source": [
    "MODEL = \"gpt-3.5-turbo\"\n",
    "MAX_TOKENS = 15\n",
    "temp = 0\n",
    "\n",
    "llm = OpenAI()\n",
    "\n",
    "template = \"\"\"You are an author of books. You are given a topic and it is your job to write a title for a book on that topic. ONLY give the title.\n",
    "    Title: {topic}\n",
    "    Atuhor: This is a title for a book on the above topic:\"\"\"\n",
    "promptTemplate = PromptTemplate(input_variables=[\"topic\"], template=template)\n",
    "topic_chain = LLMChain(llm = llm, prompt = promptTemplate)\n",
    "\n",
    "template = \"\"\"You are a play critic from the New York Times. Given the title of play, it is your job to rate that title from 1-5. ONLY provide the rating.\n",
    " \n",
    "    Book Topic:\n",
    "    {topic}\n",
    "    Rating from a New York Times play critic of the above title:\"\"\"\n",
    "\n",
    "promptTemplate = PromptTemplate(input_variables=[\"topic\"], template=template)\n",
    "review_chain = LLMChain(llm = llm, prompt = promptTemplate)\n",
    "\n",
    "overall_chain = SimpleSequentialChain(chains = [topic_chain, review_chain])\n",
    "\n",
    "review = overall_chain.run(\"Wizards\", callbacks = [handler])\n",
    "print(review)\n",
    "\n",
    "handler.langfuse.flush()"
   ]
  },
  {
   "cell_type": "code",
   "execution_count": 16,
   "metadata": {},
   "outputs": [
    {
     "name": "stdout",
     "output_type": "stream",
     "text": [
      "Hello! How can I assist you today?\n"
     ]
    }
   ],
   "source": [
    "model = \"gpt-3.5-turbo\"\n",
    "max_tokens = 15\n",
    "temp = 0\n",
    "\n",
    "llm = ChatOpenAI(model_name = model, temperature = temp, max_tokens=max_tokens)\n",
    "\n",
    "template = \"\"\"Hi {name}!\"\"\"\n",
    "prompt = PromptTemplate(input_variables=[\"name\"], \n",
    "                        template=template)\n",
    "chain = LLMChain(llm = llm, prompt = prompt, callbacks=[handler])\n",
    "\n",
    "response = chain.run(name = \"Tim\", callbacks = [handler])\n",
    "print(response)\n",
    "\n"
   ]
  }
 ],
 "metadata": {
  "kernelspec": {
   "display_name": "Python 3",
   "language": "python",
   "name": "python3"
  },
  "language_info": {
   "codemirror_mode": {
    "name": "ipython",
    "version": 3
   },
   "file_extension": ".py",
   "mimetype": "text/x-python",
   "name": "python",
   "nbconvert_exporter": "python",
   "pygments_lexer": "ipython3",
   "version": "3.12.2"
  }
 },
 "nbformat": 4,
 "nbformat_minor": 2
}
