{
 "cells": [
  {
   "cell_type": "code",
   "execution_count": 20,
   "metadata": {},
   "outputs": [
    {
     "name": "stdout",
     "output_type": "stream",
     "text": [
      "0\n",
      "32\n",
      "55\n",
      "72\n",
      "84\n",
      "114\n",
      "125\n",
      "148\n",
      "159\n",
      "189\n",
      "207\n",
      "230\n",
      "251\n",
      "264\n",
      "291\n",
      "302\n",
      "331\n",
      "346\n",
      "365\n",
      "390\n",
      "406\n",
      "430\n",
      "437\n",
      "450\n",
      "476\n",
      "483\n",
      "493\n",
      "500\n",
      "512\n",
      "523\n",
      "543\n",
      "556\n",
      "569\n",
      "580\n",
      "594\n",
      "606\n",
      "619\n",
      "632\n",
      "639\n",
      "652\n",
      "659\n",
      "669\n",
      "676\n",
      "695\n",
      "702\n",
      "708\n",
      "715\n",
      "733\n",
      "760\n",
      "789\n",
      "815\n",
      "824\n",
      "834\n",
      "847\n",
      "860\n",
      "870\n",
      "889\n",
      "902\n",
      "909\n",
      "916\n",
      "929\n",
      "943\n",
      "950\n",
      "957\n",
      "973\n",
      "988\n",
      "999\n",
      "1024\n",
      "1031\n",
      "1038\n",
      "1048\n",
      "   table_index                      table_name  column_index_left  \\\n",
      "0            0  57938705_0_8737506792349461963                  9   \n",
      "1            1  57938705_0_8737506792349461963                  3   \n",
      "2            2  57938705_0_8737506792349461963                  2   \n",
      "3            3  57938705_0_8737506792349461963                  1   \n",
      "4            4  57938705_0_8737506792349461963                  4   \n",
      "\n",
      "   column_index_right  y_true  y_pred  prompt_name  prompt  \\\n",
      "0                   0    True     NaN          NaN     NaN   \n",
      "1                   0   False     NaN          NaN     NaN   \n",
      "2                   0   False     NaN          NaN     NaN   \n",
      "3                   0   False     NaN          NaN     NaN   \n",
      "4                   0   False     NaN          NaN     NaN   \n",
      "\n",
      "                                      column_table_A  \\\n",
      "0  462.06 | Super Mario Land | Nintendogs | Wii F...   \n",
      "1         143.65 | 1989.0 | 2005.0 | 2009.0 | 2005.0   \n",
      "2  70.32 | Platform | Simulation | Sports | Simul...   \n",
      "3                        256.81 | GB | DS | Wii | DS   \n",
      "4  932.83 | Nintendo | Nintendo | Nintendo | Nint...   \n",
      "\n",
      "                                      column_table_B  \\\n",
      "0  Cafe Little Wish | PowerWash Simulator | Castl...   \n",
      "1  Cafe Little Wish | PowerWash Simulator | Castl...   \n",
      "2  Cafe Little Wish | PowerWash Simulator | Castl...   \n",
      "3  Cafe Little Wish | PowerWash Simulator | Castl...   \n",
      "4  Cafe Little Wish | PowerWash Simulator | Castl...   \n",
      "\n",
      "                                             table_A  \\\n",
      "0  | Column A-0   | Column A-1   | Column A-2   |...   \n",
      "1                                                      \n",
      "2                                                      \n",
      "3                                                      \n",
      "4                                                      \n",
      "\n",
      "                                             table_B  \n",
      "0  | Column B-0                                  ...  \n",
      "1                                                     \n",
      "2                                                     \n",
      "3                                                     \n",
      "4                                                     \n"
     ]
    }
   ],
   "source": [
    "# File to pre-process the tables for the baseline analysis on the trainings dataset - works only after the columns pre-processing was conducted\n",
    "\n",
    "from tabulate import tabulate\n",
    "import pandas as pd\n",
    "from tabulate import tabulate\n",
    "\n",
    "\n",
    "def table_format_og(df, type):\n",
    "    num_columns = df.shape[1]\n",
    "    for i in range(num_columns):\n",
    "       df.rename(columns={ str(i) : 'Column ' + type + '-' + str(i)}, inplace=True)\n",
    "    random_rows = df.sample(n=5, random_state=41)\n",
    "    df_destination = pd.DataFrame(random_rows)\n",
    "    table_str = tabulate(df_destination, headers='keys', tablefmt='pipe', showindex=False)\n",
    "    return table_str\n",
    "\n",
    "# Load the .env file\n",
    "\n",
    "DATA_PATH = \"../../Datasets/t2d_sm_nh/train/train_correspondences_sample.csv\"\n",
    "OUTPUT_PATH = \"../../Datasets/t2d_sm_nh/train/train_correspondences_sample.csv\"\n",
    "DB_PEDIA_PATH = \"../../Datasets/t2d_sm_nh/train/dbpedia_tables/{name}.csv\"\n",
    "WEBTABLES_PATH = \"../../Datasets/t2d_sm_nh/train/webtables/{name}.csv\"\n",
    "df = pd.read_csv(DATA_PATH)\n",
    "#sample_df = df.sample(n=450, random_state=41)\n",
    "#sample_df.reset_index(drop=True, inplace=True)\n",
    "df['table_A'] = \"\"\n",
    "df['table_B'] = \"\"\n",
    "\n",
    "last = None\n",
    "for i in range (len(df)):\n",
    "    row = df.iloc[i]\n",
    "    if row['table_name'] == last:\n",
    "        continue    \n",
    "    last = row['table_name']\n",
    "    table_name = row['table_name']\n",
    "    table_path = WEBTABLES_PATH.format(name=table_name)\n",
    "    pedia_path = DB_PEDIA_PATH.format(name=table_name)\n",
    "    table = pd.read_csv(table_path)\n",
    "    table_A = table_format_og(table, 'A')\n",
    "    pedia = pd.read_csv(pedia_path)\n",
    "    table_B = table_format_og(pedia, 'B')\n",
    "    \n",
    "    df.loc[i, 'table_A'] = table_A\n",
    "    df.loc[i, 'table_B'] = table_B\n",
    "    print(i)\n",
    "    if (i == 2):\n",
    "       break\n",
    "\n",
    "print(df.head())\n",
    "\n",
    "\n",
    "\n"
   ]
  },
  {
   "cell_type": "code",
   "execution_count": 21,
   "metadata": {},
   "outputs": [
    {
     "name": "stdout",
     "output_type": "stream",
     "text": [
      "| Column A-0   | Column A-1   | Column A-2   |   Column A-3 | Column A-4   |   Column A-5 |   Column A-6 |   Column A-7 |   Column A-8 | Column A-9                  |   Column A-10 |\n",
      "|:-------------|:-------------|:-------------|-------------:|:-------------|-------------:|-------------:|-------------:|-------------:|:----------------------------|--------------:|\n",
      "| Total        | 256.81       | 70.32        |       143.65 | 932.83       |       nan    |       nan    |       nan    |       nan    | 462.06                      |        nan    |\n",
      "| 19           | GB           | Platform     |      1989    | Nintendo     |         4.18 |        18.14 |        10.83 |         2.71 | Super Mario Land            |          0.42 |\n",
      "| 10           | DS           | Simulation   |      2005    | Nintendo     |         1.93 |        24.37 |         9.01 |        10.71 | Nintendogs                  |          2.72 |\n",
      "| 15           | Wii          | Sports       |      2009    | Nintendo     |         2.49 |        21.17 |         8.7  |         7.79 | Wii Fit Plus                |          2.2  |\n",
      "| 34           | DS           | Simulation   |      2005    | Nintendo     |         5.33 |        11.74 |         2.42 |         3.17 | Animal Crossing: Wild World |          0.83 |\n"
     ]
    }
   ],
   "source": [
    "print(df['table_A'][0])"
   ]
  },
  {
   "cell_type": "code",
   "execution_count": 22,
   "metadata": {},
   "outputs": [
    {
     "name": "stdout",
     "output_type": "stream",
     "text": [
      "462.06 | Super Mario Land | Nintendogs | Wii Fit Plus | Animal Crossing: Wild World\n"
     ]
    }
   ],
   "source": [
    "print(df['column_table_A'][0])"
   ]
  },
  {
   "cell_type": "code",
   "execution_count": 23,
   "metadata": {},
   "outputs": [
    {
     "name": "stdout",
     "output_type": "stream",
     "text": [
      "   table_index                      table_name  column_index_left  \\\n",
      "0            0  57938705_0_8737506792349461963                  9   \n",
      "1            1  57938705_0_8737506792349461963                  3   \n",
      "2            2  57938705_0_8737506792349461963                  2   \n",
      "3            3  57938705_0_8737506792349461963                  1   \n",
      "4            4  57938705_0_8737506792349461963                  4   \n",
      "\n",
      "   column_index_right  y_true  y_pred  prompt_name  prompt  \\\n",
      "0                   0    True     NaN          NaN     NaN   \n",
      "1                   0   False     NaN          NaN     NaN   \n",
      "2                   0   False     NaN          NaN     NaN   \n",
      "3                   0   False     NaN          NaN     NaN   \n",
      "4                   0   False     NaN          NaN     NaN   \n",
      "\n",
      "                                      column_table_A  \\\n",
      "0  462.06 | Super Mario Land | Nintendogs | Wii F...   \n",
      "1         143.65 | 1989.0 | 2005.0 | 2009.0 | 2005.0   \n",
      "2  70.32 | Platform | Simulation | Sports | Simul...   \n",
      "3                        256.81 | GB | DS | Wii | DS   \n",
      "4  932.83 | Nintendo | Nintendo | Nintendo | Nint...   \n",
      "\n",
      "                                      column_table_B  \\\n",
      "0  Cafe Little Wish | PowerWash Simulator | Castl...   \n",
      "1  Cafe Little Wish | PowerWash Simulator | Castl...   \n",
      "2  Cafe Little Wish | PowerWash Simulator | Castl...   \n",
      "3  Cafe Little Wish | PowerWash Simulator | Castl...   \n",
      "4  Cafe Little Wish | PowerWash Simulator | Castl...   \n",
      "\n",
      "                                             table_A  \\\n",
      "0  | Column A-0   | Column A-1   | Column A-2   |...   \n",
      "1                                                      \n",
      "2                                                      \n",
      "3                                                      \n",
      "4                                                      \n",
      "\n",
      "                                             table_B  \n",
      "0  | Column B-0                                  ...  \n",
      "1                                                     \n",
      "2                                                     \n",
      "3                                                     \n",
      "4                                                     \n"
     ]
    }
   ],
   "source": [
    "print(df.head())"
   ]
  },
  {
   "cell_type": "code",
   "execution_count": 24,
   "metadata": {},
   "outputs": [
    {
     "name": "stdout",
     "output_type": "stream",
     "text": [
      "y_true\n",
      "False    878\n",
      "True     177\n",
      "Name: count, dtype: int64\n"
     ]
    }
   ],
   "source": [
    "print(df['y_true'].value_counts())\n"
   ]
  },
  {
   "cell_type": "code",
   "execution_count": 4,
   "metadata": {},
   "outputs": [],
   "source": [
    "\n",
    "# Save df in output path\n",
    "df.to_csv(OUTPUT_PATH, index=False)"
   ]
  },
  {
   "cell_type": "code",
   "execution_count": null,
   "metadata": {},
   "outputs": [],
   "source": []
  }
 ],
 "metadata": {
  "kernelspec": {
   "display_name": "Python 3",
   "language": "python",
   "name": "python3"
  },
  "language_info": {
   "codemirror_mode": {
    "name": "ipython",
    "version": 3
   },
   "file_extension": ".py",
   "mimetype": "text/x-python",
   "name": "python",
   "nbconvert_exporter": "python",
   "pygments_lexer": "ipython3",
   "version": "3.12.2"
  }
 },
 "nbformat": 4,
 "nbformat_minor": 2
}
