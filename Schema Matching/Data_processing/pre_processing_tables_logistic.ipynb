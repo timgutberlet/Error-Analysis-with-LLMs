{
 "cells": [
  {
   "cell_type": "code",
   "execution_count": 1,
   "metadata": {},
   "outputs": [
    {
     "name": "stdout",
     "output_type": "stream",
     "text": [
      "0\n",
      "12\n",
      "26\n",
      "50\n",
      "82\n",
      "94\n",
      "111\n",
      "137\n",
      "149\n",
      "168\n",
      "185\n",
      "198\n",
      "235\n",
      "241\n",
      "256\n",
      "274\n",
      "294\n",
      "309\n",
      "324\n",
      "346\n",
      "360\n",
      "372\n",
      "384\n",
      "395\n",
      "408\n",
      "425\n",
      "432\n",
      "445\n",
      "   table_index                      table_name  column_index_left  \\\n",
      "0            0  29021592_3_2299138476894681059                  0   \n",
      "1            1  29021592_3_2299138476894681059                  3   \n",
      "2            2  29021592_3_2299138476894681059                  4   \n",
      "3            3  29021592_3_2299138476894681059                  2   \n",
      "4            4  29021592_3_2299138476894681059                  0   \n",
      "\n",
      "   column_index_right  y_true  y_pred  prompt_name  prompt  \\\n",
      "0                   0    True     NaN          NaN     NaN   \n",
      "1                   0   False     NaN          NaN     NaN   \n",
      "2                   0   False     NaN          NaN     NaN   \n",
      "3                   0   False     NaN          NaN     NaN   \n",
      "4                   3   False     NaN          NaN     NaN   \n",
      "\n",
      "                                      column_table_A  \\\n",
      "0        Domitian | Nerva | Hadrian | Trajan | Titus   \n",
      "1  Titus Flavius Domitianus | Marcus Cocceius Ner...   \n",
      "2              81-96 | 96-8 | 117-8 | 98-117 | 79-81   \n",
      "3                        nan | nan | nan | nan | nan   \n",
      "4        Domitian | Nerva | Hadrian | Trajan | Titus   \n",
      "\n",
      "                                      column_table_B  \\\n",
      "0  Trajan | Titus | Marcus Silius Messala | Vespa...   \n",
      "1  Trajan | Titus | Marcus Silius Messala | Vespa...   \n",
      "2  Trajan | Titus | Marcus Silius Messala | Vespa...   \n",
      "3  Trajan | Titus | Marcus Silius Messala | Vespa...   \n",
      "4  Imperator Caesar Nerva Traianus Augustus | Imp...   \n",
      "\n",
      "                                             table_A  \\\n",
      "0  | Column A-0   | Column A-1        |   Column ...   \n",
      "1                                                      \n",
      "2                                                      \n",
      "3                                                      \n",
      "4                                                      \n",
      "\n",
      "                                             table_B  \n",
      "0  | Column B-0            |   Column B-1 | Colum...  \n",
      "1                                                     \n",
      "2                                                     \n",
      "3                                                     \n",
      "4                                                     \n"
     ]
    }
   ],
   "source": [
    "# File to pre-process the tables for the logistic regression baseline analysis - works only after the columns pre-processing was conducted\n",
    "\n",
    "from tabulate import tabulate\n",
    "import pandas as pd\n",
    "from tabulate import tabulate\n",
    "\n",
    "\n",
    "def table_format_og(df, type):\n",
    "    num_columns = df.shape[1]\n",
    "    for i in range(num_columns):\n",
    "       df.rename(columns={ str(i) : 'Column ' + type + '-' + str(i)}, inplace=True)\n",
    "    random_rows = df.sample(n=5, random_state=41)\n",
    "    df_destination = pd.DataFrame(random_rows)\n",
    "    table_str = tabulate(df_destination, headers='keys', tablefmt='pipe', showindex=False)\n",
    "    return table_str\n",
    "\n",
    "# Load the .env file\n",
    "\n",
    "DATA_PATH = \"../../Datasets/t2d_sm_nh/test/test_correspondences_sample_logistic.csv\"\n",
    "OUTPUT_PATH = \"../../Datasets/t2d_sm_nh/test/test_correspondences_sample_logistic.csv\"\n",
    "DB_PEDIA_PATH = \"../../Datasets/t2d_sm_nh/test/dbpedia_tables/{name}.csv\"\n",
    "WEBTABLES_PATH = \"../../Datasets/t2d_sm_nh/test/webtables/{name}.csv\"\n",
    "df = pd.read_csv(DATA_PATH)\n",
    "#sample_df = df.sample(n=450, random_state=41)\n",
    "#sample_df.reset_index(drop=True, inplace=True)\n",
    "df['table_A'] = \"\"\n",
    "df['table_B'] = \"\"\n",
    "\n",
    "last = None\n",
    "for i in range (len(df)):\n",
    "    row = df.iloc[i]\n",
    "    if row['table_name'] == last:\n",
    "        continue    \n",
    "    last = row['table_name']\n",
    "    table_name = row['table_name']\n",
    "    table_path = WEBTABLES_PATH.format(name=table_name)\n",
    "    pedia_path = DB_PEDIA_PATH.format(name=table_name)\n",
    "    table = pd.read_csv(table_path)\n",
    "    table_A = table_format_og(table, 'A')\n",
    "    pedia = pd.read_csv(pedia_path)\n",
    "    table_B = table_format_og(pedia, 'B')\n",
    "    \n",
    "    df.loc[i, 'table_A'] = table_A\n",
    "    df.loc[i, 'table_B'] = table_B\n",
    "    print(i)\n",
    "    if (i == 2):\n",
    "       break\n",
    "\n",
    "print(df.head())\n",
    "\n",
    "\n",
    "\n"
   ]
  },
  {
   "cell_type": "code",
   "execution_count": 2,
   "metadata": {},
   "outputs": [
    {
     "name": "stdout",
     "output_type": "stream",
     "text": [
      "| Column B-0            |   Column B-1 | Column B-2                                          | Column B-3                                  | Column B-4                | Column B-5                 |\n",
      "|:----------------------|-------------:|:----------------------------------------------------|:--------------------------------------------|:--------------------------|:---------------------------|\n",
      "| Trajan                |         9811 | nan                                                 | Imperator Caesar Nerva Traianus Augustus    | Marcia (mother of Trajan) | Hispania Baetica, Italica, |\n",
      "| Titus                 |         1979 | Titus Flavius Vespasianus, Titus Caesar Vespasianus | Imperator Titus Caesar Vespasianus Augustus | Domitilla the Elder       | Roman Italy, Rome          |\n",
      "| Marcus Silius Messala |          nan | nan                                                 | nan                                         | nan                       | nan                        |\n",
      "| Vespasian             |         1969 | Titus Flavius Vespasianus                           | Imperator Caesar Vespasianus Augustus       | Vespasia Polla            | Roman Italy, Falacrina     |\n",
      "| Nerva                 |         1996 | nan                                                 | Imperator Nerva Caesar Augustus             | Sergia Plautilla          | Roman Italy, Narni         |\n"
     ]
    }
   ],
   "source": [
    "print(df['table_B'][0])"
   ]
  },
  {
   "cell_type": "code",
   "execution_count": 3,
   "metadata": {},
   "outputs": [
    {
     "name": "stdout",
     "output_type": "stream",
     "text": [
      "Trajan | Titus | Marcus Silius Messala | Vespasian | Nerva\n"
     ]
    }
   ],
   "source": [
    "print(df['column_table_B'][0])"
   ]
  },
  {
   "cell_type": "code",
   "execution_count": 4,
   "metadata": {},
   "outputs": [
    {
     "name": "stdout",
     "output_type": "stream",
     "text": [
      "y_true\n",
      "False    371\n",
      "True      79\n",
      "Name: count, dtype: int64\n"
     ]
    }
   ],
   "source": [
    "print(df['y_true'].value_counts())\n"
   ]
  },
  {
   "cell_type": "code",
   "execution_count": 7,
   "metadata": {},
   "outputs": [],
   "source": [
    "\n",
    "# Save df in output path\n",
    "df.to_csv(OUTPUT_PATH, index=False)"
   ]
  }
 ],
 "metadata": {
  "kernelspec": {
   "display_name": "Python 3",
   "language": "python",
   "name": "python3"
  },
  "language_info": {
   "codemirror_mode": {
    "name": "ipython",
    "version": 3
   },
   "file_extension": ".py",
   "mimetype": "text/x-python",
   "name": "python",
   "nbconvert_exporter": "python",
   "pygments_lexer": "ipython3",
   "version": "3.12.2"
  }
 },
 "nbformat": 4,
 "nbformat_minor": 2
}
