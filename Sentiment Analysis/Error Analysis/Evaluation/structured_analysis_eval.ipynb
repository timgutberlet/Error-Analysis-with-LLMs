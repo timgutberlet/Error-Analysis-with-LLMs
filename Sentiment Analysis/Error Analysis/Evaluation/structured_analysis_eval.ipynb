{
 "cells": [
  {
   "cell_type": "code",
   "execution_count": 1,
   "metadata": {},
   "outputs": [],
   "source": [
    "import pandas as pd\n",
    "\n",
    "dataname = \"structured_unstructured_singleterm_zeroshot_gpt-4-turbo-preview\"\n",
    "\n",
    "DATA_PATH = f\"../../../Datasets/Evaluations/Sentiment Analysis/Error_Analysis/structured_unstructured/{dataname}.csv\"\n"
   ]
  },
  {
   "cell_type": "code",
   "execution_count": 2,
   "metadata": {},
   "outputs": [],
   "source": [
    "df = pd.read_csv(DATA_PATH)"
   ]
  },
  {
   "cell_type": "code",
   "execution_count": 3,
   "metadata": {},
   "outputs": [
    {
     "data": {
      "text/html": [
       "<div>\n",
       "<style scoped>\n",
       "    .dataframe tbody tr th:only-of-type {\n",
       "        vertical-align: middle;\n",
       "    }\n",
       "\n",
       "    .dataframe tbody tr th {\n",
       "        vertical-align: top;\n",
       "    }\n",
       "\n",
       "    .dataframe thead th {\n",
       "        text-align: right;\n",
       "    }\n",
       "</style>\n",
       "<table border=\"1\" class=\"dataframe\">\n",
       "  <thead>\n",
       "    <tr style=\"text-align: right;\">\n",
       "      <th></th>\n",
       "      <th>Unnamed: 0</th>\n",
       "      <th>text_id</th>\n",
       "      <th>term_id</th>\n",
       "      <th>text</th>\n",
       "      <th>term</th>\n",
       "      <th>polarity</th>\n",
       "      <th>polarity_pred</th>\n",
       "      <th>prompt_name</th>\n",
       "      <th>prompt</th>\n",
       "      <th>error</th>\n",
       "      <th>structured_analysis</th>\n",
       "      <th>unstructured_analysis</th>\n",
       "    </tr>\n",
       "  </thead>\n",
       "  <tbody>\n",
       "    <tr>\n",
       "      <th>0</th>\n",
       "      <td>153</td>\n",
       "      <td>60</td>\n",
       "      <td>153</td>\n",
       "      <td>We had no problems with our resevations and fo...</td>\n",
       "      <td>service</td>\n",
       "      <td>neutral</td>\n",
       "      <td>positive</td>\n",
       "      <td>prompt_3_zeroshot_single_term</td>\n",
       "      <td>We had no problems with our resevations and fo...</td>\n",
       "      <td>error</td>\n",
       "      <td>[\\n{\"service\":\"well worth a wait\",\"importance\"...</td>\n",
       "      <td>I made the prediction based on the positive se...</td>\n",
       "    </tr>\n",
       "    <tr>\n",
       "      <th>1</th>\n",
       "      <td>291</td>\n",
       "      <td>112</td>\n",
       "      <td>291</td>\n",
       "      <td>My husband and I had dinner here last week and...</td>\n",
       "      <td>dinner</td>\n",
       "      <td>neutral</td>\n",
       "      <td>positive</td>\n",
       "      <td>prompt_3_zeroshot_single_term</td>\n",
       "      <td>My husband and I had dinner here last week and...</td>\n",
       "      <td>error</td>\n",
       "      <td>[\\n{\"food\":\"0.70\"},\\n{\"good\":\"0.30\"}\\n]</td>\n",
       "      <td>I made the prediction based on the words \"very...</td>\n",
       "    </tr>\n",
       "    <tr>\n",
       "      <th>2</th>\n",
       "      <td>275</td>\n",
       "      <td>105</td>\n",
       "      <td>275</td>\n",
       "      <td>The Scene Shun Lee Palace is popular with midt...</td>\n",
       "      <td>lunch</td>\n",
       "      <td>neutral</td>\n",
       "      <td>positive</td>\n",
       "      <td>prompt_3_zeroshot_single_term</td>\n",
       "      <td>The Scene Shun Lee Palace is popular with midt...</td>\n",
       "      <td>error</td>\n",
       "      <td>[\\n{\"upscale room\": \"0.40\"},\\n{\"impress a clie...</td>\n",
       "      <td>I made the prediction based on the positive as...</td>\n",
       "    </tr>\n",
       "    <tr>\n",
       "      <th>3</th>\n",
       "      <td>55</td>\n",
       "      <td>19</td>\n",
       "      <td>55</td>\n",
       "      <td>When I asked the waitress, she told me they co...</td>\n",
       "      <td>salmon</td>\n",
       "      <td>negative</td>\n",
       "      <td>neutral</td>\n",
       "      <td>prompt_3_zeroshot_single_term</td>\n",
       "      <td>When I asked the waitress, she told me they co...</td>\n",
       "      <td>error</td>\n",
       "      <td>[\\n{\"afford\",\"importance\":\"0.5\"},\\n{\"changed\",...</td>\n",
       "      <td>I determined the sentiment as \"neutral\" based ...</td>\n",
       "    </tr>\n",
       "    <tr>\n",
       "      <th>4</th>\n",
       "      <td>131</td>\n",
       "      <td>50</td>\n",
       "      <td>131</td>\n",
       "      <td>Next, follow up with another Cosmo and try the...</td>\n",
       "      <td>Hawaiian rib</td>\n",
       "      <td>neutral</td>\n",
       "      <td>positive</td>\n",
       "      <td>prompt_3_zeroshot_single_term</td>\n",
       "      <td>Next, follow up with another Cosmo and try the...</td>\n",
       "      <td>error</td>\n",
       "      <td>[\\n{\"Hawaiian rib eye\": \"0.9\"},\\n{\"delicious\":...</td>\n",
       "      <td>I made my prediction based on the positive con...</td>\n",
       "    </tr>\n",
       "  </tbody>\n",
       "</table>\n",
       "</div>"
      ],
      "text/plain": [
       "   Unnamed: 0  text_id  term_id  \\\n",
       "0         153       60      153   \n",
       "1         291      112      291   \n",
       "2         275      105      275   \n",
       "3          55       19       55   \n",
       "4         131       50      131   \n",
       "\n",
       "                                                text          term  polarity  \\\n",
       "0  We had no problems with our resevations and fo...       service   neutral   \n",
       "1  My husband and I had dinner here last week and...        dinner   neutral   \n",
       "2  The Scene Shun Lee Palace is popular with midt...         lunch   neutral   \n",
       "3  When I asked the waitress, she told me they co...        salmon  negative   \n",
       "4  Next, follow up with another Cosmo and try the...  Hawaiian rib   neutral   \n",
       "\n",
       "  polarity_pred                    prompt_name  \\\n",
       "0      positive  prompt_3_zeroshot_single_term   \n",
       "1      positive  prompt_3_zeroshot_single_term   \n",
       "2      positive  prompt_3_zeroshot_single_term   \n",
       "3       neutral  prompt_3_zeroshot_single_term   \n",
       "4      positive  prompt_3_zeroshot_single_term   \n",
       "\n",
       "                                              prompt  error  \\\n",
       "0  We had no problems with our resevations and fo...  error   \n",
       "1  My husband and I had dinner here last week and...  error   \n",
       "2  The Scene Shun Lee Palace is popular with midt...  error   \n",
       "3  When I asked the waitress, she told me they co...  error   \n",
       "4  Next, follow up with another Cosmo and try the...  error   \n",
       "\n",
       "                                 structured_analysis  \\\n",
       "0  [\\n{\"service\":\"well worth a wait\",\"importance\"...   \n",
       "1            [\\n{\"food\":\"0.70\"},\\n{\"good\":\"0.30\"}\\n]   \n",
       "2  [\\n{\"upscale room\": \"0.40\"},\\n{\"impress a clie...   \n",
       "3  [\\n{\"afford\",\"importance\":\"0.5\"},\\n{\"changed\",...   \n",
       "4  [\\n{\"Hawaiian rib eye\": \"0.9\"},\\n{\"delicious\":...   \n",
       "\n",
       "                               unstructured_analysis  \n",
       "0  I made the prediction based on the positive se...  \n",
       "1  I made the prediction based on the words \"very...  \n",
       "2  I made the prediction based on the positive as...  \n",
       "3  I determined the sentiment as \"neutral\" based ...  \n",
       "4  I made my prediction based on the positive con...  "
      ]
     },
     "execution_count": 3,
     "metadata": {},
     "output_type": "execute_result"
    }
   ],
   "source": [
    "df.head()"
   ]
  },
  {
   "cell_type": "code",
   "execution_count": 21,
   "metadata": {},
   "outputs": [
    {
     "name": "stdout",
     "output_type": "stream",
     "text": [
      "[\n",
      "{\"food\":\"0.70\"},\n",
      "{\"good\":\"0.30\"}\n",
      "]\n"
     ]
    }
   ],
   "source": [
    "print(df['structured_analysis'][1])"
   ]
  },
  {
   "cell_type": "code",
   "execution_count": 25,
   "metadata": {},
   "outputs": [
    {
     "name": "stdout",
     "output_type": "stream",
     "text": [
      "            attribute         importance\n",
      "0             service  well worth a wait\n",
      "1                food               0.70\n",
      "2                good               0.30\n",
      "3        upscale room               0.40\n",
      "4    impress a client               0.30\n",
      "..                ...                ...\n",
      "231     dissapointing                0.2\n",
      "232             chole                0.4\n",
      "233          delicate                0.4\n",
      "234            subtle                0.4\n",
      "235           dessert                0.2\n",
      "\n",
      "[236 rows x 2 columns]\n"
     ]
    }
   ],
   "source": [
    "import pandas as pd\n",
    "import json\n",
    "# Function to parse and extract attributes and importance scores\n",
    "def extract_attributes(s):\n",
    "    try:\n",
    "        # Parse the JSON string\n",
    "        parsed = json.loads(s)\n",
    "        # Extract attributes and importance scores\n",
    "        return [(dct[list(dct.keys())[0]], list(dct.keys())[0]) for dct in parsed]\n",
    "    except (json.JSONDecodeError, TypeError):\n",
    "        # Return None or an empty list if there's a parsing error or unexpected format\n",
    "        return None\n",
    "\n",
    "# Apply the function to each row and expand the lists into a new dataframe\n",
    "attributes_list = df['structured_analysis'].apply(extract_attributes)\n",
    "\n",
    "# Initialize lists to hold the extracted data\n",
    "attributes = []\n",
    "importances = []\n",
    "\n",
    "# Loop through the lists, adding data to the attributes and importances lists\n",
    "for item in attributes_list:\n",
    "    if item is not None:  # Only proceed if the item is not None\n",
    "        for importance, attribute in item:\n",
    "            attributes.append(attribute)\n",
    "            importances.append(importance)\n",
    "\n",
    "# Create the new dataframe\n",
    "df_values = pd.DataFrame({\n",
    "    'attribute': attributes,\n",
    "    'importance': importances\n",
    "})\n",
    "\n",
    "print(df_values)"
   ]
  },
  {
   "cell_type": "code",
   "execution_count": 27,
   "metadata": {},
   "outputs": [
    {
     "name": "stdout",
     "output_type": "stream",
     "text": [
      "  attribute  occurrence_count  average_importance  std_importance\n",
      "0      food                 2               0.725        0.035355\n",
      "1      good                 1               0.300        0.000000\n",
      "2   quality                 1               0.200        0.000000\n",
      "3   service                 1               0.800        0.000000\n"
     ]
    },
    {
     "name": "stderr",
     "output_type": "stream",
     "text": [
      "/var/folders/pw/9fnphybj4kq8t6wt3h592_9r0000gn/T/ipykernel_2313/2171538453.py:19: FutureWarning: A value is trying to be set on a copy of a DataFrame or Series through chained assignment using an inplace method.\n",
      "The behavior will change in pandas 3.0. This inplace method will never work because the intermediate object on which we are setting values always behaves as a copy.\n",
      "\n",
      "For example, when doing 'df[col].method(value, inplace=True)', try using 'df.method({col: value}, inplace=True)' or df[col] = df[col].method(value) instead, to perform the operation inplace on the original object.\n",
      "\n",
      "\n",
      "  summary_df['std_importance'].fillna(0, inplace=True)\n"
     ]
    }
   ],
   "source": [
    "import pandas as pd\n",
    "import numpy as np\n",
    "\n",
    "# Assuming df_values is already created and cleaned as per the previous steps\n",
    "# Example df_values for illustration (cleaned version)\n",
    "df_values = pd.DataFrame({\n",
    "    'attribute': ['food', 'good', 'service', 'quality', 'food'],\n",
    "    'importance': [0.70, 0.30, 0.80, 0.20, 0.75]\n",
    "})\n",
    "\n",
    "# Group by attribute and calculate required statistics\n",
    "summary_df = df_values.groupby('attribute').agg(\n",
    "    occurrence_count=('attribute', 'size'),\n",
    "    average_importance=('importance', 'mean'),\n",
    "    std_importance=('importance', 'std')\n",
    ").reset_index()\n",
    "\n",
    "# Replace NaN in std_importance with 0 (occurs when there's only one occurrence of an attribute)\n",
    "summary_df['std_importance'].fillna(0, inplace=True)\n",
    "\n",
    "# Sort by occurrence count in descending order\n",
    "summary_df = summary_df.sort_values(by='occurrence_count', ascending=False).reset_index(drop=True)\n",
    "\n",
    "print(summary_df)\n"
   ]
  },
  {
   "cell_type": "code",
   "execution_count": 28,
   "metadata": {},
   "outputs": [
    {
     "name": "stdout",
     "output_type": "stream",
     "text": [
      "Overall Mean Importance: 0.55\n",
      "Overall Standard Deviation of Importance: 0.2783882181415011\n",
      "Overall Variance of Importance: 0.0775\n"
     ]
    }
   ],
   "source": [
    "# Calculate overall mean, std, and var of importance scores\n",
    "overall_mean = df_values['importance'].mean()\n",
    "overall_std = df_values['importance'].std()\n",
    "overall_var = df_values['importance'].var()\n",
    "\n",
    "print(f\"Overall Mean Importance: {overall_mean}\")\n",
    "print(f\"Overall Standard Deviation of Importance: {overall_std}\")\n",
    "print(f\"Overall Variance of Importance: {overall_var}\")\n",
    "\n"
   ]
  }
 ],
 "metadata": {
  "kernelspec": {
   "display_name": "Python 3",
   "language": "python",
   "name": "python3"
  },
  "language_info": {
   "codemirror_mode": {
    "name": "ipython",
    "version": 3
   },
   "file_extension": ".py",
   "mimetype": "text/x-python",
   "name": "python",
   "nbconvert_exporter": "python",
   "pygments_lexer": "ipython3",
   "version": "3.12.2"
  }
 },
 "nbformat": 4,
 "nbformat_minor": 2
}
