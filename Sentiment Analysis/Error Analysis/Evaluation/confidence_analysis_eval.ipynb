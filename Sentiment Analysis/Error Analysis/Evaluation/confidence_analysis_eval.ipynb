{
 "cells": [
  {
   "cell_type": "code",
   "execution_count": 59,
   "metadata": {},
   "outputs": [],
   "source": [
    "import pandas as pd\n",
    "\n",
    "file = \"confidence_singleterm_dynamic_fewshot_4-turbo-preview_with_gpt-3.5-turbo\"\n",
    "INPUT_PATH = f\"../../../Datasets/Evaluations/Sentiment Analysis/Error_Analysis/{file}.csv\"\n",
    "OUTPUT_PATH = f\"../../../Datasets/Evaluations/Sentiment Analysis/Error_Analysis/Eval/confidence_analysis_{file}.csv\""
   ]
  },
  {
   "cell_type": "code",
   "execution_count": 61,
   "metadata": {},
   "outputs": [],
   "source": [
    "df = pd.read_csv(INPUT_PATH)"
   ]
  },
  {
   "cell_type": "code",
   "execution_count": 62,
   "metadata": {},
   "outputs": [
    {
     "name": "stdout",
     "output_type": "stream",
     "text": [
      "   Unnamed: 0.1  Unnamed: 0  text_id  term_id  \\\n",
      "0             0           0        0        0   \n",
      "1             1           1        0        1   \n",
      "2             2           2        0        2   \n",
      "3             3           3        0        3   \n",
      "4             4           4        1        4   \n",
      "\n",
      "                                                text  \\\n",
      "0  Amusing details distinguish desserts, from dul...   \n",
      "1  Amusing details distinguish desserts, from dul...   \n",
      "2  Amusing details distinguish desserts, from dul...   \n",
      "3  Amusing details distinguish desserts, from dul...   \n",
      "4  The server was so busy the night we visited th...   \n",
      "\n",
      "                          term  polarity  example1_term_id  \\\n",
      "0                     desserts  positive              9500   \n",
      "1     dulce de leche ice-cream   neutral              9500   \n",
      "2  chocolate sauce tic-tac-toe   neutral              9500   \n",
      "3            poached pineapple   neutral              9500   \n",
      "4                       server  negative              1211   \n",
      "\n",
      "                                     example1_prompt  example1_sim_score  \\\n",
      "0  Input: \"Food is mediocre, except for Mushroom ...            0.152772   \n",
      "1  Input: \"Food is mediocre, except for Mushroom ...            0.152772   \n",
      "2  Input: \"Food is mediocre, except for Mushroom ...            0.152772   \n",
      "3  Input: \"Food is mediocre, except for Mushroom ...            0.152772   \n",
      "4  Input: \"The server also forgot about our desse...            0.354028   \n",
      "\n",
      "   example2_term_id                                    example2_prompt  \\\n",
      "0              5385  Input: \"It was the WORST Sangria ever, and the...   \n",
      "1              5385  Input: \"It was the WORST Sangria ever, and the...   \n",
      "2              5385  Input: \"It was the WORST Sangria ever, and the...   \n",
      "3              5385  Input: \"It was the WORST Sangria ever, and the...   \n",
      "4              8639  Input: \"the 3rd however, the waiter forgot to ...   \n",
      "\n",
      "   example2_sim_score  example3_term_id  \\\n",
      "0            0.162247              1320   \n",
      "1            0.162247              1320   \n",
      "2            0.162247              1320   \n",
      "3            0.162247              1320   \n",
      "4            0.410810             10792   \n",
      "\n",
      "                                     example3_prompt  example3_sim_score  \\\n",
      "0  Input: \"The overpriced ice cream is delicious ...            0.166906   \n",
      "1  Input: \"The overpriced ice cream is delicious ...            0.166906   \n",
      "2  Input: \"The overpriced ice cream is delicious ...            0.166906   \n",
      "3  Input: \"The overpriced ice cream is delicious ...            0.166906   \n",
      "4  Input: \"We waited an hour for our appetizers, ...            0.416744   \n",
      "\n",
      "  polarity_pred                 prompt_name  \\\n",
      "0      positive  prompt_single_term_fewshot   \n",
      "1      positive  prompt_single_term_fewshot   \n",
      "2      positive  prompt_single_term_fewshot   \n",
      "3      positive  prompt_single_term_fewshot   \n",
      "4      negative  prompt_single_term_fewshot   \n",
      "\n",
      "                                              prompt         analysis  \n",
      "0  Example 1:\\nInput: \"Food is mediocre, except f...  Confidence: 90%  \n",
      "1  Example 1:\\nInput: \"Food is mediocre, except f...  Confidence: 90%  \n",
      "2  Example 1:\\nInput: \"Food is mediocre, except f...  Confidence: 90%  \n",
      "3  Example 1:\\nInput: \"Food is mediocre, except f...  Confidence: 90%  \n",
      "4  Example 1:\\nInput: \"The server also forgot abo...  Confidence: 90%  \n"
     ]
    }
   ],
   "source": [
    "print(df.head())"
   ]
  },
  {
   "cell_type": "code",
   "execution_count": 63,
   "metadata": {},
   "outputs": [],
   "source": [
    "\n",
    "def extract_numbers(text):\n",
    "    confidence = int(text.split(\"Confidence: \")[1].split(\"%\")[0])\n",
    "    return confidence\n",
    "\n",
    "df[['confidence']] = df['analysis'].apply(lambda x: pd.Series(extract_numbers(x)))\n"
   ]
  },
  {
   "cell_type": "code",
   "execution_count": 64,
   "metadata": {},
   "outputs": [
    {
     "name": "stdout",
     "output_type": "stream",
     "text": [
      "   Unnamed: 0.1  Unnamed: 0  text_id  term_id  \\\n",
      "0             0           0        0        0   \n",
      "1             1           1        0        1   \n",
      "2             2           2        0        2   \n",
      "3             3           3        0        3   \n",
      "4             4           4        1        4   \n",
      "\n",
      "                                                text  \\\n",
      "0  Amusing details distinguish desserts, from dul...   \n",
      "1  Amusing details distinguish desserts, from dul...   \n",
      "2  Amusing details distinguish desserts, from dul...   \n",
      "3  Amusing details distinguish desserts, from dul...   \n",
      "4  The server was so busy the night we visited th...   \n",
      "\n",
      "                          term  polarity  example1_term_id  \\\n",
      "0                     desserts  positive              9500   \n",
      "1     dulce de leche ice-cream   neutral              9500   \n",
      "2  chocolate sauce tic-tac-toe   neutral              9500   \n",
      "3            poached pineapple   neutral              9500   \n",
      "4                       server  negative              1211   \n",
      "\n",
      "                                     example1_prompt  example1_sim_score  ...  \\\n",
      "0  Input: \"Food is mediocre, except for Mushroom ...            0.152772  ...   \n",
      "1  Input: \"Food is mediocre, except for Mushroom ...            0.152772  ...   \n",
      "2  Input: \"Food is mediocre, except for Mushroom ...            0.152772  ...   \n",
      "3  Input: \"Food is mediocre, except for Mushroom ...            0.152772  ...   \n",
      "4  Input: \"The server also forgot about our desse...            0.354028  ...   \n",
      "\n",
      "   example2_sim_score example3_term_id  \\\n",
      "0            0.162247             1320   \n",
      "1            0.162247             1320   \n",
      "2            0.162247             1320   \n",
      "3            0.162247             1320   \n",
      "4            0.410810            10792   \n",
      "\n",
      "                                     example3_prompt  example3_sim_score  \\\n",
      "0  Input: \"The overpriced ice cream is delicious ...            0.166906   \n",
      "1  Input: \"The overpriced ice cream is delicious ...            0.166906   \n",
      "2  Input: \"The overpriced ice cream is delicious ...            0.166906   \n",
      "3  Input: \"The overpriced ice cream is delicious ...            0.166906   \n",
      "4  Input: \"We waited an hour for our appetizers, ...            0.416744   \n",
      "\n",
      "  polarity_pred                 prompt_name  \\\n",
      "0      positive  prompt_single_term_fewshot   \n",
      "1      positive  prompt_single_term_fewshot   \n",
      "2      positive  prompt_single_term_fewshot   \n",
      "3      positive  prompt_single_term_fewshot   \n",
      "4      negative  prompt_single_term_fewshot   \n",
      "\n",
      "                                              prompt         analysis  \\\n",
      "0  Example 1:\\nInput: \"Food is mediocre, except f...  Confidence: 90%   \n",
      "1  Example 1:\\nInput: \"Food is mediocre, except f...  Confidence: 90%   \n",
      "2  Example 1:\\nInput: \"Food is mediocre, except f...  Confidence: 90%   \n",
      "3  Example 1:\\nInput: \"Food is mediocre, except f...  Confidence: 90%   \n",
      "4  Example 1:\\nInput: \"The server also forgot abo...  Confidence: 90%   \n",
      "\n",
      "  confidence    error  \n",
      "0         90  correct  \n",
      "1         90    error  \n",
      "2         90    error  \n",
      "3         90    error  \n",
      "4         90  correct  \n",
      "\n",
      "[5 rows x 22 columns]\n"
     ]
    }
   ],
   "source": [
    "df['error'] = df.apply(lambda row: 'correct' if row['polarity_pred'] == row['polarity'] else 'error', axis=1)\n",
    "print(df.head())"
   ]
  },
  {
   "cell_type": "code",
   "execution_count": null,
   "metadata": {},
   "outputs": [],
   "source": []
  },
  {
   "cell_type": "code",
   "execution_count": 65,
   "metadata": {},
   "outputs": [
    {
     "name": "stderr",
     "output_type": "stream",
     "text": [
      "/var/folders/pw/9fnphybj4kq8t6wt3h592_9r0000gn/T/ipykernel_1400/1045745626.py:11: FutureWarning: Downcasting behavior in `replace` is deprecated and will be removed in a future version. To retain the old behavior, explicitly call `result.infer_objects(copy=False)`. To opt-in to the future behavior, set `pd.set_option('future.no_silent_downcasting', True)`\n",
      "  df_data['y_true_pos'] = df_data['y_true_pos'] .replace('negative', 0)\n",
      "/var/folders/pw/9fnphybj4kq8t6wt3h592_9r0000gn/T/ipykernel_1400/1045745626.py:15: FutureWarning: Downcasting behavior in `replace` is deprecated and will be removed in a future version. To retain the old behavior, explicitly call `result.infer_objects(copy=False)`. To opt-in to the future behavior, set `pd.set_option('future.no_silent_downcasting', True)`\n",
      "  df_data['y_pred_pos'] = df_data['y_pred_pos'].replace('negative', 0)\n",
      "/var/folders/pw/9fnphybj4kq8t6wt3h592_9r0000gn/T/ipykernel_1400/1045745626.py:21: FutureWarning: Downcasting behavior in `replace` is deprecated and will be removed in a future version. To retain the old behavior, explicitly call `result.infer_objects(copy=False)`. To opt-in to the future behavior, set `pd.set_option('future.no_silent_downcasting', True)`\n",
      "  df_data['y_true_neu'] = df_data['y_true_neu'].replace('negative', 0)\n",
      "/var/folders/pw/9fnphybj4kq8t6wt3h592_9r0000gn/T/ipykernel_1400/1045745626.py:25: FutureWarning: Downcasting behavior in `replace` is deprecated and will be removed in a future version. To retain the old behavior, explicitly call `result.infer_objects(copy=False)`. To opt-in to the future behavior, set `pd.set_option('future.no_silent_downcasting', True)`\n",
      "  df_data['y_pred_neu'] = df_data['y_pred_neu'].replace('negative', 0)\n",
      "/var/folders/pw/9fnphybj4kq8t6wt3h592_9r0000gn/T/ipykernel_1400/1045745626.py:30: FutureWarning: Downcasting behavior in `replace` is deprecated and will be removed in a future version. To retain the old behavior, explicitly call `result.infer_objects(copy=False)`. To opt-in to the future behavior, set `pd.set_option('future.no_silent_downcasting', True)`\n",
      "  df_data['y_true_neg'] = df_data['y_true_neg'].replace('positive', 0)\n",
      "/var/folders/pw/9fnphybj4kq8t6wt3h592_9r0000gn/T/ipykernel_1400/1045745626.py:34: FutureWarning: Downcasting behavior in `replace` is deprecated and will be removed in a future version. To retain the old behavior, explicitly call `result.infer_objects(copy=False)`. To opt-in to the future behavior, set `pd.set_option('future.no_silent_downcasting', True)`\n",
      "  df_data['y_pred_neg'] = df_data['y_pred_neg'].replace('positive', 0)\n"
     ]
    }
   ],
   "source": [
    "from sklearn.metrics import roc_curve, roc_auc_score\n",
    "from sklearn import metrics\n",
    "\n",
    "#print(df_overall.head())\n",
    "\n",
    "df_data = df\n",
    "\n",
    "df_data['y_true_pos'] = df_data['polarity']\n",
    "df_data['y_true_pos'] = df_data['y_true_pos'] .replace('positive', 1)\n",
    "df_data['y_true_pos'] = df_data['y_true_pos'] .replace('neutral', 0)\n",
    "df_data['y_true_pos'] = df_data['y_true_pos'] .replace('negative', 0)\n",
    "df_data['y_pred_pos'] = df_data['polarity_pred']\n",
    "df_data['y_pred_pos'] = df_data['y_pred_pos'].replace('positive', 1)\n",
    "df_data['y_pred_pos'] = df_data['y_pred_pos'].replace('neutral', 0)\n",
    "df_data['y_pred_pos'] = df_data['y_pred_pos'].replace('negative', 0)\n",
    "\n",
    "\n",
    "df_data['y_true_neu'] = df_data['polarity']\n",
    "df_data['y_true_neu'] = df_data['y_true_neu'].replace('neutral', 1)\n",
    "df_data['y_true_neu'] = df_data['y_true_neu'].replace('positive', 0)\n",
    "df_data['y_true_neu'] = df_data['y_true_neu'].replace('negative', 0)\n",
    "df_data['y_pred_neu'] = df_data['polarity_pred']\n",
    "df_data['y_pred_neu'] = df_data['y_pred_neu'].replace('neutral', 1)\n",
    "df_data['y_pred_neu'] = df_data['y_pred_neu'].replace('positive', 0)\n",
    "df_data['y_pred_neu'] = df_data['y_pred_neu'].replace('negative', 0)\n",
    "\n",
    "df_data['y_true_neg'] = df_data['polarity']\n",
    "df_data['y_true_neg'] = df_data['y_true_neg'].replace('negative', 1)\n",
    "df_data['y_true_neg'] = df_data['y_true_neg'].replace('neutral', 0)\n",
    "df_data['y_true_neg'] = df_data['y_true_neg'].replace('positive', 0)\n",
    "df_data['y_pred_neg'] = df_data['polarity_pred']\n",
    "df_data['y_pred_neg'] = df_data['y_pred_neg'].replace('negative', 1)\n",
    "df_data['y_pred_neg'] = df_data['y_pred_neg'].replace('neutral', 0)\n",
    "df_data['y_pred_neg'] = df_data['y_pred_neg'].replace('positive', 0)\n",
    "\n",
    "df_data['confidence_pos'] = df_data['confidence']\n",
    "df_data['confidence_neu'] = df_data['confidence']\n",
    "df_data['confidence_neg'] = df_data['confidence']\n",
    "df_data.loc[df_data['y_pred_pos'] == 0, 'confidence_pos'] = 100 - df_data.loc[df_data['y_pred_pos'] == 0, 'confidence_pos']\n",
    "df_data['confidence_pos'] = df_data['confidence_pos'] / 100\n",
    "df_data.loc[df_data['y_pred_neu'] == 0, 'confidence_neu'] = 100 - df_data.loc[df_data['y_pred_neu'] == 0, 'confidence_neu']\n",
    "df_data['confidence_neu'] = df_data['confidence_neu'] / 100\n",
    "df_data.loc[df_data['y_pred_neg'] == 0, 'confidence_neg'] = 100 - df_data.loc[df_data['y_pred_neg'] == 0, 'confidence_neg']\n",
    "df_data['confidence_neg'] = df_data['confidence_neg'] / 100\n"
   ]
  },
  {
   "cell_type": "code",
   "execution_count": 66,
   "metadata": {},
   "outputs": [
    {
     "name": "stdout",
     "output_type": "stream",
     "text": [
      "   Unnamed: 0.1  Unnamed: 0  text_id  term_id  \\\n",
      "0             0           0        0        0   \n",
      "1             1           1        0        1   \n",
      "2             2           2        0        2   \n",
      "3             3           3        0        3   \n",
      "4             4           4        1        4   \n",
      "\n",
      "                                                text  \\\n",
      "0  Amusing details distinguish desserts, from dul...   \n",
      "1  Amusing details distinguish desserts, from dul...   \n",
      "2  Amusing details distinguish desserts, from dul...   \n",
      "3  Amusing details distinguish desserts, from dul...   \n",
      "4  The server was so busy the night we visited th...   \n",
      "\n",
      "                          term  polarity  example1_term_id  \\\n",
      "0                     desserts  positive              9500   \n",
      "1     dulce de leche ice-cream   neutral              9500   \n",
      "2  chocolate sauce tic-tac-toe   neutral              9500   \n",
      "3            poached pineapple   neutral              9500   \n",
      "4                       server  negative              1211   \n",
      "\n",
      "                                     example1_prompt  example1_sim_score  ...  \\\n",
      "0  Input: \"Food is mediocre, except for Mushroom ...            0.152772  ...   \n",
      "1  Input: \"Food is mediocre, except for Mushroom ...            0.152772  ...   \n",
      "2  Input: \"Food is mediocre, except for Mushroom ...            0.152772  ...   \n",
      "3  Input: \"Food is mediocre, except for Mushroom ...            0.152772  ...   \n",
      "4  Input: \"The server also forgot about our desse...            0.354028  ...   \n",
      "\n",
      "     error y_true_pos  y_pred_pos  y_true_neu y_pred_neu  y_true_neg  \\\n",
      "0  correct          1           1           0          0           0   \n",
      "1    error          0           1           1          0           0   \n",
      "2    error          0           1           1          0           0   \n",
      "3    error          0           1           1          0           0   \n",
      "4  correct          0           0           0          0           1   \n",
      "\n",
      "  y_pred_neg confidence_pos confidence_neu confidence_neg  \n",
      "0          0            0.9            0.1            0.1  \n",
      "1          0            0.9            0.1            0.1  \n",
      "2          0            0.9            0.1            0.1  \n",
      "3          0            0.9            0.1            0.1  \n",
      "4          1            0.1            0.1            0.9  \n",
      "\n",
      "[5 rows x 31 columns]\n"
     ]
    }
   ],
   "source": [
    "print(df_data.head())"
   ]
  },
  {
   "cell_type": "code",
   "execution_count": 67,
   "metadata": {},
   "outputs": [
    {
     "name": "stdout",
     "output_type": "stream",
     "text": [
      "\n",
      "\n"
     ]
    },
    {
     "data": {
      "image/png": "[encoded data removed]",
      "text/plain": [
       "<Figure size 640x480 with 1 Axes>"
      ]
     },
     "metadata": {},
     "output_type": "display_data"
    }
   ],
   "source": [
    "import matplotlib.pyplot as plt\n",
    "fpr, tpr, _ = metrics.roc_curve(df_data['y_true_pos'],  df_data['confidence_pos'])\n",
    "auc = metrics.roc_auc_score(df_data['y_true_pos'], df_data['confidence_pos'])\n",
    "plt.plot(fpr, tpr, lw=2, label=f'Positive (AUC: {auc:.2f})')\n",
    "\n",
    "\n",
    "fpr, tpr, _ = metrics.roc_curve(df_data['y_true_neu'],  df_data['confidence_neu'])\n",
    "auc = metrics.roc_auc_score(df_data['y_true_neu'], df_data['confidence_neu'])\n",
    "plt.plot(fpr, tpr, lw=2, label=f'Neutral (AUC: {auc:.2f})')\n",
    "\n",
    "\n",
    "fpr, tpr, _ = metrics.roc_curve(df_data['y_true_neg'],  df_data['confidence_neg'])\n",
    "auc = metrics.roc_auc_score(df_data['y_true_neg'], df_data['confidence_neg'])\n",
    "plt.plot(fpr, tpr, lw=2, label=f'Negative (AUC: {auc:.2f})')\n",
    "\n",
    "\n",
    "plt.legend(loc=\"lower right\")\n",
    "plt.ylabel('True Positive Rate')\n",
    "plt.xlabel('False Positive Rate')\n",
    "\n",
    "print(\"\\n\")\n",
    "plt.show()"
   ]
  },
  {
   "cell_type": "code",
   "execution_count": null,
   "metadata": {},
   "outputs": [],
   "source": []
  },
  {
   "cell_type": "code",
   "execution_count": null,
   "metadata": {},
   "outputs": [],
   "source": []
  },
  {
   "cell_type": "code",
   "execution_count": null,
   "metadata": {},
   "outputs": [],
   "source": []
  },
  {
   "cell_type": "code",
   "execution_count": null,
   "metadata": {},
   "outputs": [],
   "source": []
  },
  {
   "cell_type": "code",
   "execution_count": null,
   "metadata": {},
   "outputs": [],
   "source": []
  },
  {
   "cell_type": "code",
   "execution_count": null,
   "metadata": {},
   "outputs": [],
   "source": []
  },
  {
   "cell_type": "code",
   "execution_count": null,
   "metadata": {},
   "outputs": [],
   "source": []
  }
 ],
 "metadata": {
  "kernelspec": {
   "display_name": "Python 3",
   "language": "python",
   "name": "python3"
  },
  "language_info": {
   "codemirror_mode": {
    "name": "ipython",
    "version": 3
   },
   "file_extension": ".py",
   "mimetype": "text/x-python",
   "name": "python",
   "nbconvert_exporter": "python",
   "pygments_lexer": "ipython3",
   "version": "3.12.2"
  }
 },
 "nbformat": 4,
 "nbformat_minor": 2
}
