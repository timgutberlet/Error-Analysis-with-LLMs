{
 "cells": [
  {
   "cell_type": "code",
   "execution_count": 46,
   "metadata": {},
   "outputs": [],
   "source": [
    "import os\n",
    "import pandas as pd\n",
    "import prompts as p\n",
    "\n",
    "\n",
    "# Load the .env file\n",
    "\n",
    "TEST_PATH = \"../../Datasets/MAMS-ATSA/Downsampled/test/test_single_row.csv\"\n",
    "TRAIN_PATH = \"../../Datasets/MAMS-ATSA/Downsampled/train/train_single_row.csv\"\n",
    "\n",
    "OUTPUT_PATH = \"../../Datasets/Evaluations/Sentiment Analysis/logistic_regression.csv\"\n",
    "\n",
    "\n"
   ]
  },
  {
   "cell_type": "code",
   "execution_count": 47,
   "metadata": {},
   "outputs": [
    {
     "name": "stdout",
     "output_type": "stream",
     "text": [
      "11186\n",
      "451\n"
     ]
    }
   ],
   "source": [
    "df_train = pd.read_csv(TRAIN_PATH)\n",
    "df_test = pd.read_csv(TEST_PATH)\n",
    "\n",
    "# Transform columns to strings\n",
    "df_train['text'] = df_train['text'].astype(str)\n",
    "df_train['term'] = df_train['term'].astype(str)\n",
    "df_train['polarity'] = df_train['polarity'].astype(str)\n",
    "\n",
    "df_test['text'] = df_test['text'].astype(str)\n",
    "df_test['term'] = df_test['term'].astype(str)\n",
    "df_test['polarity'] = df_test['polarity'].astype(str)\n",
    "\n",
    "print(len(df_train))\n",
    "print(len(df_test))\n"
   ]
  },
  {
   "cell_type": "code",
   "execution_count": 48,
   "metadata": {},
   "outputs": [
    {
     "name": "stdout",
     "output_type": "stream",
     "text": [
      "Training Set Evaluation:\n",
      "Accuracy: 0.7855354907920615\n",
      "              precision    recall  f1-score   support\n",
      "\n",
      "    negative       0.79      0.71      0.75      2764\n",
      "     neutral       0.80      0.87      0.83      5042\n",
      "    positive       0.76      0.72      0.74      3380\n",
      "\n",
      "    accuracy                           0.79     11186\n",
      "   macro avg       0.78      0.77      0.77     11186\n",
      "weighted avg       0.78      0.79      0.78     11186\n",
      "\n",
      "Test Set Evaluation:\n",
      "Accuracy: 0.6496674057649667\n",
      "              precision    recall  f1-score   support\n",
      "\n",
      "    negative       0.67      0.62      0.64       117\n",
      "     neutral       0.67      0.80      0.73       194\n",
      "    positive       0.59      0.47      0.53       140\n",
      "\n",
      "    accuracy                           0.65       451\n",
      "   macro avg       0.64      0.63      0.63       451\n",
      "weighted avg       0.65      0.65      0.64       451\n",
      "\n"
     ]
    }
   ],
   "source": [
    "import pandas as pd\n",
    "from sklearn.feature_extraction.text import TfidfVectorizer\n",
    "from sklearn.linear_model import LogisticRegression\n",
    "from sklearn.pipeline import Pipeline, FeatureUnion\n",
    "from sklearn.metrics import accuracy_score, classification_report\n",
    "from sklearn.base import BaseEstimator, TransformerMixin\n",
    "\n",
    "def preprocess_text(text):\n",
    "    return text.lower()\n",
    "\n",
    "class ColumnExtractor(TransformerMixin, BaseEstimator):\n",
    "    def __init__(self, column):\n",
    "        self.column = column\n",
    "    \n",
    "    def fit(self, X, y=None):\n",
    "        return self\n",
    "    \n",
    "    def transform(self, X):\n",
    "        if isinstance(X, pd.DataFrame):\n",
    "            return X[self.column]\n",
    "        else:\n",
    "            raise ValueError(\"Input must be a DataFrame\")\n",
    "\n",
    "text_preprocessor = Pipeline([\n",
    "    ('extractor', ColumnExtractor(column='text')),\n",
    "    ('vectorizer', TfidfVectorizer(preprocessor=preprocess_text))\n",
    "])\n",
    "\n",
    "term_preprocessor = Pipeline([\n",
    "    ('extractor', ColumnExtractor(column='term')),\n",
    "    ('vectorizer', TfidfVectorizer(preprocessor=preprocess_text))\n",
    "])\n",
    "\n",
    "feature_processing = FeatureUnion([\n",
    "    ('text_features', text_preprocessor),\n",
    "    ('term_features', term_preprocessor)\n",
    "])\n",
    "\n",
    "pipeline = Pipeline([\n",
    "    ('features', feature_processing),\n",
    "    ('classifier', LogisticRegression(random_state=42, C=1, penalty='l2', solver='saga'))\n",
    "])\n",
    "\n",
    "X_train = df_train[['text', 'term']]\n",
    "y_train = df_train['polarity']\n",
    "X_test = df_test[['text', 'term']]\n",
    "y_test = df_test['polarity']\n",
    "\n",
    "pipeline.fit(X_train, y_train)\n",
    "\n",
    "y_train_pred = pipeline.predict(X_train)\n",
    "print(\"Training Set Evaluation:\")\n",
    "print(f\"Accuracy: {accuracy_score(y_train, y_train_pred)}\")\n",
    "print(classification_report(y_train, y_train_pred))\n",
    "\n",
    "y_test_pred = pipeline.predict(X_test)\n",
    "\n",
    "df_test['polarity_pred'] = y_test_pred\n",
    "\n",
    "print(\"Test Set Evaluation:\")\n",
    "print(f\"Accuracy: {accuracy_score(y_test, y_test_pred)}\")\n",
    "print(classification_report(y_test, y_test_pred))\n",
    "\n",
    "\n"
   ]
  },
  {
   "cell_type": "code",
   "execution_count": 51,
   "metadata": {},
   "outputs": [
    {
     "name": "stdout",
     "output_type": "stream",
     "text": [
      "Amusing details distinguish desserts, from dulce de leche ice-cream profiteroles dotting a chocolate sauce tic-tac-toe board, to coconut custard surrounded by a sea of Malibu-rum gelee and poached pineapple.\n",
      "details : 0.03391598521293542, distinguish : -0.09060113082679158, desserts : 0.19248726523508278, from : -0.5657247889759164, de : 0.17945842872799, leche : -0.017470373128488346, ice : -0.4998306600951552, cream : -0.12930417399686137, chocolate : -0.06244679606010882, sauce : 0.093990918074225, board : 0.06681904708332484, to : 0.06489666268372277, coconut : -0.36438710196307356, custard : -0.21438130042712866, surrounded : -0.27077686792325767, by : -0.38154381418577143, sea : 0.24051716214945149, of : -0.6721133239838706, malibu : 0.05987580658035815, rum : -0.1288084155438607, and : -1.4714550858778395, poached : 0.08233233182375482, pineapple : -0.27647806259917757\n",
      "Amusing details distinguish desserts, from dulce de leche ice-cream profiteroles dotting a chocolate sauce tic-tac-toe board, to coconut custard surrounded by a sea of Malibu-rum gelee and poached pineapple.\n",
      "details : 0.03391598521293542, distinguish : -0.09060113082679158, desserts : 0.19248726523508278, from : -0.5657247889759164, de : 0.17945842872799, leche : -0.017470373128488346, ice : -0.4998306600951552, cream : -0.12930417399686137, chocolate : -0.06244679606010882, sauce : 0.093990918074225, board : 0.06681904708332484, to : 0.06489666268372277, coconut : -0.36438710196307356, custard : -0.21438130042712866, surrounded : -0.27077686792325767, by : -0.38154381418577143, sea : 0.24051716214945149, of : -0.6721133239838706, malibu : 0.05987580658035815, rum : -0.1288084155438607, and : -1.4714550858778395, poached : 0.08233233182375482, pineapple : -0.27647806259917757\n",
      "Amusing details distinguish desserts, from dulce de leche ice-cream profiteroles dotting a chocolate sauce tic-tac-toe board, to coconut custard surrounded by a sea of Malibu-rum gelee and poached pineapple.\n",
      "details : 0.03391598521293542, distinguish : -0.09060113082679158, desserts : 0.19248726523508278, from : -0.5657247889759164, de : 0.17945842872799, leche : -0.017470373128488346, ice : -0.4998306600951552, cream : -0.12930417399686137, chocolate : -0.06244679606010882, sauce : 0.093990918074225, board : 0.06681904708332484, to : 0.06489666268372277, coconut : -0.36438710196307356, custard : -0.21438130042712866, surrounded : -0.27077686792325767, by : -0.38154381418577143, sea : 0.24051716214945149, of : -0.6721133239838706, malibu : 0.05987580658035815, rum : -0.1288084155438607, and : -1.4714550858778395, poached : 0.08233233182375482, pineapple : -0.27647806259917757\n",
      "Amusing details distinguish desserts, from dulce de leche ice-cream profiteroles dotting a chocolate sauce tic-tac-toe board, to coconut custard surrounded by a sea of Malibu-rum gelee and poached pineapple.\n",
      "details : 0.03391598521293542, distinguish : -0.09060113082679158, desserts : 0.19248726523508278, from : -0.5657247889759164, de : 0.17945842872799, leche : -0.017470373128488346, ice : -0.4998306600951552, cream : -0.12930417399686137, chocolate : -0.06244679606010882, sauce : 0.093990918074225, board : 0.06681904708332484, to : 0.06489666268372277, coconut : -0.36438710196307356, custard : -0.21438130042712866, surrounded : -0.27077686792325767, by : -0.38154381418577143, sea : 0.24051716214945149, of : -0.6721133239838706, malibu : 0.05987580658035815, rum : -0.1288084155438607, and : -1.4714550858778395, poached : 0.08233233182375482, pineapple : -0.27647806259917757\n",
      "The server was so busy the night we visited that she forgot to put in our food order.\n",
      "the : 0.1599567509788442, server : -0.7992034817534253, was : 0.6756384514067241, so : 0.19039592179678827, busy : 0.16463969792626487, the : 0.1599567509788442, night : -0.010050715482531029, we : -0.3054258736797305, visited : -0.2052634044042691, that : 0.09505491397152648, she : -0.21261767492568515, forgot : 0.8699980788561807, to : 0.06489666268372277, put : -0.3579475088613879, in : 0.17410305733559264, our : 0.05402355815250684, food : 0.7708413724540557, order : 0.21831657432765952\n",
      "The server was so busy the night we visited that she forgot to put in our food order.\n",
      "the : 0.1599567509788442, server : -0.7992034817534253, was : 0.6756384514067241, so : 0.19039592179678827, busy : 0.16463969792626487, the : 0.1599567509788442, night : -0.010050715482531029, we : -0.3054258736797305, visited : -0.2052634044042691, that : 0.09505491397152648, she : -0.21261767492568515, forgot : 0.8699980788561807, to : 0.06489666268372277, put : -0.3579475088613879, in : 0.17410305733559264, our : 0.05402355815250684, food : 0.7708413724540557, order : 0.21831657432765952\n",
      "2 weeks ago, I decided to set up a birthday dinner in this establishment and was wary with the reviews I've read in City Search but it seems to be a perfect scene.\n",
      "weeks : -0.22281682932955468, ago : 0.4184197669608518, decided : 0.4038940570204375, to : 0.06489666268372277, set : -0.2404233141130619, up : 0.3657616299706305, birthday : -0.5752831221708429, dinner : 0.06580938608266196, in : 0.17410305733559264, this : 0.3789860937031017, establishment : 0.1294496511294566, and : -1.4714550858778395, was : 0.6756384514067241, wary : 0.10986564255745543, with : -1.066377583521574, the : 0.1599567509788442, reviews : -0.3373532605941559, ve : -0.4831981291949797, read : -0.2960224074926152, in : 0.17410305733559264, city : -0.8675853894471941, search : 0.17119151242799371, but : 2.041756649529249, it : 0.25400665821968343, seems : -0.10429655132037441, to : 0.06489666268372277, be : 0.3984678234144336, perfect : -0.8283839966382349, scene : -0.5050418315306884\n",
      "2 weeks ago, I decided to set up a birthday dinner in this establishment and was wary with the reviews I've read in City Search but it seems to be a perfect scene.\n",
      "weeks : -0.22281682932955468, ago : 0.4184197669608518, decided : 0.4038940570204375, to : 0.06489666268372277, set : -0.2404233141130619, up : 0.3657616299706305, birthday : -0.5752831221708429, dinner : 0.06580938608266196, in : 0.17410305733559264, this : 0.3789860937031017, establishment : 0.1294496511294566, and : -1.4714550858778395, was : 0.6756384514067241, wary : 0.10986564255745543, with : -1.066377583521574, the : 0.1599567509788442, reviews : -0.3373532605941559, ve : -0.4831981291949797, read : -0.2960224074926152, in : 0.17410305733559264, city : -0.8675853894471941, search : 0.17119151242799371, but : 2.041756649529249, it : 0.25400665821968343, seems : -0.10429655132037441, to : 0.06489666268372277, be : 0.3984678234144336, perfect : -0.8283839966382349, scene : -0.5050418315306884\n",
      "My boyfriend and I went one Friday night to find that the place was empty except for one other table.\n",
      "my : -0.0024860046636431283, boyfriend : 0.33974302328967554, and : -1.4714550858778395, went : -0.05699534443181463, one : 0.23332637109315876, friday : 0.3710437104039194, night : -0.010050715482531029, to : 0.06489666268372277, find : -0.3436643968683538, that : 0.09505491397152648, the : 0.1599567509788442, place : 0.11506505080479565, was : 0.6756384514067241, empty : 1.475695875488159, except : 0.5976425106620944, for : -0.3734769200685542, one : 0.23332637109315876, other : 0.27763512392968487, table : -0.0694763892292324\n",
      "My boyfriend and I went one Friday night to find that the place was empty except for one other table.\n",
      "my : -0.0024860046636431283, boyfriend : 0.33974302328967554, and : -1.4714550858778395, went : -0.05699534443181463, one : 0.23332637109315876, friday : 0.3710437104039194, night : -0.010050715482531029, to : 0.06489666268372277, find : -0.3436643968683538, that : 0.09505491397152648, the : 0.1599567509788442, place : 0.11506505080479565, was : 0.6756384514067241, empty : 1.475695875488159, except : 0.5976425106620944, for : -0.3734769200685542, one : 0.23332637109315876, other : 0.27763512392968487, table : -0.0694763892292324\n",
      "Amazing crust (and I hate pizza crust typically), great cheese, sauce isn't too sugary.\n",
      "amazing : -1.080636142733535, crust : -0.0896696980423196, and : -1.4714550858778395, hate : 0.1976523436262471, pizza : -0.7538451848479287, crust : -0.0896696980423196, typically : 0.12267799175053437, great : -1.2287146505139575, cheese : -0.1754919695016529, sauce : 0.093990918074225, isn : 1.1713838428256362, too : 0.4799900536067581\n",
      "Amazing crust (and I hate pizza crust typically), great cheese, sauce isn't too sugary.\n",
      "amazing : -1.080636142733535, crust : -0.0896696980423196, and : -1.4714550858778395, hate : 0.1976523436262471, pizza : -0.7538451848479287, crust : -0.0896696980423196, typically : 0.12267799175053437, great : -1.2287146505139575, cheese : -0.1754919695016529, sauce : 0.093990918074225, isn : 1.1713838428256362, too : 0.4799900536067581\n",
      "Amazing crust (and I hate pizza crust typically), great cheese, sauce isn't too sugary.\n",
      "amazing : -1.080636142733535, crust : -0.0896696980423196, and : -1.4714550858778395, hate : 0.1976523436262471, pizza : -0.7538451848479287, crust : -0.0896696980423196, typically : 0.12267799175053437, great : -1.2287146505139575, cheese : -0.1754919695016529, sauce : 0.093990918074225, isn : 1.1713838428256362, too : 0.4799900536067581\n",
      "After being seated took our waiter 10 mintues to get us a menu, 15 minutes to come back for our order, by the time we finally got our food it was almost 1 1/2 hour since getting there.\n",
      "after : 0.13354266707787985, being : -0.2695135674224448, seated : -0.27835617230821097, took : 0.6437041530593963, our : 0.05402355815250684, waiter : -0.8701139115254307, 10 : -0.13353234997652894, to : 0.06489666268372277, get : 0.07166725340833979, us : -0.07882380616122509, menu : -0.8412156567032758, 15 : -0.07571091893546268, minutes : 0.5152283794026853, to : 0.06489666268372277, come : -0.09339932561243805, back : 0.10135861959021845, for : -0.3734769200685542, our : 0.05402355815250684, order : 0.21831657432765952, by : -0.38154381418577143, the : 0.1599567509788442, time : -0.10786788689349683, we : -0.3054258736797305, finally : 0.3523461704807343, got : 0.5241633336006611, our : 0.05402355815250684, food : 0.7708413724540557, it : 0.25400665821968343, was : 0.6756384514067241, almost : 0.8028725847128405, hour : 0.7014582422046489, since : 0.32267591571811516, getting : -0.08647558929838593, there : -0.6327836073639417\n",
      "After being seated took our waiter 10 mintues to get us a menu, 15 minutes to come back for our order, by the time we finally got our food it was almost 1 1/2 hour since getting there.\n",
      "after : 0.13354266707787985, being : -0.2695135674224448, seated : -0.27835617230821097, took : 0.6437041530593963, our : 0.05402355815250684, waiter : -0.8701139115254307, 10 : -0.13353234997652894, to : 0.06489666268372277, get : 0.07166725340833979, us : -0.07882380616122509, menu : -0.8412156567032758, 15 : -0.07571091893546268, minutes : 0.5152283794026853, to : 0.06489666268372277, come : -0.09339932561243805, back : 0.10135861959021845, for : -0.3734769200685542, our : 0.05402355815250684, order : 0.21831657432765952, by : -0.38154381418577143, the : 0.1599567509788442, time : -0.10786788689349683, we : -0.3054258736797305, finally : 0.3523461704807343, got : 0.5241633336006611, our : 0.05402355815250684, food : 0.7708413724540557, it : 0.25400665821968343, was : 0.6756384514067241, almost : 0.8028725847128405, hour : 0.7014582422046489, since : 0.32267591571811516, getting : -0.08647558929838593, there : -0.6327836073639417\n",
      "After being seated took our waiter 10 mintues to get us a menu, 15 minutes to come back for our order, by the time we finally got our food it was almost 1 1/2 hour since getting there.\n",
      "after : 0.13354266707787985, being : -0.2695135674224448, seated : -0.27835617230821097, took : 0.6437041530593963, our : 0.05402355815250684, waiter : -0.8701139115254307, 10 : -0.13353234997652894, to : 0.06489666268372277, get : 0.07166725340833979, us : -0.07882380616122509, menu : -0.8412156567032758, 15 : -0.07571091893546268, minutes : 0.5152283794026853, to : 0.06489666268372277, come : -0.09339932561243805, back : 0.10135861959021845, for : -0.3734769200685542, our : 0.05402355815250684, order : 0.21831657432765952, by : -0.38154381418577143, the : 0.1599567509788442, time : -0.10786788689349683, we : -0.3054258736797305, finally : 0.3523461704807343, got : 0.5241633336006611, our : 0.05402355815250684, food : 0.7708413724540557, it : 0.25400665821968343, was : 0.6756384514067241, almost : 0.8028725847128405, hour : 0.7014582422046489, since : 0.32267591571811516, getting : -0.08647558929838593, there : -0.6327836073639417\n",
      "The eggplant parmasean was AWESOME (I don't even like eggplant) but my main course was just ok (shrimp with pasta).\n",
      "the : 0.1599567509788442, eggplant : -0.1426398116386615, was : 0.6756384514067241, awesome : -0.4075389274394272, don : 1.01816170999211, even : 0.37380635437741094, like : 0.40025356483795693, eggplant : -0.1426398116386615, but : 2.041756649529249, my : -0.0024860046636431283, main : 0.31886196174840487, course : -0.011091552786787234, was : 0.6756384514067241, just : 0.16895411391100815, ok : -0.19045933965815257, shrimp : -0.6274265739340852, with : -1.066377583521574, pasta : 0.20984050017394107\n",
      "The eggplant parmasean was AWESOME (I don't even like eggplant) but my main course was just ok (shrimp with pasta).\n",
      "the : 0.1599567509788442, eggplant : -0.1426398116386615, was : 0.6756384514067241, awesome : -0.4075389274394272, don : 1.01816170999211, even : 0.37380635437741094, like : 0.40025356483795693, eggplant : -0.1426398116386615, but : 2.041756649529249, my : -0.0024860046636431283, main : 0.31886196174840487, course : -0.011091552786787234, was : 0.6756384514067241, just : 0.16895411391100815, ok : -0.19045933965815257, shrimp : -0.6274265739340852, with : -1.066377583521574, pasta : 0.20984050017394107\n",
      "The eggplant parmasean was AWESOME (I don't even like eggplant) but my main course was just ok (shrimp with pasta).\n",
      "the : 0.1599567509788442, eggplant : -0.1426398116386615, was : 0.6756384514067241, awesome : -0.4075389274394272, don : 1.01816170999211, even : 0.37380635437741094, like : 0.40025356483795693, eggplant : -0.1426398116386615, but : 2.041756649529249, my : -0.0024860046636431283, main : 0.31886196174840487, course : -0.011091552786787234, was : 0.6756384514067241, just : 0.16895411391100815, ok : -0.19045933965815257, shrimp : -0.6274265739340852, with : -1.066377583521574, pasta : 0.20984050017394107\n",
      "Ive been to Jacques-Imo in New Orleans, the wait is long (3+ hours) but the food and service more than makes up for it.\n",
      "ive : -0.2945337453645926, been : 0.35360906037604023, to : 0.06489666268372277, in : 0.17410305733559264, new : -0.42248408311535507, the : 0.1599567509788442, wait : -0.6531231529058147, is : 0.7334324566786014, long : 0.9767165220084835, hours : 0.6242830194547376, but : 2.041756649529249, the : 0.1599567509788442, food : 0.7708413724540557, and : -1.4714550858778395, service : -0.6849207360502474, more : 0.051931762943816365, than : 0.8885670222495469, makes : -0.024363384086369178, up : 0.3657616299706305, for : -0.3734769200685542, it : 0.25400665821968343\n"
     ]
    }
   ],
   "source": [
    "# Ensure that 'text_preprocessor' and 'pipeline' are already defined and fitted as per previous examples\n",
    "\n",
    "# Extract the feature names (tokens) and their corresponding coefficients (weights) from the model\n",
    "vectorizer = text_preprocessor.named_steps['vectorizer']\n",
    "classifier = pipeline.named_steps['classifier']\n",
    "feature_names = vectorizer.get_feature_names_out()\n",
    "coefficients = classifier.coef_[0]\n",
    "\n",
    "# Create a dictionary for easy lookup of token weights\n",
    "token_weights_dict = dict(zip(feature_names, coefficients))\n",
    "\n",
    "# Function to map text to token weights\n",
    "def map_text_to_token_weights(text):\n",
    "    # Tokenize the input text using the same method as the vectorizer\n",
    "    tokens = vectorizer.build_analyzer()(text)\n",
    "    # Retrieve and format the weights for each token found in the model's vocabulary\n",
    "    token_weights = [f\"{token} : {token_weights_dict[token]}\" for token in tokens if token in token_weights_dict]\n",
    "    return ', '.join(token_weights)\n",
    "\n",
    "# Apply the function to the 'text' column of df_test and create a new column 'token_weights'\n",
    "df_test['token_weights'] = df_test['text'].apply(map_text_to_token_weights)\n",
    "\n",
    "# Display the updated DataFrame (or save/export as needed)\n",
    "for i in range(20):\n",
    "    print(df_test['text'][i])\n",
    "    print(df_test['token_weights'][i])\n",
    "\n"
   ]
  },
  {
   "cell_type": "code",
   "execution_count": 52,
   "metadata": {},
   "outputs": [
    {
     "name": "stdout",
     "output_type": "stream",
     "text": [
      "   text_id  term_id                                               text  \\\n",
      "0        0        0  Amusing details distinguish desserts, from dul...   \n",
      "1        0        1  Amusing details distinguish desserts, from dul...   \n",
      "2        0        2  Amusing details distinguish desserts, from dul...   \n",
      "3        0        3  Amusing details distinguish desserts, from dul...   \n",
      "4        1        4  The server was so busy the night we visited th...   \n",
      "\n",
      "                          term  polarity polarity_pred  \\\n",
      "0                     desserts  positive       neutral   \n",
      "1     dulce de leche ice-cream   neutral       neutral   \n",
      "2  chocolate sauce tic-tac-toe   neutral      positive   \n",
      "3            poached pineapple   neutral       neutral   \n",
      "4                       server  negative      negative   \n",
      "\n",
      "                                       token_weights  \n",
      "0  details : 0.03391598521293542, distinguish : -...  \n",
      "1  details : 0.03391598521293542, distinguish : -...  \n",
      "2  details : 0.03391598521293542, distinguish : -...  \n",
      "3  details : 0.03391598521293542, distinguish : -...  \n",
      "4  the : 0.1599567509788442, server : -0.79920348...  \n"
     ]
    }
   ],
   "source": [
    "print(df_test.head())"
   ]
  },
  {
   "cell_type": "code",
   "execution_count": 32,
   "metadata": {},
   "outputs": [],
   "source": [
    "df_test.to_csv(OUTPUT_PATH, index = True)"
   ]
  }
 ],
 "metadata": {
  "kernelspec": {
   "display_name": "Python 3",
   "language": "python",
   "name": "python3"
  },
  "language_info": {
   "codemirror_mode": {
    "name": "ipython",
    "version": 3
   },
   "file_extension": ".py",
   "mimetype": "text/x-python",
   "name": "python",
   "nbconvert_exporter": "python",
   "pygments_lexer": "ipython3",
   "version": "3.12.2"
  }
 },
 "nbformat": 4,
 "nbformat_minor": 2
}
