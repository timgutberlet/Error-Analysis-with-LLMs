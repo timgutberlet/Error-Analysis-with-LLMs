{
 "cells": [
  {
   "cell_type": "code",
   "execution_count": 2,
   "metadata": {},
   "outputs": [
    {
     "name": "stderr",
     "output_type": "stream",
     "text": [
      "[nltk_data] Downloading package punkt to\n",
      "[nltk_data]     /Users/timgutberlet/nltk_data...\n",
      "[nltk_data]   Package punkt is already up-to-date!\n",
      "[nltk_data] Downloading package stopwords to\n",
      "[nltk_data]     /Users/timgutberlet/nltk_data...\n",
      "[nltk_data]   Package stopwords is already up-to-date!\n",
      "[nltk_data] Downloading package wordnet to\n",
      "[nltk_data]     /Users/timgutberlet/nltk_data...\n",
      "[nltk_data]   Package wordnet is already up-to-date!\n",
      "[nltk_data] Downloading package words to\n",
      "[nltk_data]     /Users/timgutberlet/nltk_data...\n",
      "[nltk_data]   Package words is already up-to-date!\n"
     ]
    },
    {
     "data": {
      "text/plain": [
       "True"
      ]
     },
     "execution_count": 2,
     "metadata": {},
     "output_type": "execute_result"
    }
   ],
   "source": [
    "import nltk\n",
    "from nltk.tokenize import word_tokenize\n",
    "from nltk.corpus import stopwords\n",
    "from nltk.stem import WordNetLemmatizer\n",
    "from nltk.probability import FreqDist\n",
    "import ssl\n",
    "\n",
    "nltk.download('punkt')\n",
    "nltk.download('stopwords')\n",
    "nltk.download('wordnet')\n",
    "nltk.download('words')\n",
    "\n",
    "\n",
    "\n"
   ]
  },
  {
   "cell_type": "code",
   "execution_count": 3,
   "metadata": {},
   "outputs": [
    {
     "name": "stdout",
     "output_type": "stream",
     "text": [
      "Predicted sentiment for the 'battery' aspect: positive\n"
     ]
    }
   ],
   "source": [
    "sentence = \"The battery life of this phone is great, but the camera quality is poor.\"\n",
    "\n",
    "tokens = word_tokenize(sentence)\n",
    "\n",
    "tokens = [word.lower() for word in tokens if word.isalnum()]\n",
    "\n",
    "stop_words = set(stopwords.words('english'))\n",
    "tokens = [word for word in tokens if word not in stop_words]\n",
    "\n",
    "lemmatizer = WordNetLemmatizer()\n",
    "tokens = [lemmatizer.lemmatize(word) for word in tokens]\n",
    "\n",
    "def extract_features(document):\n",
    "    words = set(document)\n",
    "    features = {}\n",
    "    for word in word_features:\n",
    "        features['contains({})'.format(word)] = (word in words)\n",
    "    return features\n",
    "\n",
    "positive_words = set(nltk.corpus.words.words())\n",
    "negative_words = set(nltk.corpus.words.words()).difference(positive_words)\n",
    "\n",
    "word_freq = FreqDist(tokens)\n",
    "\n",
    "word_features = list(word_freq.keys())[:3000]\n",
    "\n",
    "labeled_data = [\n",
    "    ({\"aspect\": \"battery\", **extract_features(word_tokenize(\"battery life great\"))}, 'positive'),\n",
    "    ({\"aspect\": \"camera\", **extract_features(word_tokenize(\"camera quality poor\"))}, 'negative'),\n",
    "]\n",
    "\n",
    "classifier = nltk.NaiveBayesClassifier.train(labeled_data)\n",
    "\n",
    "test_sentence = \"The burger was poor and the house was great.\"\n",
    "test_tokens = word_tokenize(test_sentence)\n",
    "test_features = {\"aspect\": \"burger\", **extract_features(test_tokens)}\n",
    "predicted_sentiment = classifier.classify(test_features)\n",
    "\n",
    "print(\"Predicted sentiment for the 'battery' aspect:\", predicted_sentiment)"
   ]
  },
  {
   "cell_type": "code",
   "execution_count": null,
   "metadata": {},
   "outputs": [],
   "source": []
  }
 ],
 "metadata": {
  "kernelspec": {
   "display_name": "Python 3",
   "language": "python",
   "name": "python3"
  },
  "language_info": {
   "codemirror_mode": {
    "name": "ipython",
    "version": 3
   },
   "file_extension": ".py",
   "mimetype": "text/x-python",
   "name": "python",
   "nbconvert_exporter": "python",
   "pygments_lexer": "ipython3",
   "version": "3.12.2"
  }
 },
 "nbformat": 4,
 "nbformat_minor": 2
}
