{
 "cells": [
  {
   "cell_type": "code",
   "execution_count": 54,
   "metadata": {},
   "outputs": [],
   "source": [
    "import pandas as pd\n",
    "from sklearn.feature_extraction.text import TfidfVectorizer\n",
    "from sklearn.metrics.pairwise import cosine_similarity\n",
    "import numpy as np\n",
    "\n",
    "def find_nearest_neighbors(df, target_sentence, K=1):\n",
    "\n",
    "    # Step 2: Vectorize the sentences in the DataFrame\n",
    "    vect = TfidfVectorizer()\n",
    "    transformed = vect.fit_transform(df['sentences'])\n",
    "\n",
    "    # Vectorize the new sentence using the existing vectorizer\n",
    "    new_sentence_vec = vect.transform([target_sentence])\n",
    "\n",
    "    # Step 3: Compute cosine similarity between the new sentence and all DataFrame sentences\n",
    "    cosine_similarities = cosine_similarity(new_sentence_vec, transformed).flatten()\n",
    "\n",
    "    nearest_neighbor_ind = np.argsort(cosine_similarities)[-K:]\n",
    "    nearest_neighbors = df.iloc[nearest_neighbor_ind]\n",
    "    similarity_scores = cosine_similarities[nearest_neighbor_ind]\n",
    "\n",
    "\n",
    "    return_df = nearest_neighbors.copy()\n",
    "    return_df['og_ind'] = nearest_neighbor_ind\n",
    "    return_df['Similarity Score'] = similarity_scores\n",
    "    return_df.reset_index(drop=True, inplace=True)\n",
    "\n",
    "    return return_df\n",
    "    \n",
    "    "
   ]
  },
  {
   "cell_type": "code",
   "execution_count": 55,
   "metadata": {},
   "outputs": [
    {
     "data": {
      "text/html": [
       "<div>\n",
       "<style scoped>\n",
       "    .dataframe tbody tr th:only-of-type {\n",
       "        vertical-align: middle;\n",
       "    }\n",
       "\n",
       "    .dataframe tbody tr th {\n",
       "        vertical-align: top;\n",
       "    }\n",
       "\n",
       "    .dataframe thead th {\n",
       "        text-align: right;\n",
       "    }\n",
       "</style>\n",
       "<table border=\"1\" class=\"dataframe\">\n",
       "  <thead>\n",
       "    <tr style=\"text-align: right;\">\n",
       "      <th></th>\n",
       "      <th>sentences</th>\n",
       "      <th>og_ind</th>\n",
       "      <th>Similarity Score</th>\n",
       "    </tr>\n",
       "  </thead>\n",
       "  <tbody>\n",
       "    <tr>\n",
       "      <th>0</th>\n",
       "      <td>Quick wafting zephyrs vex bold Jim</td>\n",
       "      <td>3</td>\n",
       "      <td>0.132613</td>\n",
       "    </tr>\n",
       "    <tr>\n",
       "      <th>1</th>\n",
       "      <td>Quick brown foxes leap over the lazy dogs in s...</td>\n",
       "      <td>4</td>\n",
       "      <td>0.278090</td>\n",
       "    </tr>\n",
       "    <tr>\n",
       "      <th>2</th>\n",
       "      <td>The quick brown fox jumps over the lazy dog</td>\n",
       "      <td>0</td>\n",
       "      <td>0.570899</td>\n",
       "    </tr>\n",
       "  </tbody>\n",
       "</table>\n",
       "</div>"
      ],
      "text/plain": [
       "                                           sentences  og_ind  Similarity Score\n",
       "0                 Quick wafting zephyrs vex bold Jim       3          0.132613\n",
       "1  Quick brown foxes leap over the lazy dogs in s...       4          0.278090\n",
       "2        The quick brown fox jumps over the lazy dog       0          0.570899"
      ]
     },
     "execution_count": 55,
     "metadata": {},
     "output_type": "execute_result"
    }
   ],
   "source": [
    "# Sample DataFrame of sentences\n",
    "data = {\n",
    "        \"sentences\": [\n",
    "            \"The quick brown fox jumps over the lazy dog\",\n",
    "            \"Never jump over the lazy dog quickly\",\n",
    "            \"Bright vixens jump; dozy fowl quack\",\n",
    "            \"Quick wafting zephyrs vex bold Jim\",\n",
    "            \"Quick brown foxes leap over the lazy dogs in summer\"\n",
    "        ]\n",
    "    }\n",
    "df = pd.DataFrame(data)\n",
    "\n",
    "# New sentence to find nearest neighbors for\n",
    "new_sentence = \"A quick brown fox\"\n",
    "\n",
    "find_nearest_neighbors(df, new_sentence, K=3)"
   ]
  },
  {
   "cell_type": "code",
   "execution_count": null,
   "metadata": {},
   "outputs": [],
   "source": []
  }
 ],
 "metadata": {
  "kernelspec": {
   "display_name": "Python 3",
   "language": "python",
   "name": "python3"
  },
  "language_info": {
   "codemirror_mode": {
    "name": "ipython",
    "version": 3
   },
   "file_extension": ".py",
   "mimetype": "text/x-python",
   "name": "python",
   "nbconvert_exporter": "python",
   "pygments_lexer": "ipython3",
   "version": "3.12.2"
  }
 },
 "nbformat": 4,
 "nbformat_minor": 2
}
