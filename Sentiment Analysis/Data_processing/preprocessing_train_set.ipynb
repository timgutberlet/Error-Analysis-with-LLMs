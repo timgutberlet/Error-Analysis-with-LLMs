{
 "cells": [
  {
   "cell_type": "code",
   "execution_count": 9,
   "metadata": {},
   "outputs": [],
   "source": [
    "import pandas as pd\n",
    "import os\n",
    "import xml.etree.ElementTree as ET\n",
    "\n",
    "DATA_PATH = \"../../Datasets/MAMS-ATSA/Original/train/train.xml\"\n",
    "\n",
    "OUTPUT_SINGLE_ROW = \"../../Datasets/MAMS-ATSA/Downsampled/train/train_single_row.csv\"\n",
    "OUTPUT_MULTI_ROW = \"../../Datasets/MAMS-ATSA/Downsampled/train/train_multi_row.csv\"\n",
    "\n",
    "\n"
   ]
  },
  {
   "cell_type": "code",
   "execution_count": 10,
   "metadata": {},
   "outputs": [
    {
     "name": "stdout",
     "output_type": "stream",
     "text": [
      "Index(['text', 'aspect_terms'], dtype='object')\n",
      "                                                text  \\\n",
      "0  The decor is not special at all but their food...   \n",
      "1  when tables opened up, the manager sat another...   \n",
      "2  Though the menu includes some unorthodox offer...   \n",
      "3  service is good although a bit in your face, w...   \n",
      "4  PS- I just went for brunch on Saturday and the...   \n",
      "\n",
      "                                        aspect_terms  \n",
      "0  {'from': [4, 42, 59], 'to': [9, 46, 65], 'pola...  \n",
      "1  {'from': [5, 27], 'to': [11, 34], 'polarity': ...  \n",
      "2  {'from': [11, 54, 93, 145], 'to': [15, 72, 101...  \n",
      "3  {'from': [0, 78], 'to': [7, 82], 'polarity': [...  \n",
      "4  {'from': [20, 47], 'to': [26, 70], 'polarity':...  \n"
     ]
    }
   ],
   "source": [
    "import pandas as pd\n",
    "import os\n",
    "import xml.etree.ElementTree as ET\n",
    "\n",
    "#Imports the XML file and returns a DataFrame\n",
    "def parse_xml_to_dataframe(xml_file_path):\n",
    "    tree = ET.parse(xml_file_path)\n",
    "    root = tree.getroot()\n",
    "\n",
    "    texts = []\n",
    "    aspect_terms = []\n",
    "\n",
    "    for sentence in root.findall('./sentence'):\n",
    "        text = sentence.find('text').text\n",
    "        from_indices = []\n",
    "        to_indices = []\n",
    "        polarities = []\n",
    "        terms = []\n",
    "\n",
    "        for aspect_term in sentence.findall('./aspectTerms/aspectTerm'):\n",
    "            from_index = int(aspect_term.get('from'))\n",
    "            to_index = int(aspect_term.get('to'))\n",
    "            polarity = aspect_term.get('polarity')\n",
    "            term = aspect_term.get('term')\n",
    "\n",
    "            from_indices.append(from_index)\n",
    "            to_indices.append(to_index)\n",
    "            polarities.append(polarity)\n",
    "            terms.append(term)\n",
    "\n",
    "        texts.append(text)\n",
    "        aspect_terms.append({'from': from_indices, 'to': to_indices, 'polarity': polarities, 'term': terms})\n",
    "\n",
    "    # Create a DataFrame\n",
    "    df = pd.DataFrame({'text': texts, 'aspect_terms': aspect_terms})\n",
    "    return df\n",
    "# Convert XML to DataFrame\n",
    "df = parse_xml_to_dataframe(DATA_PATH)\n",
    "df_samples = df\n",
    "# Print the DataFrame \n",
    "print(df.columns)\n",
    "print(df.head())\n"
   ]
  },
  {
   "cell_type": "code",
   "execution_count": 12,
   "metadata": {},
   "outputs": [
    {
     "name": "stdout",
     "output_type": "stream",
     "text": [
      "11186\n"
     ]
    }
   ],
   "source": [
    "#Transform DF\n",
    "def transformDF(df):\n",
    "    text_id = []\n",
    "    term_id = []\n",
    "    texts = []\n",
    "    terms = []\n",
    "    polarities = []\n",
    "    x = 0  \n",
    "\n",
    "    for i in range(0, len(df)):\n",
    "        for j in range(0, len(df[\"aspect_terms\"][i][\"term\"])):\n",
    "            text_id.append(i)\n",
    "            term_id.append(x)\n",
    "            texts.append(df[\"text\"][i])\n",
    "            terms.append(df[\"aspect_terms\"][i][\"term\"][j])\n",
    "            polarities.append(df[\"aspect_terms\"][i][\"polarity\"][j])\n",
    "            x += 1\n",
    "\n",
    "    df_transformed = pd.DataFrame({'text_id' : text_id, \"term_id\" :term_id, 'text' : texts, 'term' : terms, 'polarity' : polarities})\n",
    "    return df_transformed\n",
    "\n",
    "df_transformed = transformDF(df_samples)\n",
    "\n",
    "print(len(df_transformed))\n",
    "\n",
    "\n"
   ]
  },
  {
   "cell_type": "code",
   "execution_count": 13,
   "metadata": {},
   "outputs": [
    {
     "name": "stdout",
     "output_type": "stream",
     "text": [
      "11186\n",
      "polarity\n",
      "neutral     5042\n",
      "positive    3380\n",
      "negative    2764\n",
      "Name: count, dtype: int64\n",
      "polarity\n",
      "neutral     45.074200\n",
      "positive    30.216342\n",
      "negative    24.709458\n",
      "Name: count, dtype: float64\n"
     ]
    }
   ],
   "source": [
    "def print_column_counts(df, column_name):\n",
    "    polarity_counts = df[column_name].value_counts()\n",
    "    print(polarity_counts)\n",
    "    percentage = polarity_counts / polarity_counts.sum() * 100\n",
    "    print(percentage)\n",
    "print(len(df_transformed))\n",
    "print_column_counts(df_transformed, 'polarity')\n"
   ]
  },
  {
   "cell_type": "code",
   "execution_count": 8,
   "metadata": {},
   "outputs": [],
   "source": [
    "df_samples.to_csv(OUTPUT_MULTI_ROW, index=False)\n",
    "df_transformed.to_csv(OUTPUT_SINGLE_ROW, index=False)    "
   ]
  },
  {
   "cell_type": "code",
   "execution_count": null,
   "metadata": {},
   "outputs": [],
   "source": []
  }
 ],
 "metadata": {
  "kernelspec": {
   "display_name": "Python 3",
   "language": "python",
   "name": "python3"
  },
  "language_info": {
   "codemirror_mode": {
    "name": "ipython",
    "version": 3
   },
   "file_extension": ".py",
   "mimetype": "text/x-python",
   "name": "python",
   "nbconvert_exporter": "python",
   "pygments_lexer": "ipython3",
   "version": "3.12.2"
  }
 },
 "nbformat": 4,
 "nbformat_minor": 2
}
