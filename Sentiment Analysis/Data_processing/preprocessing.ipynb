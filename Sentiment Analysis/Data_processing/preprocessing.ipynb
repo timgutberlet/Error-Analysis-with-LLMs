{
 "cells": [
  {
   "cell_type": "code",
   "execution_count": 1,
   "metadata": {},
   "outputs": [],
   "source": [
    "import pandas as pd\n",
    "import os\n",
    "import xml.etree.ElementTree as ET\n",
    "\n",
    "DATA_PATH = \"../../Datasets/MAMS-ATSA/Original/test/test.xml\"\n",
    "OUTPUT_SINGLE_ROW = \"../../Datasets/MAMS-ATSA/Downsampled/test/test_single_row.csv\"\n",
    "OUTPUT_MULTI_ROW = \"../../Datasets/MAMS-ATSA/Downsampled/test/test_multi_row.csv\"\n",
    "\n",
    "\n"
   ]
  },
  {
   "cell_type": "code",
   "execution_count": 2,
   "metadata": {},
   "outputs": [
    {
     "name": "stdout",
     "output_type": "stream",
     "text": [
      "Index(['text', 'aspect_terms'], dtype='object')\n",
      "                                                text  \\\n",
      "0  The food was served promptly but the meal wasn...   \n",
      "1  When I got home, there was a message on the ma...   \n",
      "2  The Scene Shun Lee Palace is popular with midt...   \n",
      "3  To both our surprise, this inquiry was interpr...   \n",
      "4  In fact you can find their menu offerings at o...   \n",
      "\n",
      "                                        aspect_terms  \n",
      "0  {'from': [4, 13, 93], 'to': [8, 19, 103], 'pol...  \n",
      "1  {'from': [64, 88, 125], 'to': [69, 96, 129], '...  \n",
      "2  {'from': [4, 144], 'to': [9, 149], 'polarity':...  \n",
      "3  {'from': [80, 145], 'to': [86, 153], 'polarity...  \n",
      "4  {'from': [27, 89], 'to': [31, 95], 'polarity':...  \n"
     ]
    }
   ],
   "source": [
    "import pandas as pd\n",
    "import os\n",
    "import xml.etree.ElementTree as ET\n",
    "\n",
    "#Imports the XML file and returns a DataFrame\n",
    "def parse_xml_to_dataframe(xml_file_path):\n",
    "    tree = ET.parse(xml_file_path)\n",
    "    root = tree.getroot()\n",
    "\n",
    "    texts = []\n",
    "    aspect_terms = []\n",
    "\n",
    "    # Iterate over each 'sentence' element\n",
    "    for sentence in root.findall('./sentence'):\n",
    "        text = sentence.find('text').text\n",
    "\n",
    "        # Initialize lists to store aspect term data for the current sentence\n",
    "        from_indices = []\n",
    "        to_indices = []\n",
    "        polarities = []\n",
    "        terms = []\n",
    "\n",
    "        # Iterate over each 'aspectTerm' element within the current 'sentence' element\n",
    "        for aspect_term in sentence.findall('./aspectTerms/aspectTerm'):\n",
    "            from_index = int(aspect_term.get('from'))\n",
    "            to_index = int(aspect_term.get('to'))\n",
    "            polarity = aspect_term.get('polarity')\n",
    "            term = aspect_term.get('term')\n",
    "\n",
    "            from_indices.append(from_index)\n",
    "            to_indices.append(to_index)\n",
    "            polarities.append(polarity)\n",
    "            terms.append(term)\n",
    "\n",
    "        # Append data for the current sentence to the lists\n",
    "        texts.append(text)\n",
    "        aspect_terms.append({'from': from_indices, 'to': to_indices, 'polarity': polarities, 'term': terms})\n",
    "\n",
    "    # Create a DataFrame\n",
    "    df = pd.DataFrame({'text': texts, 'aspect_terms': aspect_terms})\n",
    "    return df\n",
    "# Convert XML to DataFrame\n",
    "df = parse_xml_to_dataframe(DATA_PATH)\n",
    "\n",
    "# Print the DataFrame \n",
    "print(df.columns)\n",
    "print(df.head())\n"
   ]
  },
  {
   "cell_type": "code",
   "execution_count": 3,
   "metadata": {},
   "outputs": [
    {
     "name": "stdout",
     "output_type": "stream",
     "text": [
      "                                                  text  \\\n",
      "0    Only thing we didn't like was the steamed choc...   \n",
      "1    The food was barely decent and our server was ...   \n",
      "2    We ordered whole wheast toast; the waiter didn...   \n",
      "3    Our waiter brought out three main courses, but...   \n",
      "4    Last, but not least, when we walked in, most o...   \n",
      "..                                                 ...   \n",
      "165  The food was pretty good, but due to our large...   \n",
      "166  While they adhere to a certain traditionality ...   \n",
      "167  The Scene Neither trendy and slick nor haute a...   \n",
      "168  Had a dinner date (her suggestion) :) Had the ...   \n",
      "169  After the meal, you can always walk a little s...   \n",
      "\n",
      "                                          aspect_terms  \n",
      "0    {'from': [34, 127], 'to': [70, 134], 'polarity...  \n",
      "1    {'from': [4, 35], 'to': [8, 41], 'polarity': [...  \n",
      "2    {'from': [35, 101], 'to': [41, 107], 'polarity...  \n",
      "3    {'from': [4, 29, 117, 174], 'to': [10, 41, 121...  \n",
      "4    {'from': [52, 99, 147], 'to': [62, 103, 151], ...  \n",
      "..                                                 ...  \n",
      "165  {'from': [62, 92], 'to': [69, 102], 'polarity'...  \n",
      "166  {'from': [49, 63, 134, 211], 'to': [56, 67, 13...  \n",
      "167  {'from': [71, 94], 'to': [79, 107], 'polarity'...  \n",
      "168  {'from': [46, 72, 105], 'to': [53, 85, 110], '...  \n",
      "169  {'from': [10, 72], 'to': [14, 78], 'polarity':...  \n",
      "\n",
      "[170 rows x 2 columns]\n"
     ]
    }
   ],
   "source": [
    "#Get Ramdon Sample of Dataframe\n",
    "df_samples = df.sample(n=170)\n",
    "\n",
    "\n",
    "\n",
    "#Update Index\n",
    "df_samples.reset_index(drop=True, inplace=True)\n",
    "print(df_samples)\n",
    "\n"
   ]
  },
  {
   "cell_type": "code",
   "execution_count": 4,
   "metadata": {},
   "outputs": [
    {
     "name": "stdout",
     "output_type": "stream",
     "text": [
      "451\n"
     ]
    }
   ],
   "source": [
    "#Transform DF\n",
    "def transformDF(df):\n",
    "    text_id = []\n",
    "    term_id = []\n",
    "    texts = []\n",
    "    terms = []\n",
    "    polarities = []\n",
    "    x = 0  \n",
    "\n",
    "    for i in range(0, len(df)):\n",
    "        for j in range(0, len(df[\"aspect_terms\"][i][\"term\"])):\n",
    "            text_id.append(i)\n",
    "            term_id.append(x)\n",
    "            texts.append(df[\"text\"][i])\n",
    "            terms.append(df[\"aspect_terms\"][i][\"term\"][j])\n",
    "            polarities.append(df[\"aspect_terms\"][i][\"polarity\"][j])\n",
    "            x += 1\n",
    "\n",
    "    df_transformed = pd.DataFrame({'text_id' : text_id, \"term_id\" :term_id, 'text' : texts, 'term' : terms, 'polarity' : polarities})\n",
    "    return df_transformed\n",
    "\n",
    "df_transformed = transformDF(df_samples)\n",
    "\n",
    "print(len(df_transformed))\n",
    "\n",
    "\n"
   ]
  },
  {
   "cell_type": "code",
   "execution_count": 5,
   "metadata": {},
   "outputs": [
    {
     "name": "stdout",
     "output_type": "stream",
     "text": [
      "451\n",
      "polarity\n",
      "neutral     206\n",
      "positive    137\n",
      "negative    108\n",
      "Name: count, dtype: int64\n",
      "polarity\n",
      "neutral     45.676275\n",
      "positive    30.376940\n",
      "negative    23.946785\n",
      "Name: count, dtype: float64\n"
     ]
    }
   ],
   "source": [
    "def print_column_counts(df, column_name):\n",
    "    polarity_counts = df[column_name].value_counts()\n",
    "    print(polarity_counts)\n",
    "    percentage = polarity_counts / polarity_counts.sum() * 100\n",
    "    print(percentage)\n",
    "print(len(df_transformed))\n",
    "print_column_counts(df_transformed, 'polarity')\n"
   ]
  },
  {
   "cell_type": "code",
   "execution_count": 30,
   "metadata": {},
   "outputs": [],
   "source": [
    "#df_samples.to_csv(OUTPUT_MULTI_ROW, index=False)\n",
    "#df_transformed.to_csv(OUTPUT_SINGLE_ROW, index=False)    "
   ]
  },
  {
   "cell_type": "code",
   "execution_count": null,
   "metadata": {},
   "outputs": [],
   "source": []
  }
 ],
 "metadata": {
  "kernelspec": {
   "display_name": "Python 3",
   "language": "python",
   "name": "python3"
  },
  "language_info": {
   "codemirror_mode": {
    "name": "ipython",
    "version": 3
   },
   "file_extension": ".py",
   "mimetype": "text/x-python",
   "name": "python",
   "nbconvert_exporter": "python",
   "pygments_lexer": "ipython3",
   "version": "3.12.2"
  }
 },
 "nbformat": 4,
 "nbformat_minor": 2
}
