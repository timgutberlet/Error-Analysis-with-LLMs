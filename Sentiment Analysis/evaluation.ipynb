{
 "cells": [
  {
   "cell_type": "code",
   "execution_count": 34,
   "metadata": {},
   "outputs": [],
   "source": [
    "import pandas as pd\n",
    "from sklearn import metrics\n",
    "import matplotlib.pyplot as plt\n",
    "import seaborn as sns\n",
    "from sklearn.metrics import accuracy_score\n",
    "\n",
    "INPUT_PATH = '../Datasets/Evaluations/Sentiment_Analysis_Zero_shot_3.5_instruct.csv'\n",
    "OUTPUT_PATH = '../Datasets/Evaluations/Evaluation_Sentiment_Analysis.csv'\n",
    "PROMPT_NAME = 'prompt_3_zeroshot_single_term'\n",
    "MODEL = 'gpt-3.5-turbo'\n",
    "\n",
    "df_data = pd.read_csv(INPUT_PATH)\n",
    "df_data = df_data.rename(columns={'polarity': 'y_true'})\n",
    "df_data = df_data.rename(columns={'polarity_pred': 'y_pred'})\n",
    "\n",
    "\n"
   ]
  },
  {
   "cell_type": "code",
   "execution_count": 35,
   "metadata": {},
   "outputs": [
    {
     "data": {
      "text/html": [
       "<div>\n",
       "<style scoped>\n",
       "    .dataframe tbody tr th:only-of-type {\n",
       "        vertical-align: middle;\n",
       "    }\n",
       "\n",
       "    .dataframe tbody tr th {\n",
       "        vertical-align: top;\n",
       "    }\n",
       "\n",
       "    .dataframe thead th {\n",
       "        text-align: right;\n",
       "    }\n",
       "</style>\n",
       "<table border=\"1\" class=\"dataframe\">\n",
       "  <thead>\n",
       "    <tr style=\"text-align: right;\">\n",
       "      <th></th>\n",
       "      <th>Unnamed: 0</th>\n",
       "      <th>text_id</th>\n",
       "      <th>term_id</th>\n",
       "      <th>text</th>\n",
       "      <th>term</th>\n",
       "      <th>y_true</th>\n",
       "      <th>y_pred</th>\n",
       "      <th>prompt_name</th>\n",
       "      <th>prompt</th>\n",
       "    </tr>\n",
       "  </thead>\n",
       "  <tbody>\n",
       "    <tr>\n",
       "      <th>0</th>\n",
       "      <td>0</td>\n",
       "      <td>0</td>\n",
       "      <td>0</td>\n",
       "      <td>The food was served promptly but the meal wasn...</td>\n",
       "      <td>food</td>\n",
       "      <td>neutral</td>\n",
       "      <td>positive</td>\n",
       "      <td>prompt_3_zeroshot_single_term</td>\n",
       "      <td>The food was served promptly but the meal wasn...</td>\n",
       "    </tr>\n",
       "    <tr>\n",
       "      <th>1</th>\n",
       "      <td>1</td>\n",
       "      <td>0</td>\n",
       "      <td>1</td>\n",
       "      <td>The food was served promptly but the meal wasn...</td>\n",
       "      <td>served</td>\n",
       "      <td>positive</td>\n",
       "      <td>positive</td>\n",
       "      <td>prompt_3_zeroshot_single_term</td>\n",
       "      <td>The food was served promptly but the meal wasn...</td>\n",
       "    </tr>\n",
       "    <tr>\n",
       "      <th>2</th>\n",
       "      <td>2</td>\n",
       "      <td>0</td>\n",
       "      <td>2</td>\n",
       "      <td>The food was served promptly but the meal wasn...</td>\n",
       "      <td>appetizers</td>\n",
       "      <td>positive</td>\n",
       "      <td>positive</td>\n",
       "      <td>prompt_3_zeroshot_single_term</td>\n",
       "      <td>The food was served promptly but the meal wasn...</td>\n",
       "    </tr>\n",
       "    <tr>\n",
       "      <th>3</th>\n",
       "      <td>3</td>\n",
       "      <td>1</td>\n",
       "      <td>3</td>\n",
       "      <td>When I got home, there was a message on the ma...</td>\n",
       "      <td>owner</td>\n",
       "      <td>neutral</td>\n",
       "      <td>neutral</td>\n",
       "      <td>prompt_3_zeroshot_single_term</td>\n",
       "      <td>When I got home, there was a message on the ma...</td>\n",
       "    </tr>\n",
       "    <tr>\n",
       "      <th>4</th>\n",
       "      <td>4</td>\n",
       "      <td>1</td>\n",
       "      <td>4</td>\n",
       "      <td>When I got home, there was a message on the ma...</td>\n",
       "      <td>waitress</td>\n",
       "      <td>negative</td>\n",
       "      <td>neutral</td>\n",
       "      <td>prompt_3_zeroshot_single_term</td>\n",
       "      <td>When I got home, there was a message on the ma...</td>\n",
       "    </tr>\n",
       "  </tbody>\n",
       "</table>\n",
       "</div>"
      ],
      "text/plain": [
       "   Unnamed: 0  text_id  term_id  \\\n",
       "0           0        0        0   \n",
       "1           1        0        1   \n",
       "2           2        0        2   \n",
       "3           3        1        3   \n",
       "4           4        1        4   \n",
       "\n",
       "                                                text        term    y_true  \\\n",
       "0  The food was served promptly but the meal wasn...        food   neutral   \n",
       "1  The food was served promptly but the meal wasn...      served  positive   \n",
       "2  The food was served promptly but the meal wasn...  appetizers  positive   \n",
       "3  When I got home, there was a message on the ma...       owner   neutral   \n",
       "4  When I got home, there was a message on the ma...    waitress  negative   \n",
       "\n",
       "     y_pred                    prompt_name  \\\n",
       "0  positive  prompt_3_zeroshot_single_term   \n",
       "1  positive  prompt_3_zeroshot_single_term   \n",
       "2  positive  prompt_3_zeroshot_single_term   \n",
       "3   neutral  prompt_3_zeroshot_single_term   \n",
       "4   neutral  prompt_3_zeroshot_single_term   \n",
       "\n",
       "                                              prompt  \n",
       "0  The food was served promptly but the meal wasn...  \n",
       "1  The food was served promptly but the meal wasn...  \n",
       "2  The food was served promptly but the meal wasn...  \n",
       "3  When I got home, there was a message on the ma...  \n",
       "4  When I got home, there was a message on the ma...  "
      ]
     },
     "execution_count": 35,
     "metadata": {},
     "output_type": "execute_result"
    }
   ],
   "source": [
    "df_data.head()"
   ]
  },
  {
   "cell_type": "code",
   "execution_count": 36,
   "metadata": {},
   "outputs": [],
   "source": [
    "def multiclass_eval(model, prompt, df):\n",
    "    y_true = df['y_true']\n",
    "    y_true = df['y_pred']\n",
    "    cm = metrics.confusion_matrix(df['y_true'], df['y_pred'])\n",
    "    cm\n",
    "    plt.figure(figsize=(3,3))\n",
    "    x_axis_labels = ['negative', 'neutral', 'positive']\n",
    "    y_axis_labels = ['negative', 'neutral', 'positive']\n",
    "    sns.heatmap(cm, annot=True, fmt=\"0.3f\", linewidths=.5, square = True, cbar = 'False', xticklabels=x_axis_labels, yticklabels=y_axis_labels)\n",
    "    plt.ylabel('Actual label')\n",
    "    plt.xlabel('Predicted label')\n",
    "\n",
    "    # Display the plot\n",
    "    plt.show()\n",
    "    print(metrics.classification_report(df['y_true'], df['y_pred'], output_dict=False))\n",
    "    classification_report = metrics.classification_report(df['y_true'], df['y_pred'], output_dict=True)\n",
    "    df = pd.DataFrame(classification_report)\n",
    "    return df\n",
    "\n",
    "    \n",
    "\n",
    "    \n",
    "    \n",
    "    \n",
    "    "
   ]
  },
  {
   "cell_type": "code",
   "execution_count": 7,
   "metadata": {},
   "outputs": [
    {
     "data": {
      "image/png": "[encoded data removed]",
      "text/plain": [
       "<Figure size 300x300 with 2 Axes>"
      ]
     },
     "metadata": {},
     "output_type": "display_data"
    },
    {
     "name": "stdout",
     "output_type": "stream",
     "text": [
      "              precision    recall  f1-score   support\n",
      "\n",
      "    negative       1.00      0.70      0.82        10\n",
      "     neutral       0.69      0.90      0.78        10\n",
      "    positive       0.80      0.80      0.80        10\n",
      "\n",
      "    accuracy                           0.80        30\n",
      "   macro avg       0.83      0.80      0.80        30\n",
      "weighted avg       0.83      0.80      0.80        30\n",
      "\n"
     ]
    }
   ],
   "source": [
    "data = {'y_true' : ['positive', 'positive', 'positive', 'positive', 'positive', 'positive', 'positive', 'positive', 'positive', 'positive', 'neutral','neutral','neutral','neutral','neutral','neutral','neutral','neutral','neutral','neutral', 'negative', 'negative', 'negative', 'negative', 'negative', 'negative', 'negative', 'negative', 'negative', 'negative'], 'y_pred' : ['positive', 'positive', 'positive', 'positive', 'positive', 'positive', 'positive', 'positive', 'neutral', 'neutral', 'neutral','neutral','neutral','neutral','neutral','neutral','neutral','neutral','neutral', 'positive', 'positive', 'neutral', 'neutral', 'negative', 'negative', 'negative', 'negative', 'negative', 'negative', 'negative']}\n",
    "df = pd.DataFrame(data)\n",
    "df\n",
    "multiclass_eval('model', 'prompt', df)\n"
   ]
  },
  {
   "cell_type": "code",
   "execution_count": 37,
   "metadata": {},
   "outputs": [
    {
     "data": {
      "image/png": "[encoded data removed]",
      "text/plain": [
       "<Figure size 300x300 with 2 Axes>"
      ]
     },
     "metadata": {},
     "output_type": "display_data"
    },
    {
     "name": "stdout",
     "output_type": "stream",
     "text": [
      "              precision    recall  f1-score   support\n",
      "\n",
      "    negative       0.56      0.65      0.60       329\n",
      "     neutral       0.57      0.46      0.51       607\n",
      "    positive       0.56      0.65      0.60       400\n",
      "\n",
      "    accuracy                           0.57      1336\n",
      "   macro avg       0.56      0.59      0.57      1336\n",
      "weighted avg       0.57      0.57      0.56      1336\n",
      "\n"
     ]
    }
   ],
   "source": [
    "df_eval = multiclass_eval(MODEL, PROMPT_NAME, df_data)"
   ]
  },
  {
   "cell_type": "code",
   "execution_count": 33,
   "metadata": {},
   "outputs": [
    {
     "data": {
      "text/html": [
       "<div>\n",
       "<style scoped>\n",
       "    .dataframe tbody tr th:only-of-type {\n",
       "        vertical-align: middle;\n",
       "    }\n",
       "\n",
       "    .dataframe tbody tr th {\n",
       "        vertical-align: top;\n",
       "    }\n",
       "\n",
       "    .dataframe thead th {\n",
       "        text-align: right;\n",
       "    }\n",
       "</style>\n",
       "<table border=\"1\" class=\"dataframe\">\n",
       "  <thead>\n",
       "    <tr style=\"text-align: right;\">\n",
       "      <th></th>\n",
       "      <th>negative</th>\n",
       "      <th>neutral</th>\n",
       "      <th>positive</th>\n",
       "      <th>accuracy</th>\n",
       "      <th>macro avg</th>\n",
       "      <th>weighted avg</th>\n",
       "    </tr>\n",
       "  </thead>\n",
       "  <tbody>\n",
       "    <tr>\n",
       "      <th>precision</th>\n",
       "      <td>0.521158</td>\n",
       "      <td>0.491935</td>\n",
       "      <td>0.465269</td>\n",
       "      <td>0.486527</td>\n",
       "      <td>0.492787</td>\n",
       "      <td>0.491148</td>\n",
       "    </tr>\n",
       "    <tr>\n",
       "      <th>recall</th>\n",
       "      <td>0.711246</td>\n",
       "      <td>0.100494</td>\n",
       "      <td>0.887500</td>\n",
       "      <td>0.486527</td>\n",
       "      <td>0.566413</td>\n",
       "      <td>0.486527</td>\n",
       "    </tr>\n",
       "    <tr>\n",
       "      <th>f1-score</th>\n",
       "      <td>0.601542</td>\n",
       "      <td>0.166895</td>\n",
       "      <td>0.610490</td>\n",
       "      <td>0.486527</td>\n",
       "      <td>0.459642</td>\n",
       "      <td>0.406743</td>\n",
       "    </tr>\n",
       "    <tr>\n",
       "      <th>support</th>\n",
       "      <td>329.000000</td>\n",
       "      <td>607.000000</td>\n",
       "      <td>400.000000</td>\n",
       "      <td>0.486527</td>\n",
       "      <td>1336.000000</td>\n",
       "      <td>1336.000000</td>\n",
       "    </tr>\n",
       "  </tbody>\n",
       "</table>\n",
       "</div>"
      ],
      "text/plain": [
       "             negative     neutral    positive  accuracy    macro avg  \\\n",
       "precision    0.521158    0.491935    0.465269  0.486527     0.492787   \n",
       "recall       0.711246    0.100494    0.887500  0.486527     0.566413   \n",
       "f1-score     0.601542    0.166895    0.610490  0.486527     0.459642   \n",
       "support    329.000000  607.000000  400.000000  0.486527  1336.000000   \n",
       "\n",
       "           weighted avg  \n",
       "precision      0.491148  \n",
       "recall         0.486527  \n",
       "f1-score       0.406743  \n",
       "support     1336.000000  "
      ]
     },
     "execution_count": 33,
     "metadata": {},
     "output_type": "execute_result"
    }
   ],
   "source": [
    "df_eval.head()"
   ]
  },
  {
   "cell_type": "code",
   "execution_count": null,
   "metadata": {},
   "outputs": [],
   "source": [
    "df_eval.to_xml(OUTPUT_PATH, index=False)"
   ]
  }
 ],
 "metadata": {
  "kernelspec": {
   "display_name": "Python 3",
   "language": "python",
   "name": "python3"
  },
  "language_info": {
   "codemirror_mode": {
    "name": "ipython",
    "version": 3
   },
   "file_extension": ".py",
   "mimetype": "text/x-python",
   "name": "python",
   "nbconvert_exporter": "python",
   "pygments_lexer": "ipython3",
   "version": "3.12.2"
  }
 },
 "nbformat": 4,
 "nbformat_minor": 2
}
