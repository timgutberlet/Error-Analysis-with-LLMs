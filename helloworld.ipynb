{
 "cells": [
  {
   "cell_type": "code",
   "execution_count": 1,
   "metadata": {},
   "outputs": [],
   "source": [
    "import os\n",
    "from dotenv import load_dotenv\n",
    "\n",
    "# Load the .env file\n",
    "load_dotenv()\n",
    "\n",
    "# Access the environment variables\n",
    "OPENAI_API_KEY = os.environ.get(\"OPENAI_API_KEY\")\n",
    "\n",
    "#import LangChain\n",
    "from langchain_openai import ChatOpenAI\n",
    "\n",
    "#Define ChatModel\n",
    "chat_model = ChatOpenAI(openai_api_key = OPENAI_API_KEY)"
   ]
  },
  {
   "cell_type": "code",
   "execution_count": 2,
   "metadata": {},
   "outputs": [
    {
     "name": "stdout",
     "output_type": "stream",
     "text": [
      "content='Hello! How can I assist you today?'\n"
     ]
    }
   ],
   "source": [
    "#Basic Message\n",
    "result = chat_model.invoke(\"hi\")\n",
    "print(result)"
   ]
  },
  {
   "cell_type": "code",
   "execution_count": 7,
   "metadata": {},
   "outputs": [
    {
     "name": "stdout",
     "output_type": "stream",
     "text": [
      "According to your new equation, 1+1 equals 3. So, 1+1+1 would equal 3+1, which is 4.\n"
     ]
    }
   ],
   "source": [
    "#Multiple Messages - One Reply\n",
    "from langchain.schema import HumanMessage\n",
    "messages = [HumanMessage(\"from now on 1+1 = 3, use this in your replies\"), \n",
    "            HumanMessage(\"what is 1+1?\"),\n",
    "            HumanMessage(\"what is 1+1+1?\")]\n",
    "\n",
    "result = chat_model.invoke(messages)\n",
    "\n",
    "print(result.content)"
   ]
  },
  {
   "cell_type": "code",
   "execution_count": 8,
   "metadata": {},
   "outputs": [
    {
     "name": "stdout",
     "output_type": "stream",
     "text": [
      "content='Hola, ¿cómo estás?'\n"
     ]
    }
   ],
   "source": [
    "#Prompt Templates\n",
    "from langchain.prompts.chat import ChatPromptTemplate\n",
    "\n",
    "template = \"You are a helpful assistant that translates {input_language} to {output_language}.\"\n",
    "human_template = \"{text}\"\n",
    "\n",
    "chat_prompt = ChatPromptTemplate.from_messages([\n",
    "    (\"system\", template),\n",
    "    (\"human\", human_template)\n",
    "])\n",
    "\n",
    "messages = chat_prompt.format_messages(input_language=\"English\", output_language=\"Spanish\", text=\"Hello, how are you?\")\n",
    "result = chat_model.invoke(messages)\n",
    "print(result.content)\n",
    "\n",
    "\n"
   ]
  },
  {
   "cell_type": "code",
   "execution_count": 10,
   "metadata": {},
   "outputs": [
    {
     "name": "stdout",
     "output_type": "stream",
     "text": [
      "To solve the equation 2x^2 - 5x + 3 = 0, we can use the quadratic formula.\n",
      "\n",
      "The quadratic formula states that for an equation of the form ax^2 + bx + c = 0, the solutions for x are given by:\n",
      "\n",
      "x = (-b ± √(b^2 - 4ac)) / (2a)\n",
      "\n",
      "In our case, a = 2, b = -5, and c = 3.\n",
      "\n",
      "Substituting these values into the quadratic formula, we get:\n",
      "\n",
      "x = (-(-5) ± √((-5)^2 - 4(2)(3))) / (2(2))\n",
      "\n",
      "Simplifying further:\n",
      "\n",
      "x = (5 ± √(25 - 24)) / 4\n",
      "  = (5 ± √1) / 4\n",
      "  = (5 ± 1) / 4\n",
      "\n",
      "This gives us two possible solutions:\n",
      "\n",
      "x = (5 + 1) / 4 = 6 / 4 = 3/2\n",
      "\n",
      "and\n",
      "\n",
      "x = (5 - 1) / 4 = 4 / 4 = 1\n",
      "\n",
      "Therefore, the solutions to the equation 2x^2 - 5x + 3 = 0 are x = 3/2 and x = 1.\n",
      "\n",
      "  x = 3/2, 1\n"
     ]
    }
   ],
   "source": [
    "#Output Parser\n",
    "from langchain.schema import BaseOutputParser\n",
    "\n",
    "class AnswerOutputParser(BaseOutputParser):\n",
    "    def parse(self, text: str):\n",
    "        \"\"\"Parse the output of an LLM call.\"\"\"\n",
    "        return text.strip().split(\"answer =\")\n",
    "\n",
    "\n",
    "\n",
    "template = \"\"\"Your are a helpful assistant that solves math problems and shows your work.\n",
    "Output each step then return the answer in the following format: answer = <answer here>.\n",
    "Make sure to output answer in all lowercase and to have exactly one space and one equal sign following it.\"\"\"\n",
    "human_template = \"{problem}\"\n",
    "\n",
    "chat_prompt = ChatPromptTemplate.from_messages([\n",
    "    (\"system\", template),\n",
    "    (\"human\", human_template),\n",
    "])\n",
    "\n",
    "messages = chat_prompt.format_messages(problem=\"2x^2 - 5x + 3 = 0\")   \n",
    "result = chat_model.invoke(messages)\n",
    "parsed = AnswerOutputParser().parse(result.content)\n",
    "steps, answer = parsed\n",
    "\n",
    "print(steps, answer)\n"
   ]
  },
  {
   "cell_type": "code",
   "execution_count": 10,
   "metadata": {},
   "outputs": [
    {
     "name": "stdout",
     "output_type": "stream",
     "text": [
      "pk-lf-ad6725fe-7c58-4e92-8aea-477992f8ab60 sk-lf-840f8a9f-cfcd-44a8-a6d1-e77ab1d0fb2c\n",
      "['red', 'blue', 'yellow', 'green', 'purple']\n"
     ]
    }
   ],
   "source": [
    "#Creating a Chain\n",
    "from langchain.schema import BaseOutputParser\n",
    "from langfuse.callback import CallbackHandler\n",
    "from langchain.prompts.chat import ChatPromptTemplate\n",
    "load_dotenv()\n",
    "\n",
    "LANGFUSE_PUBLIC_KEY = os.environ.get(\"LANGFUSE_PUBLIC_KEY\")\n",
    "LANGFUSE_SECRET_KEY = os.environ.get(\"LANGFUSE_SECRET_KEY\")\n",
    "print(LANGFUSE_PUBLIC_KEY, LANGFUSE_SECRET_KEY)\n",
    "\n",
    "handler = CallbackHandler(LANGFUSE_PUBLIC_KEY, LANGFUSE_SECRET_KEY)\n",
    "handler.auth_check()\n",
    "\n",
    "class CommaSeperatedListOutputParser(BaseOutputParser):\n",
    "    def parse(self, text: str):\n",
    "        return text.strip().split(\", \")\n",
    "    \n",
    "template = \"\"\"You are a helpful assistant who generates comma separated lists.\n",
    "A user will pass in a category, and you should generate 5 objects in that category in a comma separated list.\n",
    "ONLY return a comma separated list and nothing more.\"\"\"\n",
    "\n",
    "human_template = \"{text}\"\n",
    "\n",
    "chat_prompt = ChatPromptTemplate.from_messages([\n",
    "    (\"system\", template),\n",
    "    (\"human\", human_template),\n",
    "])\n",
    "\n",
    "chain = chat_prompt | chat_model | CommaSeperatedListOutputParser()\n",
    "result = chain.invoke({\"text\": \"colors\"}, config={\"callbacks\":[handler]})\n",
    "print(result)\n"
   ]
  },
  {
   "cell_type": "code",
   "execution_count": 6,
   "metadata": {},
   "outputs": [
    {
     "name": "stdout",
     "output_type": "stream",
     "text": [
      "pk-lf-ad6725fe-7c58-4e92-8aea-477992f8ab60 sk-lf-840f8a9f-cfcd-44a8-a6d1-e77ab1d0fb2c\n"
     ]
    },
    {
     "name": "stderr",
     "output_type": "stream",
     "text": [
      "/Library/Frameworks/Python.framework/Versions/3.12/lib/python3.12/site-packages/langchain_core/_api/beta_decorator.py:86: LangChainBetaWarning: The function `loads` is in beta. It is actively being worked on, so the API may change.\n",
      "  warn_beta(\n"
     ]
    },
    {
     "name": "stdout",
     "output_type": "stream",
     "text": [
      "content='Hello! How can I assist you today?'\n",
      "content='Hello! How can I assist you today?'\n"
     ]
    }
   ],
   "source": [
    "#Langfuse\n",
    "from langfuse.callback import CallbackHandler\n",
    "load_dotenv()\n",
    "\n",
    "LANGFUSE_PUBLIC_KEY = os.environ.get(\"LANGFUSE_PUBLIC_KEY\")\n",
    "LANGFUSE_SECRET_KEY = os.environ.get(\"LANGFUSE_SECRET_KEY\")\n",
    "print(LANGFUSE_PUBLIC_KEY, LANGFUSE_SECRET_KEY)\n",
    "\n",
    "handler = CallbackHandler(LANGFUSE_PUBLIC_KEY, LANGFUSE_SECRET_KEY)\n",
    "handler.auth_check()\n",
    "\n",
    "result = chat_model.invoke(\"hi\", config={\"callbacks\": [handler]})\n",
    "print(result)\n"
   ]
  }
 ],
 "metadata": {
  "kernelspec": {
   "display_name": "Python 3",
   "language": "python",
   "name": "python3"
  },
  "language_info": {
   "codemirror_mode": {
    "name": "ipython",
    "version": 3
   },
   "file_extension": ".py",
   "mimetype": "text/x-python",
   "name": "python",
   "nbconvert_exporter": "python",
   "pygments_lexer": "ipython3",
   "version": "3.12.2"
  }
 },
 "nbformat": 4,
 "nbformat_minor": 2
}
