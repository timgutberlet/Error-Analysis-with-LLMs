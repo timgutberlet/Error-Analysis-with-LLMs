{
 "cells": [
  {
   "cell_type": "code",
   "execution_count": 1,
   "metadata": {},
   "outputs": [],
   "source": [
    "import os\n",
    "import pandas as pd\n",
    "import sys\n",
    "import numpy as np\n",
    "import pandas as pd\n",
    "from sklearn.model_selection import train_test_split\n",
    "from sklearn.preprocessing import StandardScaler\n",
    "from sklearn.linear_model import LogisticRegression\n",
    "from sklearn.metrics import accuracy_score, confusion_matrix, classification_report\n",
    "\n",
    "dataname = \"linear_regression\"\n",
    "\n",
    "DATA_PATH = \"../../Datasets/Vehice dataset/Downsampled/Test/test_sampled.csv\"\n",
    "OUTPUT_PATH = f\"../../Datasets/Evaluations/Regression/{dataname}.csv\"\n",
    "\n",
    "TEST_PATH = \"../../Datasets/Vehice dataset/Downsampled/Test/test_sampled.csv\"\n",
    "TRAIN_PATH = \"../../Datasets/Vehice dataset/Downsampled/Train/train.csv\"\n",
    "VALID_PATH = \"../../Datasets/Vehice dataset/Downsampled/Valid/valid.csv\"\n",
    "\n",
    "\n"
   ]
  },
  {
   "cell_type": "code",
   "execution_count": 2,
   "metadata": {},
   "outputs": [
    {
     "name": "stdout",
     "output_type": "stream",
     "text": [
      "                                    name  year  selling_price  km_driven  \\\n",
      "0     Ford Figo Aspire 1.5 TDCi Titanium  2017         670000      70000   \n",
      "1  Mahindra Scorpio VLX 2WD AIRBAG BSIII  2012         525000     120000   \n",
      "2                 Maruti Swift Dzire VDI  2014         438999      81000   \n",
      "3              Ford Figo Diesel Titanium  2010         144000      50000   \n",
      "4                 Hyundai i10 Magna 1.1L  2008         185000     110000   \n",
      "\n",
      "     fuel seller_type transmission                 owner     mileage   engine  \\\n",
      "0  Diesel  Individual       Manual           First Owner  25.83 kmpl  1498 CC   \n",
      "1  Diesel  Individual       Manual           First Owner  12.05 kmpl  2179 CC   \n",
      "2  Diesel      Dealer       Manual           First Owner   23.4 kmpl  1248 CC   \n",
      "3  Diesel  Individual       Manual          Second Owner   20.0 kmpl  1399 CC   \n",
      "4  Petrol  Individual       Manual  Fourth & Above Owner  19.81 kmpl  1086 CC   \n",
      "\n",
      "   max_power               torque  seats  \n",
      "0     99 bhp  215Nm@ 1750-3000rpm    5.0  \n",
      "1    120 bhp  290Nm@ 1800-2800rpm    8.0  \n",
      "2     74 bhp       190Nm@ 2000rpm    5.0  \n",
      "3     68 bhp       160Nm@ 2000rpm    5.0  \n",
      "4  68.05 bhp     99.04Nm@ 4500rpm    5.0  \n"
     ]
    }
   ],
   "source": [
    "df_samples = pd.read_csv(DATA_PATH)\n",
    "df_test = pd.read_csv(DATA_PATH)\n",
    "df_train = pd.read_csv(TRAIN_PATH)\n",
    "\n",
    "df_test.drop(columns=['prediction', 'prompt'], inplace=True)\n",
    "df_samples.drop(columns=['prediction', 'prompt'], inplace=True)\n",
    "print(df_samples.head())"
   ]
  },
  {
   "cell_type": "code",
   "execution_count": 3,
   "metadata": {},
   "outputs": [],
   "source": [
    "\n",
    "df_samples = df_samples.dropna(how='any')\n",
    "\n",
    "df_samples['prediction'] = None\n",
    "df_samples[\"prompt\"] = f'{dataname}'\n",
    "df_samples[\"prompt_name\"] = f'{dataname}'\n",
    "df_samples[\"model_name\"] = f'{dataname}'\n"
   ]
  },
  {
   "cell_type": "code",
   "execution_count": 4,
   "metadata": {},
   "outputs": [
    {
     "name": "stdout",
     "output_type": "stream",
     "text": [
      "                                    name  year  selling_price  km_driven  \\\n",
      "0     Ford Figo Aspire 1.5 TDCi Titanium  2017         670000      70000   \n",
      "1  Mahindra Scorpio VLX 2WD AIRBAG BSIII  2012         525000     120000   \n",
      "2                 Maruti Swift Dzire VDI  2014         438999      81000   \n",
      "3              Ford Figo Diesel Titanium  2010         144000      50000   \n",
      "4                 Hyundai i10 Magna 1.1L  2008         185000     110000   \n",
      "\n",
      "     fuel seller_type transmission                 owner     mileage   engine  \\\n",
      "0  Diesel  Individual       Manual           First Owner  25.83 kmpl  1498 CC   \n",
      "1  Diesel  Individual       Manual           First Owner  12.05 kmpl  2179 CC   \n",
      "2  Diesel      Dealer       Manual           First Owner   23.4 kmpl  1248 CC   \n",
      "3  Diesel  Individual       Manual          Second Owner   20.0 kmpl  1399 CC   \n",
      "4  Petrol  Individual       Manual  Fourth & Above Owner  19.81 kmpl  1086 CC   \n",
      "\n",
      "   max_power               torque  seats prediction             prompt  \\\n",
      "0     99 bhp  215Nm@ 1750-3000rpm    5.0       None  linear_regression   \n",
      "1    120 bhp  290Nm@ 1800-2800rpm    8.0       None  linear_regression   \n",
      "2     74 bhp       190Nm@ 2000rpm    5.0       None  linear_regression   \n",
      "3     68 bhp       160Nm@ 2000rpm    5.0       None  linear_regression   \n",
      "4  68.05 bhp     99.04Nm@ 4500rpm    5.0       None  linear_regression   \n",
      "\n",
      "         prompt_name         model_name  \n",
      "0  linear_regression  linear_regression  \n",
      "1  linear_regression  linear_regression  \n",
      "2  linear_regression  linear_regression  \n",
      "3  linear_regression  linear_regression  \n",
      "4  linear_regression  linear_regression  \n"
     ]
    }
   ],
   "source": [
    "def pre_process(df):\n",
    "    df['year'] = 2020 - df['year']\n",
    "    df['mileage'] = df['mileage'].str.replace(' kmpl', '', regex=False)\n",
    "    df['mileage'] = df['mileage'].str.replace(' km/kg', '', regex=False)\n",
    "    df['mileage'] = pd.to_numeric(df['mileage'])\n",
    "\n",
    "    df['engine'] = df['engine'].str.replace(' CC', '', regex=False)\n",
    "    df['engine'] = pd.to_numeric(df['engine'])\n",
    "\n",
    "\n",
    "    df['max_power'] = df['max_power'].str.replace(' bhp', '', regex=False)\n",
    "    df['max_power'] = pd.to_numeric(df['max_power'])\n",
    "    \n",
    "    df = df.dropna(how='any')\n",
    "    return df\n",
    "\n",
    "df_train = pre_process(df_train)\n",
    "df_test = pre_process(df_test)\n",
    "\n",
    "print(df_samples.head())"
   ]
  },
  {
   "cell_type": "code",
   "execution_count": 5,
   "metadata": {},
   "outputs": [
    {
     "name": "stdout",
     "output_type": "stream",
     "text": [
      "Training RMSE: 312431.31455321616\n",
      "Test RMSE: 319730.43086791545\n",
      "Training R^2: 0.8532686126343211\n",
      "Test R^2: 0.8048301047122098\n"
     ]
    },
    {
     "name": "stderr",
     "output_type": "stream",
     "text": [
      "/Library/Frameworks/Python.framework/Versions/3.12/lib/python3.12/site-packages/sklearn/metrics/_regression.py:483: FutureWarning: 'squared' is deprecated in version 1.4 and will be removed in 1.6. To calculate the root mean squared error, use the function'root_mean_squared_error'.\n",
      "  warnings.warn(\n",
      "/Library/Frameworks/Python.framework/Versions/3.12/lib/python3.12/site-packages/sklearn/metrics/_regression.py:483: FutureWarning: 'squared' is deprecated in version 1.4 and will be removed in 1.6. To calculate the root mean squared error, use the function'root_mean_squared_error'.\n",
      "  warnings.warn(\n"
     ]
    }
   ],
   "source": [
    "import pandas as pd\n",
    "from sklearn.model_selection import train_test_split\n",
    "from sklearn.linear_model import LinearRegression\n",
    "from sklearn.metrics import mean_squared_error, r2_score\n",
    "from sklearn.preprocessing import OneHotEncoder\n",
    "from sklearn.compose import ColumnTransformer\n",
    "\n",
    "X_train = df_train.drop('selling_price', axis=1)\n",
    "y_train = df_train['selling_price']\n",
    "X_test = df_test.drop('selling_price', axis=1)\n",
    "y_test = df_test['selling_price']\n",
    "\n",
    "categorical_features = ['name', 'fuel', 'seller_type', 'transmission', 'owner', 'torque']\n",
    "\n",
    "preprocessor = ColumnTransformer(\n",
    "    transformers=[\n",
    "        ('onehot', OneHotEncoder(handle_unknown='ignore'), categorical_features)],\n",
    "    remainder='passthrough' \n",
    ")\n",
    "\n",
    "X_train_transformed = preprocessor.fit_transform(X_train)\n",
    "X_test_transformed = preprocessor.transform(X_test)\n",
    "\n",
    "model = LinearRegression()\n",
    "model.fit(X_train_transformed, y_train)\n",
    "\n",
    "y_train_pred = model.predict(X_train_transformed)\n",
    "y_test_pred = model.predict(X_test_transformed)\n",
    "\n",
    "train_rmse = mean_squared_error(y_train, y_train_pred, squared=False)\n",
    "test_rmse = mean_squared_error(y_test, y_test_pred, squared=False)\n",
    "train_r2 = r2_score(y_train, y_train_pred)\n",
    "test_r2 = r2_score(y_test, y_test_pred)\n",
    "\n",
    "print(f\"Training RMSE: {train_rmse}\")\n",
    "print(f\"Test RMSE: {test_rmse}\")\n",
    "print(f\"Training R^2: {train_r2}\")\n",
    "print(f\"Test R^2: {test_r2}\")\n",
    "\n"
   ]
  },
  {
   "cell_type": "code",
   "execution_count": 6,
   "metadata": {},
   "outputs": [],
   "source": [
    "df_samples['prediction'] = y_test_pred"
   ]
  },
  {
   "cell_type": "code",
   "execution_count": 7,
   "metadata": {},
   "outputs": [
    {
     "name": "stdout",
     "output_type": "stream",
     "text": [
      "                                    name  year  selling_price  km_driven  \\\n",
      "0     Ford Figo Aspire 1.5 TDCi Titanium  2017         670000      70000   \n",
      "1  Mahindra Scorpio VLX 2WD AIRBAG BSIII  2012         525000     120000   \n",
      "2                 Maruti Swift Dzire VDI  2014         438999      81000   \n",
      "3              Ford Figo Diesel Titanium  2010         144000      50000   \n",
      "4                 Hyundai i10 Magna 1.1L  2008         185000     110000   \n",
      "\n",
      "     fuel seller_type transmission                 owner     mileage   engine  \\\n",
      "0  Diesel  Individual       Manual           First Owner  25.83 kmpl  1498 CC   \n",
      "1  Diesel  Individual       Manual           First Owner  12.05 kmpl  2179 CC   \n",
      "2  Diesel      Dealer       Manual           First Owner   23.4 kmpl  1248 CC   \n",
      "3  Diesel  Individual       Manual          Second Owner   20.0 kmpl  1399 CC   \n",
      "4  Petrol  Individual       Manual  Fourth & Above Owner  19.81 kmpl  1086 CC   \n",
      "\n",
      "   max_power               torque  seats     prediction             prompt  \\\n",
      "0     99 bhp  215Nm@ 1750-3000rpm    5.0  813265.500023  linear_regression   \n",
      "1    120 bhp  290Nm@ 1800-2800rpm    8.0  627528.537707  linear_regression   \n",
      "2     74 bhp       190Nm@ 2000rpm    5.0  565766.192621  linear_regression   \n",
      "3     68 bhp       160Nm@ 2000rpm    5.0   58387.193082  linear_regression   \n",
      "4  68.05 bhp     99.04Nm@ 4500rpm    5.0   91111.353752  linear_regression   \n",
      "\n",
      "         prompt_name         model_name  \n",
      "0  linear_regression  linear_regression  \n",
      "1  linear_regression  linear_regression  \n",
      "2  linear_regression  linear_regression  \n",
      "3  linear_regression  linear_regression  \n",
      "4  linear_regression  linear_regression  \n"
     ]
    }
   ],
   "source": [
    "print(df_samples.head())"
   ]
  },
  {
   "cell_type": "code",
   "execution_count": 8,
   "metadata": {},
   "outputs": [],
   "source": [
    "df_samples.to_csv(OUTPUT_PATH, index=False)\n"
   ]
  },
  {
   "cell_type": "code",
   "execution_count": 22,
   "metadata": {},
   "outputs": [
    {
     "name": "stdout",
     "output_type": "stream",
     "text": [
      "year: -38479.14151431434\n",
      "km_driven: -0.3648629767248055\n",
      "mileage: 19114.769808185523\n",
      "engine: 153.73219109243212\n",
      "max_power: 12323.213547117957\n",
      "seats: -21767.67076070931\n"
     ]
    }
   ],
   "source": [
    "\n",
    "num_onehot_cols = sum([len(list(preprocessor.named_transformers_['onehot']\n",
    "                                .categories_[i]))\n",
    "                       for i in range(len(categorical_features))])\n",
    "\n",
    "start_of_numerical = num_onehot_cols\n",
    "\n",
    "total_coeffs = len(model.coef_)\n",
    "\n",
    "coeff_numerical = model.coef_[start_of_numerical:total_coeffs]\n",
    "\n",
    "numerical_features = [col for col in df_train.columns if col not in categorical_features + ['selling_price']]\n",
    "\n",
    "for feature, coeff in zip(numerical_features, coeff_numerical):\n",
    "    print(f\"{feature}: {coeff}\")\n"
   ]
  },
  {
   "cell_type": "code",
   "execution_count": 23,
   "metadata": {},
   "outputs": [
    {
     "name": "stdout",
     "output_type": "stream",
     "text": [
      "Category: name\n",
      "  name_BMW X4 M Sport X xDrive20d: 1387368.3490715402\n",
      "  name_Lexus ES 300h: 402989.08862877754\n",
      "  name_Volvo XC40 D4 Inscription BSIV: 347102.6590135363\n",
      "  name_Tata Safari Storme EX: -217773.602622581\n",
      "  name_Maruti 800 AC: 201662.42634670652\n",
      "\n",
      "Category: fuel\n",
      "  fuel_LPG: 61806.58802693046\n",
      "  fuel_Diesel: -46138.04652824192\n",
      "  fuel_Petrol: -41119.13278365966\n",
      "  fuel_CNG: 25450.591284979968\n",
      "\n",
      "Category: seller_type\n",
      "  seller_type_Trustmark Dealer: -217852.40761785238\n",
      "  seller_type_Dealer: 116105.34593741776\n",
      "  seller_type_Individual: 101747.06168043206\n",
      "\n",
      "Category: transmission\n",
      "  transmission_Manual: -227263.91571877588\n",
      "  transmission_Automatic: 227263.9157187721\n",
      "\n",
      "Category: owner\n",
      "  owner_Second Owner: -113670.47041470252\n",
      "  owner_First Owner: 56883.700194055826\n",
      "  owner_Test Drive Car: 45518.171886019074\n",
      "  owner_Fourth & Above Owner: 37333.79434278155\n",
      "  owner_Third Owner: -26065.196008146508\n",
      "\n",
      "Category: torque\n",
      "  torque_400Nm@ 1750-2500rpm: 1347359.8044444255\n",
      "  torque_59Nm@ 2500rpm: 540716.3847652712\n",
      "  torque_62Nm@ 3000rpm: 462182.2328247933\n",
      "  torque_202Nm@ 3600-5200rpm: 402989.08862877754\n",
      "  torque_400Nm: 363617.3787219339\n",
      "\n"
     ]
    }
   ],
   "source": [
    "\n",
    "feature_names = preprocessor.named_transformers_['onehot'].get_feature_names_out(categorical_features)\n",
    "\n",
    "coefficients = model.coef_[:num_onehot_cols] \n",
    "\n",
    "coeff_dict = dict(zip(feature_names, coefficients))\n",
    "\n",
    "top_weights_per_category = {}\n",
    "for category in categorical_features:\n",
    "    category_coeffs = {feature: coeff for feature, coeff in coeff_dict.items() if feature.startswith(category)}\n",
    "    top_weights = sorted(category_coeffs.items(), key=lambda x: abs(x[1]), reverse=True)[:5]\n",
    "    top_weights_per_category[category] = top_weights\n",
    "\n",
    "for category, weights in top_weights_per_category.items():\n",
    "    print(f\"Category: {category}\")\n",
    "    for feature, weight in weights:\n",
    "        print(f\"  {feature}: {weight}\")\n",
    "    print()\n"
   ]
  },
  {
   "cell_type": "code",
   "execution_count": null,
   "metadata": {},
   "outputs": [],
   "source": []
  }
 ],
 "metadata": {
  "kernelspec": {
   "display_name": "Python 3",
   "language": "python",
   "name": "python3"
  },
  "language_info": {
   "codemirror_mode": {
    "name": "ipython",
    "version": 3
   },
   "file_extension": ".py",
   "mimetype": "text/x-python",
   "name": "python",
   "nbconvert_exporter": "python",
   "pygments_lexer": "ipython3",
   "version": "3.12.2"
  }
 },
 "nbformat": 4,
 "nbformat_minor": 2
}
