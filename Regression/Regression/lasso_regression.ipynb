{
 "cells": [
  {
   "cell_type": "code",
   "execution_count": 14,
   "metadata": {},
   "outputs": [],
   "source": [
    "\n",
    "import pandas as pd\n",
    "import pandas as pd\n",
    "from sklearn.model_selection import train_test_split\n",
    "from sklearn.metrics import accuracy_score, confusion_matrix, classification_report\n",
    "\n",
    "dataname = \"lasso_regression\"\n",
    "\n",
    "DATA_PATH = \"../../Datasets/Vehice dataset/Downsampled/Test/test_sampled.csv\"\n",
    "OUTPUT_PATH = f\"../../Datasets/Evaluations/Regression/{dataname}.csv\"\n",
    "\n",
    "TEST_PATH = \"../../Datasets/Vehice dataset/Downsampled/Test/test_sampled.csv\"\n",
    "TRAIN_PATH = \"../../Datasets/Vehice dataset/Downsampled/Train/train.csv\"\n",
    "VALID_PATH = \"../../Datasets/Vehice dataset/Downsampled/Valid/valid.csv\"\n",
    "\n",
    "\n"
   ]
  },
  {
   "cell_type": "code",
   "execution_count": 15,
   "metadata": {},
   "outputs": [
    {
     "name": "stdout",
     "output_type": "stream",
     "text": [
      "                                    name  year  selling_price  km_driven  \\\n",
      "0     Ford Figo Aspire 1.5 TDCi Titanium  2017         670000      70000   \n",
      "1  Mahindra Scorpio VLX 2WD AIRBAG BSIII  2012         525000     120000   \n",
      "2                 Maruti Swift Dzire VDI  2014         438999      81000   \n",
      "3              Ford Figo Diesel Titanium  2010         144000      50000   \n",
      "4                 Hyundai i10 Magna 1.1L  2008         185000     110000   \n",
      "\n",
      "     fuel seller_type transmission                 owner     mileage   engine  \\\n",
      "0  Diesel  Individual       Manual           First Owner  25.83 kmpl  1498 CC   \n",
      "1  Diesel  Individual       Manual           First Owner  12.05 kmpl  2179 CC   \n",
      "2  Diesel      Dealer       Manual           First Owner   23.4 kmpl  1248 CC   \n",
      "3  Diesel  Individual       Manual          Second Owner   20.0 kmpl  1399 CC   \n",
      "4  Petrol  Individual       Manual  Fourth & Above Owner  19.81 kmpl  1086 CC   \n",
      "\n",
      "   max_power               torque  seats  \n",
      "0     99 bhp  215Nm@ 1750-3000rpm    5.0  \n",
      "1    120 bhp  290Nm@ 1800-2800rpm    8.0  \n",
      "2     74 bhp       190Nm@ 2000rpm    5.0  \n",
      "3     68 bhp       160Nm@ 2000rpm    5.0  \n",
      "4  68.05 bhp     99.04Nm@ 4500rpm    5.0  \n"
     ]
    }
   ],
   "source": [
    "df_samples = pd.read_csv(DATA_PATH)\n",
    "df_test = pd.read_csv(DATA_PATH)\n",
    "df_train = pd.read_csv(TRAIN_PATH)\n",
    "\n",
    "df_test.drop(columns=['prediction', 'prompt'], inplace=True)\n",
    "df_samples.drop(columns=['prediction', 'prompt'], inplace=True)\n",
    "print(df_samples.head())"
   ]
  },
  {
   "cell_type": "code",
   "execution_count": 16,
   "metadata": {},
   "outputs": [],
   "source": [
    "\n",
    "df_samples = df_samples.dropna(how='any')\n",
    "\n",
    "df_samples['prediction'] = None\n",
    "df_samples[\"prompt\"] = f'{dataname}'\n",
    "df_samples[\"prompt_name\"] = f'{dataname}'\n",
    "df_samples[\"model_name\"] = f'{dataname}'\n"
   ]
  },
  {
   "cell_type": "code",
   "execution_count": 17,
   "metadata": {},
   "outputs": [
    {
     "name": "stdout",
     "output_type": "stream",
     "text": [
      "                                    name  year  selling_price  km_driven  \\\n",
      "0     Ford Figo Aspire 1.5 TDCi Titanium  2017         670000      70000   \n",
      "1  Mahindra Scorpio VLX 2WD AIRBAG BSIII  2012         525000     120000   \n",
      "2                 Maruti Swift Dzire VDI  2014         438999      81000   \n",
      "3              Ford Figo Diesel Titanium  2010         144000      50000   \n",
      "4                 Hyundai i10 Magna 1.1L  2008         185000     110000   \n",
      "\n",
      "     fuel seller_type transmission                 owner     mileage   engine  \\\n",
      "0  Diesel  Individual       Manual           First Owner  25.83 kmpl  1498 CC   \n",
      "1  Diesel  Individual       Manual           First Owner  12.05 kmpl  2179 CC   \n",
      "2  Diesel      Dealer       Manual           First Owner   23.4 kmpl  1248 CC   \n",
      "3  Diesel  Individual       Manual          Second Owner   20.0 kmpl  1399 CC   \n",
      "4  Petrol  Individual       Manual  Fourth & Above Owner  19.81 kmpl  1086 CC   \n",
      "\n",
      "   max_power               torque  seats prediction            prompt  \\\n",
      "0     99 bhp  215Nm@ 1750-3000rpm    5.0       None  lasso_regression   \n",
      "1    120 bhp  290Nm@ 1800-2800rpm    8.0       None  lasso_regression   \n",
      "2     74 bhp       190Nm@ 2000rpm    5.0       None  lasso_regression   \n",
      "3     68 bhp       160Nm@ 2000rpm    5.0       None  lasso_regression   \n",
      "4  68.05 bhp     99.04Nm@ 4500rpm    5.0       None  lasso_regression   \n",
      "\n",
      "        prompt_name        model_name  \n",
      "0  lasso_regression  lasso_regression  \n",
      "1  lasso_regression  lasso_regression  \n",
      "2  lasso_regression  lasso_regression  \n",
      "3  lasso_regression  lasso_regression  \n",
      "4  lasso_regression  lasso_regression  \n"
     ]
    }
   ],
   "source": [
    "def pre_process(df):\n",
    "    df['year'] = 2020 - df['year']\n",
    "    df['mileage'] = df['mileage'].str.replace(' kmpl', '', regex=False)\n",
    "    df['mileage'] = df['mileage'].str.replace(' km/kg', '', regex=False)\n",
    "    df['mileage'] = pd.to_numeric(df['mileage'])\n",
    "\n",
    "    df['engine'] = df['engine'].str.replace(' CC', '', regex=False)\n",
    "    df['engine'] = pd.to_numeric(df['engine'])\n",
    "\n",
    "\n",
    "    df['max_power'] = df['max_power'].str.replace(' bhp', '', regex=False)\n",
    "    df['max_power'] = pd.to_numeric(df['max_power'])\n",
    "    \n",
    "    df = df.dropna(how='any')\n",
    "    return df\n",
    "\n",
    "df_train = pre_process(df_train)\n",
    "df_test = pre_process(df_test)\n",
    "\n",
    "print(df_samples.head())"
   ]
  },
  {
   "cell_type": "code",
   "execution_count": 18,
   "metadata": {},
   "outputs": [
    {
     "name": "stdout",
     "output_type": "stream",
     "text": [
      "Training RMSE: 75815.86846722524\n",
      "Test RMSE: 229249.8101528772\n",
      "Training R^2: 0.9913595941959932\n",
      "Test R^2: 0.8996625978064465\n"
     ]
    },
    {
     "name": "stderr",
     "output_type": "stream",
     "text": [
      "/Library/Frameworks/Python.framework/Versions/3.12/lib/python3.12/site-packages/sklearn/linear_model/_coordinate_descent.py:639: ConvergenceWarning: Objective did not converge. You might want to increase the number of iterations. Duality gap: 15886027710994.666, tolerance: 336683959268.5045\n",
      "  model = cd_fast.sparse_enet_coordinate_descent(\n",
      "/Library/Frameworks/Python.framework/Versions/3.12/lib/python3.12/site-packages/sklearn/metrics/_regression.py:483: FutureWarning: 'squared' is deprecated in version 1.4 and will be removed in 1.6. To calculate the root mean squared error, use the function'root_mean_squared_error'.\n",
      "  warnings.warn(\n",
      "/Library/Frameworks/Python.framework/Versions/3.12/lib/python3.12/site-packages/sklearn/metrics/_regression.py:483: FutureWarning: 'squared' is deprecated in version 1.4 and will be removed in 1.6. To calculate the root mean squared error, use the function'root_mean_squared_error'.\n",
      "  warnings.warn(\n"
     ]
    }
   ],
   "source": [
    "\n",
    "from sklearn.model_selection import train_test_split\n",
    "from sklearn.metrics import mean_squared_error, r2_score\n",
    "from sklearn.preprocessing import OneHotEncoder\n",
    "from sklearn.compose import ColumnTransformer\n",
    "from sklearn.linear_model import Lasso\n",
    "\n",
    "X_train = df_train.drop('selling_price', axis=1)\n",
    "y_train = df_train['selling_price']\n",
    "X_test = df_test.drop('selling_price', axis=1)\n",
    "y_test = df_test['selling_price']\n",
    "\n",
    "categorical_features = ['name', 'fuel', 'seller_type', 'transmission', 'owner', 'torque']\n",
    "\n",
    "preprocessor = ColumnTransformer(\n",
    "    transformers=[\n",
    "        ('onehot', OneHotEncoder(handle_unknown='ignore'), categorical_features)],\n",
    "    remainder='passthrough'  \n",
    ")\n",
    "\n",
    "X_train_transformed = preprocessor.fit_transform(X_train)\n",
    "X_test_transformed = preprocessor.transform(X_test)\n",
    "\n",
    "model = Lasso(alpha=1.0, random_state=42)\n",
    "model.fit(X_train_transformed, y_train)\n",
    "\n",
    "y_train_pred = model.predict(X_train_transformed)\n",
    "y_test_pred = model.predict(X_test_transformed)\n",
    "\n",
    "train_rmse = mean_squared_error(y_train, y_train_pred, squared=False)\n",
    "test_rmse = mean_squared_error(y_test, y_test_pred, squared=False)\n",
    "train_r2 = r2_score(y_train, y_train_pred)\n",
    "test_r2 = r2_score(y_test, y_test_pred)\n",
    "\n",
    "print(f\"Training RMSE: {train_rmse}\")\n",
    "print(f\"Test RMSE: {test_rmse}\")\n",
    "print(f\"Training R^2: {train_r2}\")\n",
    "print(f\"Test R^2: {test_r2}\")\n",
    "\n"
   ]
  },
  {
   "cell_type": "code",
   "execution_count": 19,
   "metadata": {},
   "outputs": [],
   "source": [
    "df_samples['prediction'] = y_test_pred"
   ]
  },
  {
   "cell_type": "code",
   "execution_count": 20,
   "metadata": {},
   "outputs": [
    {
     "name": "stdout",
     "output_type": "stream",
     "text": [
      "                                    name  year  selling_price  km_driven  \\\n",
      "0     Ford Figo Aspire 1.5 TDCi Titanium  2017         670000      70000   \n",
      "1  Mahindra Scorpio VLX 2WD AIRBAG BSIII  2012         525000     120000   \n",
      "2                 Maruti Swift Dzire VDI  2014         438999      81000   \n",
      "3              Ford Figo Diesel Titanium  2010         144000      50000   \n",
      "4                 Hyundai i10 Magna 1.1L  2008         185000     110000   \n",
      "\n",
      "     fuel seller_type transmission                 owner     mileage   engine  \\\n",
      "0  Diesel  Individual       Manual           First Owner  25.83 kmpl  1498 CC   \n",
      "1  Diesel  Individual       Manual           First Owner  12.05 kmpl  2179 CC   \n",
      "2  Diesel      Dealer       Manual           First Owner   23.4 kmpl  1248 CC   \n",
      "3  Diesel  Individual       Manual          Second Owner   20.0 kmpl  1399 CC   \n",
      "4  Petrol  Individual       Manual  Fourth & Above Owner  19.81 kmpl  1086 CC   \n",
      "\n",
      "   max_power               torque  seats     prediction            prompt  \\\n",
      "0     99 bhp  215Nm@ 1750-3000rpm    5.0  432836.550277  lasso_regression   \n",
      "1    120 bhp  290Nm@ 1800-2800rpm    8.0  592920.198926  lasso_regression   \n",
      "2     74 bhp       190Nm@ 2000rpm    5.0  540857.339895  lasso_regression   \n",
      "3     68 bhp       160Nm@ 2000rpm    5.0  182880.480920  lasso_regression   \n",
      "4  68.05 bhp     99.04Nm@ 4500rpm    5.0  123385.023026  lasso_regression   \n",
      "\n",
      "        prompt_name        model_name  \n",
      "0  lasso_regression  lasso_regression  \n",
      "1  lasso_regression  lasso_regression  \n",
      "2  lasso_regression  lasso_regression  \n",
      "3  lasso_regression  lasso_regression  \n",
      "4  lasso_regression  lasso_regression  \n"
     ]
    }
   ],
   "source": [
    "print(df_samples.head())"
   ]
  },
  {
   "cell_type": "code",
   "execution_count": 21,
   "metadata": {},
   "outputs": [],
   "source": [
    "df_samples.to_csv(OUTPUT_PATH, index=False)\n"
   ]
  },
  {
   "cell_type": "code",
   "execution_count": 12,
   "metadata": {},
   "outputs": [
    {
     "name": "stdout",
     "output_type": "stream",
     "text": [
      "Numerical feature coefficients from Lasso Regression:\n",
      "year: -31103.119270615327\n",
      "km_driven: -0.16451002827316483\n",
      "mileage: 5260.349728608884\n",
      "engine: 181.81024255383468\n",
      "max_power: 3621.43811732179\n",
      "seats: -27557.451975485492\n"
     ]
    }
   ],
   "source": [
    "import numpy as np\n",
    "\n",
    "all_features = X_train.columns\n",
    "numerical_features = [col for col in all_features if col not in categorical_features]\n",
    "\n",
    "onehot_features = preprocessor.named_transformers_['onehot'].get_feature_names_out(categorical_features)\n",
    "transformed_feature_names = np.concatenate([onehot_features, numerical_features])\n",
    "\n",
    "lasso_coefficients = model.coef_\n",
    "\n",
    "feature_coefficients = dict(zip(transformed_feature_names, lasso_coefficients))\n",
    "\n",
    "numerical_feature_coefficients = {feature: coef for feature, coef in feature_coefficients.items() if feature in numerical_features}\n",
    "\n",
    "print(\"Numerical feature coefficients from Lasso Regression:\")\n",
    "for feature, coef in numerical_feature_coefficients.items():\n",
    "    print(f\"{feature}: {coef}\")\n"
   ]
  },
  {
   "cell_type": "code",
   "execution_count": 13,
   "metadata": {},
   "outputs": [
    {
     "name": "stdout",
     "output_type": "stream",
     "text": [
      "Top 5 weights for name:\n",
      "  name_Volvo XC90 T8 Excellence BSIV: 7886940.749389883\n",
      "  name_Audi A6 35 TFSI Matrix: 4219838.68796118\n",
      "  name_Mercedes-Benz S-Class S 350 CDI: 4085709.416624769\n",
      "  name_Volvo XC60 Inscription D5 BSIV: 4009573.143621004\n",
      "  name_BMW 6 Series GT 630d Luxury Line: 3978452.1546066776\n",
      "\n",
      "Top 5 weights for fuel:\n",
      "  fuel_Diesel: 94793.5538955685\n",
      "  fuel_LPG: 53554.118327293734\n",
      "  fuel_CNG: -13293.74598238184\n",
      "  fuel_Petrol: -402.5393102986331\n",
      "\n",
      "Top 5 weights for seller_type:\n",
      "  seller_type_Trustmark Dealer: -81804.9098904356\n",
      "  seller_type_Dealer: 22140.23830742119\n",
      "  seller_type_Individual: 11514.651168594737\n",
      "\n",
      "Top 5 weights for transmission:\n",
      "  transmission_Automatic: 156371.7607120357\n",
      "  transmission_Manual: -1.1126889289197336e-06\n",
      "\n",
      "Top 5 weights for owner:\n",
      "  owner_Test Drive Car: 536738.9785793227\n",
      "  owner_First Owner: 27776.354307328493\n",
      "  owner_Third Owner: -8623.491065852064\n",
      "  owner_Fourth & Above Owner: -23.650747973642964\n",
      "  owner_Second Owner: -0.0\n",
      "\n",
      "Top 5 weights for torque:\n",
      "  torque_619Nm@ 1600-2400rpm: 1753245.3386057168\n",
      "  torque_380Nm@ 1750-2500rpm: 993553.5083129224\n",
      "  torque_300Nm@ 1600-3000rpm: 929677.6277088482\n",
      "  torque_420Nm@ 1400-2600rpm: 890124.2961912298\n",
      "  torque_450Nm@ 1600-2400rpm: 871961.7537619015\n",
      "\n"
     ]
    }
   ],
   "source": [
    "\n",
    "lasso_coefficients = model.coef_\n",
    "\n",
    "onehot_feature_names = preprocessor.named_transformers_['onehot'].get_feature_names_out(categorical_features)\n",
    "\n",
    "onehot_feature_coefficients = dict(zip(onehot_feature_names, lasso_coefficients[:len(onehot_feature_names)]))\n",
    "\n",
    "top_weights_per_categorical_feature = {}\n",
    "for original_feature in categorical_features:\n",
    "    current_feature_coeffs = {feature: coef for feature, coef in onehot_feature_coefficients.items() if feature.startswith(original_feature)}\n",
    "    \n",
    "    top_features = sorted(current_feature_coeffs.items(), key=lambda x: abs(x[1]), reverse=True)[:5]\n",
    "    \n",
    "    top_weights_per_categorical_feature[original_feature] = top_features\n",
    "\n",
    "for feature, weights in top_weights_per_categorical_feature.items():\n",
    "    print(f\"Top 5 weights for {feature}:\")\n",
    "    for weight in weights:\n",
    "        print(f\"  {weight[0]}: {weight[1]}\")\n",
    "    print(\"\") \n"
   ]
  }
 ],
 "metadata": {
  "kernelspec": {
   "display_name": "Python 3",
   "language": "python",
   "name": "python3"
  },
  "language_info": {
   "codemirror_mode": {
    "name": "ipython",
    "version": 3
   },
   "file_extension": ".py",
   "mimetype": "text/x-python",
   "name": "python",
   "nbconvert_exporter": "python",
   "pygments_lexer": "ipython3",
   "version": "3.12.2"
  }
 },
 "nbformat": 4,
 "nbformat_minor": 2
}
