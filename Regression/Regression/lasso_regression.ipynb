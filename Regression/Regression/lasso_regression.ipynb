{
 "cells": [
  {
   "cell_type": "code",
   "execution_count": 46,
   "metadata": {},
   "outputs": [],
   "source": [
    "# File for machine learning model - Lasso Regression\n",
    "\n",
    "\n",
    "import pandas as pd\n",
    "import pandas as pd\n",
    "from sklearn.model_selection import train_test_split\n",
    "from sklearn.metrics import accuracy_score, confusion_matrix, classification_report\n",
    "\n",
    "dataname = \"lasso_regression\"\n",
    "\n",
    "OUTPUT_PATH = f\"../../Datasets/Evaluations/Regression/{dataname}.csv\"\n",
    "\n",
    "TEST_PATH = \"../../Datasets/Vehice dataset/Downsampled/Test/test_sampled.csv\"\n",
    "TRAIN_PATH = \"../../Datasets/Vehice dataset/Downsampled/Train/train.csv\"\n",
    "VALID_PATH = \"../../Datasets/Vehice dataset/Downsampled/Valid/valid.csv\"\n",
    "\n",
    "\n"
   ]
  },
  {
   "cell_type": "code",
   "execution_count": 47,
   "metadata": {},
   "outputs": [],
   "source": [
    "df_test = pd.read_csv(TEST_PATH)\n",
    "df_train = pd.read_csv(TRAIN_PATH)\n",
    "\n",
    "df_test.drop(columns=['prediction', 'prompt'], inplace=True)\n",
    "#df_train.drop(columns=['prediction', 'prompt'], inplace=True)\n"
   ]
  },
  {
   "cell_type": "code",
   "execution_count": 48,
   "metadata": {},
   "outputs": [],
   "source": [
    "def pre_process(df):\n",
    "    df['year'] = 2020 - df['year']\n",
    "    df['mileage'] = df['mileage'].str.replace(' kmpl', '', regex=False)\n",
    "    df['mileage'] = df['mileage'].str.replace(' km/kg', '', regex=False)\n",
    "    df['mileage'] = pd.to_numeric(df['mileage'])\n",
    "\n",
    "    df['engine'] = df['engine'].str.replace(' CC', '', regex=False)\n",
    "    df['engine'] = pd.to_numeric(df['engine'])\n",
    "\n",
    "\n",
    "    df['max_power'] = df['max_power'].str.replace(' bhp', '', regex=False)\n",
    "    df['max_power'] = pd.to_numeric(df['max_power'])\n",
    "    \n",
    "    df = df.dropna(how='any')\n",
    "    return df\n",
    "\n",
    "df_train = pre_process(df_train)\n",
    "df_test = pre_process(df_test)\n",
    "\n"
   ]
  },
  {
   "cell_type": "code",
   "execution_count": 49,
   "metadata": {},
   "outputs": [
    {
     "name": "stdout",
     "output_type": "stream",
     "text": [
      "Training RMSE: 75815.86846722524\n",
      "Test RMSE: 229249.8101528772\n",
      "Training R^2: 0.9913595941959932\n",
      "Test R^2: 0.8996625978064465\n"
     ]
    },
    {
     "name": "stderr",
     "output_type": "stream",
     "text": [
      "/Library/Frameworks/Python.framework/Versions/3.12/lib/python3.12/site-packages/sklearn/linear_model/_coordinate_descent.py:639: ConvergenceWarning: Objective did not converge. You might want to increase the number of iterations. Duality gap: 15886027710994.666, tolerance: 336683959268.5045\n",
      "  model = cd_fast.sparse_enet_coordinate_descent(\n",
      "/Library/Frameworks/Python.framework/Versions/3.12/lib/python3.12/site-packages/sklearn/metrics/_regression.py:483: FutureWarning: 'squared' is deprecated in version 1.4 and will be removed in 1.6. To calculate the root mean squared error, use the function'root_mean_squared_error'.\n",
      "  warnings.warn(\n",
      "/Library/Frameworks/Python.framework/Versions/3.12/lib/python3.12/site-packages/sklearn/metrics/_regression.py:483: FutureWarning: 'squared' is deprecated in version 1.4 and will be removed in 1.6. To calculate the root mean squared error, use the function'root_mean_squared_error'.\n",
      "  warnings.warn(\n"
     ]
    }
   ],
   "source": [
    "\n",
    "from sklearn.model_selection import train_test_split\n",
    "from sklearn.metrics import mean_squared_error, r2_score\n",
    "from sklearn.preprocessing import OneHotEncoder\n",
    "from sklearn.compose import ColumnTransformer\n",
    "from sklearn.linear_model import Lasso\n",
    "\n",
    "X_train = df_train.drop('selling_price', axis=1)\n",
    "y_train = df_train['selling_price']\n",
    "X_test = df_test.drop('selling_price', axis=1)\n",
    "y_test = df_test['selling_price']\n",
    "\n",
    "categorical_features = ['name', 'fuel', 'seller_type', 'transmission', 'owner', 'torque']\n",
    "\n",
    "preprocessor = ColumnTransformer(\n",
    "    transformers=[\n",
    "        ('onehot', OneHotEncoder(handle_unknown='ignore'), categorical_features)],\n",
    "    remainder='passthrough'  \n",
    ")\n",
    "\n",
    "X_train_transformed = preprocessor.fit_transform(X_train)\n",
    "X_test_transformed = preprocessor.transform(X_test)\n",
    "\n",
    "model = Lasso(alpha=1.0, random_state=42)\n",
    "model.fit(X_train_transformed, y_train)\n",
    "\n",
    "y_train_pred = model.predict(X_train_transformed)\n",
    "y_test_pred = model.predict(X_test_transformed)\n",
    "\n",
    "train_rmse = mean_squared_error(y_train, y_train_pred, squared=False)\n",
    "test_rmse = mean_squared_error(y_test, y_test_pred, squared=False)\n",
    "train_r2 = r2_score(y_train, y_train_pred)\n",
    "test_r2 = r2_score(y_test, y_test_pred)\n",
    "\n",
    "print(f\"Training RMSE: {train_rmse}\")\n",
    "print(f\"Test RMSE: {test_rmse}\")\n",
    "print(f\"Training R^2: {train_r2}\")\n",
    "print(f\"Test R^2: {test_r2}\")\n",
    "\n"
   ]
  },
  {
   "cell_type": "code",
   "execution_count": 50,
   "metadata": {},
   "outputs": [],
   "source": [
    "df_test['prediction'] = y_test_pred"
   ]
  },
  {
   "cell_type": "code",
   "execution_count": 51,
   "metadata": {},
   "outputs": [
    {
     "name": "stdout",
     "output_type": "stream",
     "text": [
      "Numerical feature coefficients from Lasso Regression:\n",
      "year: -31103.119270615327\n",
      "km_driven: -0.16451002827316483\n",
      "mileage: 5260.349728608884\n",
      "engine: 181.81024255383468\n",
      "max_power: 3621.43811732179\n",
      "seats: -27557.451975485492\n",
      "Categorical feature coefficients from Lasso Regression:\n",
      "name: 'Mahindra Scorpio VLX 2WD AIRBAG BSIII', weight: 119211.59386669246\n",
      "fuel: 'Diesel', weight: 94793.5538955685\n",
      "seller_type: 'Individual', weight: 11514.651168594737\n",
      "transmission: 'Manual', weight: -1.1126889289197336e-06\n",
      "owner: 'First Owner', weight: 27776.354307328493\n",
      "torque: '290Nm@ 1800-2800rpm', weight: -132809.01702756013\n",
      "\n"
     ]
    }
   ],
   "source": [
    "import pandas as pd\n",
    "import numpy as np\n",
    "\n",
    "numerical_features = ['year', 'km_driven', 'mileage', 'engine', 'max_power', 'seats']\n",
    "\n",
    "categorical_feature_names = preprocessor.named_transformers_['onehot'].get_feature_names_out(categorical_features)\n",
    "all_feature_names = np.concatenate((categorical_feature_names, numerical_features))\n",
    "\n",
    "coefficients = model.coef_\n",
    "\n",
    "feature_weights = dict(zip(all_feature_names, coefficients))\n",
    "\n",
    "def get_categorical_weights(row, feature_names, feature_weights):\n",
    "    weights_str = \"Categorical feature coefficients from Lasso Regression:\\n\"\n",
    "    for feature in categorical_features:\n",
    "        specific_feature_name = f\"{feature}_{row[feature]}\"\n",
    "        weight = feature_weights.get(specific_feature_name, 0)\n",
    "        weights_str += f\"{feature}: '{row[feature]}', weight: {weight}\\n\"\n",
    "    return weights_str\n",
    "\n",
    "def add_feature_weights(row, numerical_features, categorical_feature_names, feature_weights):\n",
    "    numerical_weights_str = \"Numerical feature coefficients from Lasso Regression:\\n\" + \\\n",
    "                            \"\\n\".join([f\"{feature}: {feature_weights[feature]}\" for feature in numerical_features])\n",
    "    \n",
    "    categorical_weights_str = get_categorical_weights(row, categorical_feature_names, feature_weights)\n",
    "    \n",
    "    return numerical_weights_str + \"\\n\" + categorical_weights_str\n",
    "\n",
    "df_test['feature_weights'] = df_test.apply(add_feature_weights, axis=1, numerical_features=numerical_features, categorical_feature_names=categorical_feature_names, feature_weights=feature_weights)\n",
    "\n",
    "print(df_test['feature_weights'][1])"
   ]
  },
  {
   "cell_type": "code",
   "execution_count": 52,
   "metadata": {},
   "outputs": [
    {
     "name": "stdout",
     "output_type": "stream",
     "text": [
      "                                    name  year  selling_price  km_driven  \\\n",
      "0     Ford Figo Aspire 1.5 TDCi Titanium     3         670000      70000   \n",
      "1  Mahindra Scorpio VLX 2WD AIRBAG BSIII     8         525000     120000   \n",
      "2                 Maruti Swift Dzire VDI     6         438999      81000   \n",
      "3              Ford Figo Diesel Titanium    10         144000      50000   \n",
      "4                 Hyundai i10 Magna 1.1L    12         185000     110000   \n",
      "\n",
      "     fuel seller_type transmission                 owner  mileage  engine  \\\n",
      "0  Diesel  Individual       Manual           First Owner    25.83  1498.0   \n",
      "1  Diesel  Individual       Manual           First Owner    12.05  2179.0   \n",
      "2  Diesel      Dealer       Manual           First Owner    23.40  1248.0   \n",
      "3  Diesel  Individual       Manual          Second Owner    20.00  1399.0   \n",
      "4  Petrol  Individual       Manual  Fourth & Above Owner    19.81  1086.0   \n",
      "\n",
      "   max_power               torque  seats     prediction  \\\n",
      "0      99.00  215Nm@ 1750-3000rpm    5.0  432836.550277   \n",
      "1     120.00  290Nm@ 1800-2800rpm    8.0  592920.198926   \n",
      "2      74.00       190Nm@ 2000rpm    5.0  540857.339895   \n",
      "3      68.00       160Nm@ 2000rpm    5.0  182880.480920   \n",
      "4      68.05     99.04Nm@ 4500rpm    5.0  123385.023026   \n",
      "\n",
      "                                     feature_weights  \n",
      "0  Numerical feature coefficients from Lasso Regr...  \n",
      "1  Numerical feature coefficients from Lasso Regr...  \n",
      "2  Numerical feature coefficients from Lasso Regr...  \n",
      "3  Numerical feature coefficients from Lasso Regr...  \n",
      "4  Numerical feature coefficients from Lasso Regr...  \n"
     ]
    }
   ],
   "source": [
    "print(df_test.head())   "
   ]
  },
  {
   "cell_type": "code",
   "execution_count": null,
   "metadata": {},
   "outputs": [],
   "source": [
    "df_test.to_csv(OUTPUT_PATH, index=False)\n"
   ]
  }
 ],
 "metadata": {
  "kernelspec": {
   "display_name": "Python 3",
   "language": "python",
   "name": "python3"
  },
  "language_info": {
   "codemirror_mode": {
    "name": "ipython",
    "version": 3
   },
   "file_extension": ".py",
   "mimetype": "text/x-python",
   "name": "python",
   "nbconvert_exporter": "python",
   "pygments_lexer": "ipython3",
   "version": "3.12.2"
  }
 },
 "nbformat": 4,
 "nbformat_minor": 2
}
