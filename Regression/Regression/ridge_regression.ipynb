{
 "cells": [
  {
   "cell_type": "code",
   "execution_count": 10,
   "metadata": {},
   "outputs": [],
   "source": [
    "\n",
    "import pandas as pd\n",
    "from sklearn.preprocessing import StandardScaler\n",
    "\n",
    "from sklearn.metrics import accuracy_score, confusion_matrix, classification_report\n",
    "\n",
    "dataname = \"ridge_regression\"\n",
    "\n",
    "DATA_PATH = \"../../Datasets/Vehice dataset/Downsampled/Test/test_sampled.csv\"\n",
    "OUTPUT_PATH = f\"../../Datasets/Evaluations/Regression/{dataname}.csv\"\n",
    "\n",
    "TEST_PATH = \"../../Datasets/Vehice dataset/Downsampled/Test/test_sampled.csv\"\n",
    "TRAIN_PATH = \"../../Datasets/Vehice dataset/Downsampled/Train/train.csv\"\n",
    "VALID_PATH = \"../../Datasets/Vehice dataset/Downsampled/Valid/valid.csv\"\n",
    "\n",
    "\n"
   ]
  },
  {
   "cell_type": "code",
   "execution_count": 11,
   "metadata": {},
   "outputs": [
    {
     "name": "stdout",
     "output_type": "stream",
     "text": [
      "                                    name  year  selling_price  km_driven  \\\n",
      "0     Ford Figo Aspire 1.5 TDCi Titanium  2017         670000      70000   \n",
      "1  Mahindra Scorpio VLX 2WD AIRBAG BSIII  2012         525000     120000   \n",
      "2                 Maruti Swift Dzire VDI  2014         438999      81000   \n",
      "3              Ford Figo Diesel Titanium  2010         144000      50000   \n",
      "4                 Hyundai i10 Magna 1.1L  2008         185000     110000   \n",
      "\n",
      "     fuel seller_type transmission                 owner     mileage   engine  \\\n",
      "0  Diesel  Individual       Manual           First Owner  25.83 kmpl  1498 CC   \n",
      "1  Diesel  Individual       Manual           First Owner  12.05 kmpl  2179 CC   \n",
      "2  Diesel      Dealer       Manual           First Owner   23.4 kmpl  1248 CC   \n",
      "3  Diesel  Individual       Manual          Second Owner   20.0 kmpl  1399 CC   \n",
      "4  Petrol  Individual       Manual  Fourth & Above Owner  19.81 kmpl  1086 CC   \n",
      "\n",
      "   max_power               torque  seats  \n",
      "0     99 bhp  215Nm@ 1750-3000rpm    5.0  \n",
      "1    120 bhp  290Nm@ 1800-2800rpm    8.0  \n",
      "2     74 bhp       190Nm@ 2000rpm    5.0  \n",
      "3     68 bhp       160Nm@ 2000rpm    5.0  \n",
      "4  68.05 bhp     99.04Nm@ 4500rpm    5.0  \n"
     ]
    }
   ],
   "source": [
    "df_samples = pd.read_csv(DATA_PATH)\n",
    "df_test = pd.read_csv(DATA_PATH)\n",
    "df_train = pd.read_csv(TRAIN_PATH)\n",
    "\n",
    "df_test.drop(columns=['prediction', 'prompt'], inplace=True)\n",
    "df_samples.drop(columns=['prediction', 'prompt'], inplace=True)\n",
    "print(df_samples.head())"
   ]
  },
  {
   "cell_type": "code",
   "execution_count": 12,
   "metadata": {},
   "outputs": [],
   "source": [
    "\n",
    "df_samples = df_samples.dropna(how='any')\n",
    "\n",
    "df_samples['prediction'] = None\n",
    "df_samples[\"prompt\"] = f'{dataname}'\n",
    "df_samples[\"prompt_name\"] = f'{dataname}'\n",
    "df_samples[\"model_name\"] = f'{dataname}'\n"
   ]
  },
  {
   "cell_type": "code",
   "execution_count": 13,
   "metadata": {},
   "outputs": [
    {
     "name": "stdout",
     "output_type": "stream",
     "text": [
      "                                    name  year  selling_price  km_driven  \\\n",
      "0     Ford Figo Aspire 1.5 TDCi Titanium  2017         670000      70000   \n",
      "1  Mahindra Scorpio VLX 2WD AIRBAG BSIII  2012         525000     120000   \n",
      "2                 Maruti Swift Dzire VDI  2014         438999      81000   \n",
      "3              Ford Figo Diesel Titanium  2010         144000      50000   \n",
      "4                 Hyundai i10 Magna 1.1L  2008         185000     110000   \n",
      "\n",
      "     fuel seller_type transmission                 owner     mileage   engine  \\\n",
      "0  Diesel  Individual       Manual           First Owner  25.83 kmpl  1498 CC   \n",
      "1  Diesel  Individual       Manual           First Owner  12.05 kmpl  2179 CC   \n",
      "2  Diesel      Dealer       Manual           First Owner   23.4 kmpl  1248 CC   \n",
      "3  Diesel  Individual       Manual          Second Owner   20.0 kmpl  1399 CC   \n",
      "4  Petrol  Individual       Manual  Fourth & Above Owner  19.81 kmpl  1086 CC   \n",
      "\n",
      "   max_power               torque  seats prediction            prompt  \\\n",
      "0     99 bhp  215Nm@ 1750-3000rpm    5.0       None  ridge_regression   \n",
      "1    120 bhp  290Nm@ 1800-2800rpm    8.0       None  ridge_regression   \n",
      "2     74 bhp       190Nm@ 2000rpm    5.0       None  ridge_regression   \n",
      "3     68 bhp       160Nm@ 2000rpm    5.0       None  ridge_regression   \n",
      "4  68.05 bhp     99.04Nm@ 4500rpm    5.0       None  ridge_regression   \n",
      "\n",
      "        prompt_name        model_name  \n",
      "0  ridge_regression  ridge_regression  \n",
      "1  ridge_regression  ridge_regression  \n",
      "2  ridge_regression  ridge_regression  \n",
      "3  ridge_regression  ridge_regression  \n",
      "4  ridge_regression  ridge_regression  \n"
     ]
    }
   ],
   "source": [
    "def pre_process(df):\n",
    "    df['year'] = 2020 - df['year']\n",
    "    df['mileage'] = df['mileage'].str.replace(' kmpl', '', regex=False)\n",
    "    df['mileage'] = df['mileage'].str.replace(' km/kg', '', regex=False)\n",
    "    df['mileage'] = pd.to_numeric(df['mileage'])\n",
    "\n",
    "    df['engine'] = df['engine'].str.replace(' CC', '', regex=False)\n",
    "    df['engine'] = pd.to_numeric(df['engine'])\n",
    "\n",
    "\n",
    "    df['max_power'] = df['max_power'].str.replace(' bhp', '', regex=False)\n",
    "    df['max_power'] = pd.to_numeric(df['max_power'])\n",
    "    \n",
    "    df = df.dropna(how='any')\n",
    "    return df\n",
    "\n",
    "df_train = pre_process(df_train)\n",
    "df_test = pre_process(df_test)\n",
    "\n",
    "print(df_samples.head())"
   ]
  },
  {
   "cell_type": "code",
   "execution_count": 14,
   "metadata": {},
   "outputs": [
    {
     "name": "stdout",
     "output_type": "stream",
     "text": [
      "Training RMSE: 75776.54744603446\n",
      "Test RMSE: 232460.78499712606\n",
      "Training R^2: 0.9913685543644379\n",
      "Test R^2: 0.8968321729654936\n"
     ]
    },
    {
     "name": "stderr",
     "output_type": "stream",
     "text": [
      "/Library/Frameworks/Python.framework/Versions/3.12/lib/python3.12/site-packages/sklearn/metrics/_regression.py:483: FutureWarning: 'squared' is deprecated in version 1.4 and will be removed in 1.6. To calculate the root mean squared error, use the function'root_mean_squared_error'.\n",
      "  warnings.warn(\n",
      "/Library/Frameworks/Python.framework/Versions/3.12/lib/python3.12/site-packages/sklearn/metrics/_regression.py:483: FutureWarning: 'squared' is deprecated in version 1.4 and will be removed in 1.6. To calculate the root mean squared error, use the function'root_mean_squared_error'.\n",
      "  warnings.warn(\n"
     ]
    }
   ],
   "source": [
    "from sklearn.linear_model import Ridge\n",
    "from sklearn.metrics import mean_squared_error, r2_score\n",
    "from sklearn.preprocessing import OneHotEncoder\n",
    "from sklearn.compose import ColumnTransformer\n",
    "from sklearn.pipeline import make_pipeline\n",
    "\n",
    "X_train = df_train.drop('selling_price', axis=1)\n",
    "y_train = df_train['selling_price']\n",
    "X_test = df_test.drop('selling_price', axis=1)\n",
    "y_test = df_test['selling_price']\n",
    "\n",
    "categorical_features = ['name', 'fuel', 'seller_type', 'transmission', 'owner', 'torque']\n",
    "\n",
    "preprocessor = ColumnTransformer(\n",
    "    transformers=[\n",
    "        ('onehot', OneHotEncoder(handle_unknown='ignore'), categorical_features)],\n",
    "    remainder='passthrough'  \n",
    ")\n",
    "\n",
    "model = make_pipeline(\n",
    "    preprocessor,\n",
    "    StandardScaler(with_mean=False),  \n",
    "    Ridge(alpha=1.0, random_state=42) \n",
    ")\n",
    "model.fit(X_train, y_train)\n",
    "\n",
    "y_train_pred = model.predict(X_train)\n",
    "y_test_pred = model.predict(X_test)\n",
    "\n",
    "train_rmse = mean_squared_error(y_train, y_train_pred, squared=False)\n",
    "test_rmse = mean_squared_error(y_test, y_test_pred, squared=False)\n",
    "train_r2 = r2_score(y_train, y_train_pred)\n",
    "test_r2 = r2_score(y_test, y_test_pred)\n",
    "\n",
    "print(f\"Training RMSE: {train_rmse}\")\n",
    "print(f\"Test RMSE: {test_rmse}\")\n",
    "print(f\"Training R^2: {train_r2}\")\n",
    "print(f\"Test R^2: {test_r2}\")\n",
    "\n"
   ]
  },
  {
   "cell_type": "code",
   "execution_count": 15,
   "metadata": {},
   "outputs": [],
   "source": [
    "df_samples['prediction'] = y_test_pred"
   ]
  },
  {
   "cell_type": "code",
   "execution_count": 16,
   "metadata": {},
   "outputs": [
    {
     "name": "stdout",
     "output_type": "stream",
     "text": [
      "                                    name  year  selling_price  km_driven  \\\n",
      "0     Ford Figo Aspire 1.5 TDCi Titanium  2017         670000      70000   \n",
      "1  Mahindra Scorpio VLX 2WD AIRBAG BSIII  2012         525000     120000   \n",
      "2                 Maruti Swift Dzire VDI  2014         438999      81000   \n",
      "3              Ford Figo Diesel Titanium  2010         144000      50000   \n",
      "4                 Hyundai i10 Magna 1.1L  2008         185000     110000   \n",
      "\n",
      "     fuel seller_type transmission                 owner     mileage   engine  \\\n",
      "0  Diesel  Individual       Manual           First Owner  25.83 kmpl  1498 CC   \n",
      "1  Diesel  Individual       Manual           First Owner  12.05 kmpl  2179 CC   \n",
      "2  Diesel      Dealer       Manual           First Owner   23.4 kmpl  1248 CC   \n",
      "3  Diesel  Individual       Manual          Second Owner   20.0 kmpl  1399 CC   \n",
      "4  Petrol  Individual       Manual  Fourth & Above Owner  19.81 kmpl  1086 CC   \n",
      "\n",
      "   max_power               torque  seats     prediction            prompt  \\\n",
      "0     99 bhp  215Nm@ 1750-3000rpm    5.0  430073.332711  ridge_regression   \n",
      "1    120 bhp  290Nm@ 1800-2800rpm    8.0  595308.202762  ridge_regression   \n",
      "2     74 bhp       190Nm@ 2000rpm    5.0  540575.833907  ridge_regression   \n",
      "3     68 bhp       160Nm@ 2000rpm    5.0  183817.612497  ridge_regression   \n",
      "4  68.05 bhp     99.04Nm@ 4500rpm    5.0  126527.423896  ridge_regression   \n",
      "\n",
      "        prompt_name        model_name  \n",
      "0  ridge_regression  ridge_regression  \n",
      "1  ridge_regression  ridge_regression  \n",
      "2  ridge_regression  ridge_regression  \n",
      "3  ridge_regression  ridge_regression  \n",
      "4  ridge_regression  ridge_regression  \n"
     ]
    }
   ],
   "source": [
    "print(df_samples.head())"
   ]
  },
  {
   "cell_type": "code",
   "execution_count": 17,
   "metadata": {},
   "outputs": [],
   "source": [
    "df_samples.to_csv(OUTPUT_PATH, index=False)\n"
   ]
  }
 ],
 "metadata": {
  "kernelspec": {
   "display_name": "Python 3",
   "language": "python",
   "name": "python3"
  },
  "language_info": {
   "codemirror_mode": {
    "name": "ipython",
    "version": 3
   },
   "file_extension": ".py",
   "mimetype": "text/x-python",
   "name": "python",
   "nbconvert_exporter": "python",
   "pygments_lexer": "ipython3",
   "version": "3.12.2"
  }
 },
 "nbformat": 4,
 "nbformat_minor": 2
}
