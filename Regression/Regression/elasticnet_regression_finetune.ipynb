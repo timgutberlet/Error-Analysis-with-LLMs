{
 "cells": [
  {
   "cell_type": "code",
   "execution_count": 1,
   "metadata": {},
   "outputs": [],
   "source": [
    "# File for machine learning model - ElasticNet Regression - Finetuned\n",
    "\n",
    "\n",
    "import pandas as pd\n",
    "import pandas as pd\n",
    "from sklearn.model_selection import train_test_split\n",
    "from sklearn.preprocessing import StandardScaler\n",
    "from sklearn.metrics import accuracy_score, confusion_matrix, classification_report\n",
    "\n",
    "dataname = \"elasticnet_regression_finetune\"\n",
    "\n",
    "DATA_PATH = \"../../Datasets/Vehice dataset/Downsampled/Test/test_sampled.csv\"\n",
    "OUTPUT_PATH = f\"../../Datasets/Evaluations/Regression/{dataname}.csv\"\n",
    "\n",
    "TEST_PATH = \"../../Datasets/Vehice dataset/Downsampled/Test/test_sampled.csv\"\n",
    "TRAIN_PATH = \"../../Datasets/Vehice dataset/Downsampled/Train/train.csv\"\n",
    "VALID_PATH = \"../../Datasets/Vehice dataset/Downsampled/Valid/valid.csv\"\n",
    "\n",
    "\n"
   ]
  },
  {
   "cell_type": "code",
   "execution_count": 2,
   "metadata": {},
   "outputs": [
    {
     "name": "stdout",
     "output_type": "stream",
     "text": [
      "                                    name  year  selling_price  km_driven  \\\n",
      "0     Ford Figo Aspire 1.5 TDCi Titanium  2017         670000      70000   \n",
      "1  Mahindra Scorpio VLX 2WD AIRBAG BSIII  2012         525000     120000   \n",
      "2                 Maruti Swift Dzire VDI  2014         438999      81000   \n",
      "3              Ford Figo Diesel Titanium  2010         144000      50000   \n",
      "4                 Hyundai i10 Magna 1.1L  2008         185000     110000   \n",
      "\n",
      "     fuel seller_type transmission                 owner     mileage   engine  \\\n",
      "0  Diesel  Individual       Manual           First Owner  25.83 kmpl  1498 CC   \n",
      "1  Diesel  Individual       Manual           First Owner  12.05 kmpl  2179 CC   \n",
      "2  Diesel      Dealer       Manual           First Owner   23.4 kmpl  1248 CC   \n",
      "3  Diesel  Individual       Manual          Second Owner   20.0 kmpl  1399 CC   \n",
      "4  Petrol  Individual       Manual  Fourth & Above Owner  19.81 kmpl  1086 CC   \n",
      "\n",
      "   max_power               torque  seats  \n",
      "0     99 bhp  215Nm@ 1750-3000rpm    5.0  \n",
      "1    120 bhp  290Nm@ 1800-2800rpm    8.0  \n",
      "2     74 bhp       190Nm@ 2000rpm    5.0  \n",
      "3     68 bhp       160Nm@ 2000rpm    5.0  \n",
      "4  68.05 bhp     99.04Nm@ 4500rpm    5.0  \n"
     ]
    }
   ],
   "source": [
    "df_samples = pd.read_csv(DATA_PATH)\n",
    "df_test = pd.read_csv(DATA_PATH)\n",
    "df_train = pd.read_csv(TRAIN_PATH)\n",
    "\n",
    "df_test.drop(columns=['prediction', 'prompt'], inplace=True)\n",
    "df_samples.drop(columns=['prediction', 'prompt'], inplace=True)\n",
    "print(df_samples.head())"
   ]
  },
  {
   "cell_type": "code",
   "execution_count": 3,
   "metadata": {},
   "outputs": [],
   "source": [
    "\n",
    "df_samples = df_samples.dropna(how='any')\n",
    "\n",
    "df_samples['prediction'] = None\n",
    "df_samples[\"prompt\"] = f'{dataname}'\n",
    "df_samples[\"prompt_name\"] = f'{dataname}'\n",
    "df_samples[\"model_name\"] = f'{dataname}'\n"
   ]
  },
  {
   "cell_type": "code",
   "execution_count": 4,
   "metadata": {},
   "outputs": [
    {
     "name": "stdout",
     "output_type": "stream",
     "text": [
      "                                    name  year  selling_price  km_driven  \\\n",
      "0     Ford Figo Aspire 1.5 TDCi Titanium  2017         670000      70000   \n",
      "1  Mahindra Scorpio VLX 2WD AIRBAG BSIII  2012         525000     120000   \n",
      "2                 Maruti Swift Dzire VDI  2014         438999      81000   \n",
      "3              Ford Figo Diesel Titanium  2010         144000      50000   \n",
      "4                 Hyundai i10 Magna 1.1L  2008         185000     110000   \n",
      "\n",
      "     fuel seller_type transmission                 owner     mileage   engine  \\\n",
      "0  Diesel  Individual       Manual           First Owner  25.83 kmpl  1498 CC   \n",
      "1  Diesel  Individual       Manual           First Owner  12.05 kmpl  2179 CC   \n",
      "2  Diesel      Dealer       Manual           First Owner   23.4 kmpl  1248 CC   \n",
      "3  Diesel  Individual       Manual          Second Owner   20.0 kmpl  1399 CC   \n",
      "4  Petrol  Individual       Manual  Fourth & Above Owner  19.81 kmpl  1086 CC   \n",
      "\n",
      "   max_power               torque  seats prediction  \\\n",
      "0     99 bhp  215Nm@ 1750-3000rpm    5.0       None   \n",
      "1    120 bhp  290Nm@ 1800-2800rpm    8.0       None   \n",
      "2     74 bhp       190Nm@ 2000rpm    5.0       None   \n",
      "3     68 bhp       160Nm@ 2000rpm    5.0       None   \n",
      "4  68.05 bhp     99.04Nm@ 4500rpm    5.0       None   \n",
      "\n",
      "                           prompt                     prompt_name  \\\n",
      "0  elasticnet_regression_finetune  elasticnet_regression_finetune   \n",
      "1  elasticnet_regression_finetune  elasticnet_regression_finetune   \n",
      "2  elasticnet_regression_finetune  elasticnet_regression_finetune   \n",
      "3  elasticnet_regression_finetune  elasticnet_regression_finetune   \n",
      "4  elasticnet_regression_finetune  elasticnet_regression_finetune   \n",
      "\n",
      "                       model_name  \n",
      "0  elasticnet_regression_finetune  \n",
      "1  elasticnet_regression_finetune  \n",
      "2  elasticnet_regression_finetune  \n",
      "3  elasticnet_regression_finetune  \n",
      "4  elasticnet_regression_finetune  \n"
     ]
    }
   ],
   "source": [
    "def pre_process(df):\n",
    "    df['year'] = 2020 - df['year']\n",
    "    df['mileage'] = df['mileage'].str.replace(' kmpl', '', regex=False)\n",
    "    df['mileage'] = df['mileage'].str.replace(' km/kg', '', regex=False)\n",
    "    df['mileage'] = pd.to_numeric(df['mileage'])\n",
    "\n",
    "    df['engine'] = df['engine'].str.replace(' CC', '', regex=False)\n",
    "    df['engine'] = pd.to_numeric(df['engine'])\n",
    "\n",
    "\n",
    "    df['max_power'] = df['max_power'].str.replace(' bhp', '', regex=False)\n",
    "    df['max_power'] = pd.to_numeric(df['max_power'])\n",
    "    \n",
    "    df = df.dropna(how='any')\n",
    "    return df\n",
    "\n",
    "df_train = pre_process(df_train)\n",
    "df_test = pre_process(df_test)\n",
    "\n",
    "print(df_samples.head())"
   ]
  },
  {
   "cell_type": "code",
   "execution_count": 5,
   "metadata": {},
   "outputs": [
    {
     "name": "stdout",
     "output_type": "stream",
     "text": [
      "Fitting 5 folds for each of 7 candidates, totalling 35 fits\n"
     ]
    },
    {
     "name": "stderr",
     "output_type": "stream",
     "text": [
      "/Library/Frameworks/Python.framework/Versions/3.12/lib/python3.12/site-packages/sklearn/linear_model/_coordinate_descent.py:639: ConvergenceWarning: Objective did not converge. You might want to increase the number of iterations. Duality gap: 10491086813592.111, tolerance: 281682416844.1201\n",
      "  model = cd_fast.sparse_enet_coordinate_descent(\n",
      "/Library/Frameworks/Python.framework/Versions/3.12/lib/python3.12/site-packages/sklearn/linear_model/_coordinate_descent.py:639: ConvergenceWarning: Objective did not converge. You might want to increase the number of iterations. Duality gap: 12221322376127.69, tolerance: 273966586251.75836\n",
      "  model = cd_fast.sparse_enet_coordinate_descent(\n",
      "/Library/Frameworks/Python.framework/Versions/3.12/lib/python3.12/site-packages/sklearn/linear_model/_coordinate_descent.py:639: ConvergenceWarning: Objective did not converge. You might want to increase the number of iterations. Duality gap: 12908105295079.63, tolerance: 273196240087.5501\n",
      "  model = cd_fast.sparse_enet_coordinate_descent(\n",
      "/Library/Frameworks/Python.framework/Versions/3.12/lib/python3.12/site-packages/sklearn/linear_model/_coordinate_descent.py:639: ConvergenceWarning: Objective did not converge. You might want to increase the number of iterations. Duality gap: 9894103260801.604, tolerance: 258708118828.74875\n",
      "  model = cd_fast.sparse_enet_coordinate_descent(\n",
      "/Library/Frameworks/Python.framework/Versions/3.12/lib/python3.12/site-packages/sklearn/linear_model/_coordinate_descent.py:639: ConvergenceWarning: Objective did not converge. You might want to increase the number of iterations. Duality gap: 12550940145387.486, tolerance: 259101723940.4205\n",
      "  model = cd_fast.sparse_enet_coordinate_descent(\n"
     ]
    },
    {
     "name": "stdout",
     "output_type": "stream",
     "text": [
      "Training RMSE: 75815.86846722524\n",
      "Test RMSE: 229249.8101528772\n",
      "Training R^2: 0.9913595941959932\n",
      "Test R^2: 0.8996625978064465\n"
     ]
    },
    {
     "name": "stderr",
     "output_type": "stream",
     "text": [
      "/Library/Frameworks/Python.framework/Versions/3.12/lib/python3.12/site-packages/sklearn/linear_model/_coordinate_descent.py:639: ConvergenceWarning: Objective did not converge. You might want to increase the number of iterations. Duality gap: 15886027710994.666, tolerance: 336683959268.5045\n",
      "  model = cd_fast.sparse_enet_coordinate_descent(\n",
      "/Library/Frameworks/Python.framework/Versions/3.12/lib/python3.12/site-packages/sklearn/metrics/_regression.py:483: FutureWarning: 'squared' is deprecated in version 1.4 and will be removed in 1.6. To calculate the root mean squared error, use the function'root_mean_squared_error'.\n",
      "  warnings.warn(\n",
      "/Library/Frameworks/Python.framework/Versions/3.12/lib/python3.12/site-packages/sklearn/metrics/_regression.py:483: FutureWarning: 'squared' is deprecated in version 1.4 and will be removed in 1.6. To calculate the root mean squared error, use the function'root_mean_squared_error'.\n",
      "  warnings.warn(\n"
     ]
    }
   ],
   "source": [
    "import pandas as pd\n",
    "from sklearn.tree import DecisionTreeRegressor\n",
    "from sklearn.metrics import mean_squared_error, r2_score\n",
    "from sklearn.preprocessing import OneHotEncoder\n",
    "from sklearn.compose import ColumnTransformer\n",
    "from sklearn.linear_model import ElasticNet\n",
    "from sklearn.model_selection import GridSearchCV\n",
    "from sklearn.pipeline import Pipeline\n",
    "\n",
    "X_train = df_train.drop('selling_price', axis=1)\n",
    "y_train = df_train['selling_price']\n",
    "X_test = df_test.drop('selling_price', axis=1)\n",
    "y_test = df_test['selling_price']\n",
    "\n",
    "categorical_features = ['name', 'fuel', 'seller_type', 'transmission', 'owner', 'torque']\n",
    "numerical_features = X_train.columns.difference(categorical_features)  \n",
    "\n",
    "preprocessor = ColumnTransformer(\n",
    "    transformers=[\n",
    "        ('onehot', OneHotEncoder(handle_unknown='ignore'), categorical_features)],\n",
    "    remainder='passthrough'  \n",
    ")\n",
    "\n",
    "pipeline = Pipeline([\n",
    "    ('preprocessor', preprocessor),\n",
    "    ('model', ElasticNet(random_state=42))\n",
    "])\n",
    "\n",
    "param_grid = {\n",
    "    'model__l1_ratio': [0.1, 0.5, 0.7, 0.9, 0.95, 0.99, 1]\n",
    "}\n",
    "grid_search = GridSearchCV(pipeline, param_grid, cv=5, scoring='neg_mean_squared_error', verbose=1)\n",
    "grid_search.fit(X_train, y_train)\n",
    "best_l1_ratio = grid_search.best_params_['model__l1_ratio']\n",
    "\n",
    "# Predictions\n",
    "y_train_pred = grid_search.predict(X_train)\n",
    "y_test_pred = grid_search.predict(X_test)\n",
    "\n",
    "train_rmse = mean_squared_error(y_train, y_train_pred, squared=False)\n",
    "test_rmse = mean_squared_error(y_test, y_test_pred, squared=False)\n",
    "train_r2 = r2_score(y_train, y_train_pred)\n",
    "test_r2 = r2_score(y_test, y_test_pred)\n",
    "\n",
    "print(f\"Training RMSE: {train_rmse}\")\n",
    "print(f\"Test RMSE: {test_rmse}\")\n",
    "print(f\"Training R^2: {train_r2}\")\n",
    "print(f\"Test R^2: {test_r2}\")\n",
    "\n"
   ]
  },
  {
   "cell_type": "code",
   "execution_count": 6,
   "metadata": {},
   "outputs": [
    {
     "name": "stdout",
     "output_type": "stream",
     "text": [
      "Best l1_ratio: 1\n"
     ]
    }
   ],
   "source": [
    "print(f\"Best l1_ratio: {best_l1_ratio}\")"
   ]
  },
  {
   "cell_type": "code",
   "execution_count": 7,
   "metadata": {},
   "outputs": [],
   "source": [
    "df_samples['prediction'] = y_test_pred"
   ]
  },
  {
   "cell_type": "code",
   "execution_count": 8,
   "metadata": {},
   "outputs": [
    {
     "name": "stdout",
     "output_type": "stream",
     "text": [
      "                                    name  year  selling_price  km_driven  \\\n",
      "0     Ford Figo Aspire 1.5 TDCi Titanium  2017         670000      70000   \n",
      "1  Mahindra Scorpio VLX 2WD AIRBAG BSIII  2012         525000     120000   \n",
      "2                 Maruti Swift Dzire VDI  2014         438999      81000   \n",
      "3              Ford Figo Diesel Titanium  2010         144000      50000   \n",
      "4                 Hyundai i10 Magna 1.1L  2008         185000     110000   \n",
      "\n",
      "     fuel seller_type transmission                 owner     mileage   engine  \\\n",
      "0  Diesel  Individual       Manual           First Owner  25.83 kmpl  1498 CC   \n",
      "1  Diesel  Individual       Manual           First Owner  12.05 kmpl  2179 CC   \n",
      "2  Diesel      Dealer       Manual           First Owner   23.4 kmpl  1248 CC   \n",
      "3  Diesel  Individual       Manual          Second Owner   20.0 kmpl  1399 CC   \n",
      "4  Petrol  Individual       Manual  Fourth & Above Owner  19.81 kmpl  1086 CC   \n",
      "\n",
      "   max_power               torque  seats     prediction  \\\n",
      "0     99 bhp  215Nm@ 1750-3000rpm    5.0  432836.550277   \n",
      "1    120 bhp  290Nm@ 1800-2800rpm    8.0  592920.198926   \n",
      "2     74 bhp       190Nm@ 2000rpm    5.0  540857.339895   \n",
      "3     68 bhp       160Nm@ 2000rpm    5.0  182880.480920   \n",
      "4  68.05 bhp     99.04Nm@ 4500rpm    5.0  123385.023026   \n",
      "\n",
      "                           prompt                     prompt_name  \\\n",
      "0  elasticnet_regression_finetune  elasticnet_regression_finetune   \n",
      "1  elasticnet_regression_finetune  elasticnet_regression_finetune   \n",
      "2  elasticnet_regression_finetune  elasticnet_regression_finetune   \n",
      "3  elasticnet_regression_finetune  elasticnet_regression_finetune   \n",
      "4  elasticnet_regression_finetune  elasticnet_regression_finetune   \n",
      "\n",
      "                       model_name  \n",
      "0  elasticnet_regression_finetune  \n",
      "1  elasticnet_regression_finetune  \n",
      "2  elasticnet_regression_finetune  \n",
      "3  elasticnet_regression_finetune  \n",
      "4  elasticnet_regression_finetune  \n"
     ]
    }
   ],
   "source": [
    "print(df_samples.head())"
   ]
  },
  {
   "cell_type": "code",
   "execution_count": 20,
   "metadata": {},
   "outputs": [],
   "source": [
    "df_samples.to_csv(OUTPUT_PATH, index=False)\n"
   ]
  },
  {
   "cell_type": "code",
   "execution_count": 26,
   "metadata": {},
   "outputs": [
    {
     "name": "stdout",
     "output_type": "stream",
     "text": [
      "                                                Feature  Importance\n",
      "2044                               remainder__max_power    0.738631\n",
      "2040                                    remainder__year    0.184073\n",
      "2041                               remainder__km_driven    0.032031\n",
      "2043                                  remainder__engine    0.008113\n",
      "2042                                 remainder__mileage    0.007149\n",
      "...                                                 ...         ...\n",
      "617   onehot__name_Jaguar XF 3.0 Litre S Premium Luxury    0.000000\n",
      "618               onehot__name_Jeep Compass 1.4 Limited    0.000000\n",
      "624        onehot__name_Jeep Compass 2.0 Longitude BSIV    0.000000\n",
      "626        onehot__name_Jeep Wrangler 2016-2019 3.6 4X4    0.000000\n",
      "627                       onehot__name_Kia Seltos HTE D    0.000000\n",
      "\n",
      "[2046 rows x 2 columns]\n"
     ]
    }
   ],
   "source": [
    "\n",
    "importances = model.feature_importances_\n",
    "\n",
    "feature_names = preprocessor.get_feature_names_out()\n",
    "\n",
    "import pandas as pd\n",
    "\n",
    "feature_importances_df = pd.DataFrame({\n",
    "    'Feature': feature_names,\n",
    "    'Importance': importances\n",
    "})\n",
    "\n",
    "feature_importances_df = feature_importances_df.sort_values(by='Importance', ascending=False)\n",
    "\n",
    "print(feature_importances_df)\n"
   ]
  }
 ],
 "metadata": {
  "kernelspec": {
   "display_name": "Python 3",
   "language": "python",
   "name": "python3"
  },
  "language_info": {
   "codemirror_mode": {
    "name": "ipython",
    "version": 3
   },
   "file_extension": ".py",
   "mimetype": "text/x-python",
   "name": "python",
   "nbconvert_exporter": "python",
   "pygments_lexer": "ipython3",
   "version": "3.12.2"
  }
 },
 "nbformat": 4,
 "nbformat_minor": 2
}
