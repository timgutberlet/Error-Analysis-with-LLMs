{
 "cells": [
  {
   "cell_type": "code",
   "execution_count": 32,
   "metadata": {},
   "outputs": [],
   "source": [
    "import pandas as pd\n",
    "from sklearn.metrics import mean_absolute_error, mean_squared_error, r2_score\n",
    "import numpy as np\n",
    "\n",
    "data_name = 'zero_shot_pipeline_3.5-turbo.csv'\n",
    "FOLDER_PATH = '../../Datasets/Evaluations/Regression/'\n",
    "EVAL_OUTPUT = '../../Datasets/Evaluations/Regression/Eval_Output/eval_output.csv'\n",
    "prompt_name = ''\n",
    "model_name = ''"
   ]
  },
  {
   "cell_type": "code",
   "execution_count": 33,
   "metadata": {},
   "outputs": [],
   "source": [
    "import os\n",
    "import csv\n",
    "\n",
    "def import_csv_files(folder_path):\n",
    "    # List all files in the folder\n",
    "    files = os.listdir(folder_path)\n",
    "    \n",
    "    # Filter only CSV files\n",
    "    csv_files = [file for file in files if file.endswith('.csv')]\n",
    "    file_paths = []\n",
    "    # Loop through each CSV file and import its data\n",
    "    for csv_file in csv_files:\n",
    "        file_paths.append(os.path.join(folder_path, csv_file))\n",
    "\n",
    "    csv_files_stripped = [file[:-4] for file in csv_files]\n",
    "    return file_paths, csv_files_stripped\n",
    "\n",
    "# Example usage:\n",
    "file_paths, csv_files = import_csv_files(FOLDER_PATH)\n",
    "\n"
   ]
  },
  {
   "cell_type": "code",
   "execution_count": 34,
   "metadata": {},
   "outputs": [],
   "source": [
    "import os\n",
    "def multiclass_eval(df):\n",
    "    \n",
    "    y_true = df['y_true']\n",
    "    y_pred = df['y_pred']\n",
    "\n",
    "    # Mean Absolute Error (MAE)\n",
    "    mae = mean_absolute_error(y_true, y_pred)\n",
    "    print(\"Mean Absolute Error (MAE):\", mae)\n",
    "\n",
    "    # Mean Squared Error (MSE)\n",
    "    mse = mean_squared_error(y_true, y_pred)\n",
    "    print(\"Mean Squared Error (MSE):\", mse)\n",
    "\n",
    "    # Root Mean Squared Error (RMSE)\n",
    "    rmse = np.sqrt(mse)\n",
    "    print(\"Root Mean Squared Error (RMSE):\", rmse)\n",
    "\n",
    "    # R-squared (R2) score\n",
    "    r2 = r2_score(y_true, y_pred)\n",
    "    print(\"R-squared (R2) score:\", r2, \"(only important for regression problems)\")\n",
    "\n",
    "    prompt_name = df['prompt_name'][0]\n",
    "    model_name = df['model_name'][0]  \n",
    "\n",
    "    if os.path.exists(EVAL_OUTPUT):\n",
    "        df_eval_output = pd.read_csv(EVAL_OUTPUT)\n",
    "        if (df_eval_output['prompt_name'] == prompt_name).any() and (df_eval_output['model_name'] == model_name).any():\n",
    "            print(None)\n",
    "        else:\n",
    "            new_row = {'prompt_name': prompt_name, 'model_name': model_name, 'MAE': mae, 'MSE': mse, 'RMSE': rmse, 'R2': r2}\n",
    "            new_df = pd.DataFrame([new_row])\n",
    "            df_eval_output = pd.concat([df_eval_output, new_df], ignore_index=True)\n",
    "            df_eval_output.to_csv(EVAL_OUTPUT, index=False)\n",
    "    else:\n",
    "        df_return = pd.DataFrame({})\n",
    "        df_return['prompt_name'] = [prompt_name]\n",
    "        df_return['model_name'] = [model_name]\n",
    "        df_return['MAE'] = [mae]\n",
    "        df_return['MSE'] = [mse]\n",
    "        df_return['RMSE'] = [rmse]\n",
    "        df_return['R2'] = [r2]\n",
    "        df_return.to_csv(EVAL_OUTPUT, index=False)\n",
    "    "
   ]
  },
  {
   "cell_type": "code",
   "execution_count": 35,
   "metadata": {},
   "outputs": [
    {
     "name": "stdout",
     "output_type": "stream",
     "text": [
      "zero_shot_pipeline_4-turbo-preview :\n",
      "Mean Absolute Error (MAE): 86124.99\n",
      "Mean Squared Error (MSE): 27711918630.045\n",
      "Root Mean Squared Error (RMSE): 166468.97197389367\n",
      "R-squared (R2) score: 0.9464273846565417 (only important for regression problems)\n",
      "\n",
      "\n",
      "zero_shot_pipeline_3.5-turbo :\n",
      "Mean Absolute Error (MAE): 102472.48\n",
      "Mean Squared Error (MSE): 53579280930.045\n",
      "Root Mean Squared Error (RMSE): 231471.9873549389\n",
      "R-squared (R2) score: 0.8964206612337426 (only important for regression problems)\n",
      "None\n",
      "\n",
      "\n"
     ]
    }
   ],
   "source": [
    "for i in range(len(file_paths)):\n",
    "    df_data = pd.read_csv(file_paths[i])\n",
    "    df_data = df_data.rename(columns={'selling_price': 'y_true'})\n",
    "    df_data = df_data.rename(columns={'prediction': 'y_pred'})\n",
    "    print(csv_files[i], \":\")\n",
    "    multiclass_eval(df_data)\n",
    "    print(\"\\n\")\n",
    "\n"
   ]
  }
 ],
 "metadata": {
  "kernelspec": {
   "display_name": "Python 3",
   "language": "python",
   "name": "python3"
  },
  "language_info": {
   "codemirror_mode": {
    "name": "ipython",
    "version": 3
   },
   "file_extension": ".py",
   "mimetype": "text/x-python",
   "name": "python",
   "nbconvert_exporter": "python",
   "pygments_lexer": "ipython3",
   "version": "3.12.2"
  }
 },
 "nbformat": 4,
 "nbformat_minor": 2
}
