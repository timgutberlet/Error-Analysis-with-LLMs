{
 "cells": [
  {
   "cell_type": "code",
   "execution_count": 2,
   "metadata": {},
   "outputs": [],
   "source": [
    "#This script is used to process the zero shot learning dataset from the vehicle dataset\n",
    "\n",
    "import pandas as pd\n",
    "import os\n",
    "import xml.etree.ElementTree as ET\n",
    "\n",
    "DATA_PATH = \"../../Datasets/Vehice dataset/Car details v3.csv.xls\"\n",
    "TEST_PATH = \"../../Datasets/Vehice dataset/Downsampled/Test/test.csv\"\n",
    "TRAIN_PATH = \"../../Datasets/Vehice dataset/Downsampled/Train/train.csv\"\n",
    "VALID_PATH = \"../../Datasets/Vehice dataset/Downsampled/Valid/valid.csv\"\n",
    "TEST_SAMPLED_PATH = \"../../Datasets/Vehice dataset/Downsampled/Test/test_sampled.csv\"\n",
    "\n",
    "\n"
   ]
  },
  {
   "cell_type": "code",
   "execution_count": 3,
   "metadata": {},
   "outputs": [
    {
     "name": "stdout",
     "output_type": "stream",
     "text": [
      "Total set Shape: (8128, 13)\n",
      "Train set shape: (5201, 13)\n",
      "Valid set shape: (1301, 13)\n",
      "Test set shape: (1626, 13)\n"
     ]
    }
   ],
   "source": [
    "from sklearn.model_selection import train_test_split\n",
    "\n",
    "df = pd.read_csv(DATA_PATH)\n",
    "# Split the dataframe into train and test sets\n",
    "train_df, test_df = train_test_split(df, test_size=0.2, random_state=42)\n",
    "\n",
    "train_df, valid_df = train_test_split(train_df, test_size=0.2, random_state=42)\n",
    "\n",
    "# Print shapes\n",
    "print(\"Total set Shape:\", df.shape)\n",
    "print(\"Train set shape:\", train_df.shape)\n",
    "print(\"Valid set shape:\", valid_df.shape)\n",
    "print(\"Test set shape:\", test_df.shape)\n",
    "\n"
   ]
  },
  {
   "cell_type": "code",
   "execution_count": 4,
   "metadata": {},
   "outputs": [
    {
     "name": "stdout",
     "output_type": "stream",
     "text": [
      "(400, 15)\n",
      "                                name  year  selling_price  km_driven    fuel  \\\n",
      "0            Maruti Baleno Delta 1.2  2019         579000      10000  Petrol   \n",
      "1     Tata Indica Vista Quadrajet LS  2012         240000      70000  Diesel   \n",
      "2                  Maruti Ertiga VDI  2013         650000     170000  Diesel   \n",
      "3             Maruti Wagon R CNG LXI  2013         270000      80000     CNG   \n",
      "4  Hyundai Grand i10 1.2 CRDi Sportz  2017         525000      29000  Diesel   \n",
      "\n",
      "  seller_type transmission         owner      mileage   engine  max_power  \\\n",
      "0  Individual       Manual   First Owner    21.4 kmpl  1197 CC   83.1 bhp   \n",
      "1  Individual       Manual   First Owner          NaN      NaN          0   \n",
      "2  Individual       Manual   Third Owner   20.77 kmpl  1248 CC  88.76 bhp   \n",
      "3  Individual       Manual  Second Owner  32.52 km/kg   998 CC  58.33 bhp   \n",
      "4      Dealer       Manual  Second Owner    24.0 kmpl  1186 CC  73.97 bhp   \n",
      "\n",
      "                   torque  seats prediction prompt  \n",
      "0          115Nm@ 4000rpm    5.0       None   None  \n",
      "1                     NaN    NaN       None   None  \n",
      "2          200Nm@ 1750rpm    7.0       None   None  \n",
      "3           78Nm@ 3500rpm    5.0       None   None  \n",
      "4  190.24nm@ 1750-2250rpm    5.0       None   None  \n"
     ]
    }
   ],
   "source": [
    "#Get Ramdon Sample\n",
    "df_samples = test_df.sample(n=400)\n",
    "\n",
    "#Update Index\n",
    "df_samples.reset_index(drop=True, inplace=True)\n",
    "\n",
    "\n",
    "df_samples['prediction'] = 'None'\n",
    "df_samples['prompt'] = 'None'\n",
    "\n",
    "print(df_samples.shape)\n",
    "print(df_samples.head())"
   ]
  },
  {
   "cell_type": "code",
   "execution_count": 7,
   "metadata": {},
   "outputs": [
    {
     "name": "stdout",
     "output_type": "stream",
     "text": [
      "Valid Average: 636022.998462721\n",
      "Valid Variance: 628741032429.4261\n",
      "Valid Standard Deviation: 792931.9216864876\n",
      "Train Average: 639315.6962122669\n",
      "Train Variance: 653791330650.8573\n",
      "Train Standard Deviation: 808573.6395968257\n",
      "Test Average: 636732.1008610086\n",
      "Test Variance: 655887815444.9192\n",
      "Test Standard Deviation: 809869.0112881954\n",
      "Test Sampled Average: 624817.4625\n",
      "Test Sampled Variance: 716892951839.6976\n",
      "Test Sampled Standard Deviation: 846695.3122816363\n",
      "OG Average: 638271.8077017716\n",
      "OG Median: 450000.0\n",
      "OG  Variance: 650044550668.6075\n",
      "OG Standard Deviation: 806253.4035082317\n"
     ]
    }
   ],
   "source": [
    "#Calculate important metrics of the datasets and print them \n",
    "average = valid_df[\"selling_price\"].mean()\n",
    "\n",
    "variance = valid_df[\"selling_price\"].var()\n",
    "\n",
    "std_deviation = valid_df[\"selling_price\"].std()\n",
    "\n",
    "print(\"Valid Average:\", average)\n",
    "print(\"Valid Variance:\", variance)\n",
    "print(\"Valid Standard Deviation:\", std_deviation)\n",
    "\n",
    "average = train_df[\"selling_price\"].mean()\n",
    "\n",
    "variance = train_df[\"selling_price\"].var()\n",
    "\n",
    "std_deviation = train_df[\"selling_price\"].std()\n",
    "\n",
    "print(\"Train Average:\", average)\n",
    "print(\"Train Variance:\", variance)\n",
    "print(\"Train Standard Deviation:\", std_deviation)\n",
    "\n",
    "average = test_df[\"selling_price\"].mean()\n",
    "\n",
    "variance = test_df[\"selling_price\"].var()\n",
    "\n",
    "std_deviation = test_df[\"selling_price\"].std()\n",
    "\n",
    "print(\"Test Average:\", average)\n",
    "print(\"Test Variance:\", variance)\n",
    "print(\"Test Standard Deviation:\", std_deviation)\n",
    "\n",
    "average = df_samples[\"selling_price\"].mean()\n",
    "\n",
    "variance = df_samples[\"selling_price\"].var()\n",
    "\n",
    "std_deviation = df_samples[\"selling_price\"].std()\n",
    "\n",
    "print(\"Test Sampled Average:\", average)\n",
    "print(\"Test Sampled Variance:\", variance)\n",
    "print(\"Test Sampled Standard Deviation:\", std_deviation)\n",
    "\n",
    "average = df[\"selling_price\"].mean()\n",
    "\n",
    "variance = df[\"selling_price\"].var()\n",
    "\n",
    "median = df['selling_price'].median()\n",
    "\n",
    "std_deviation = df[\"selling_price\"].std()\n",
    "\n",
    "print(\"OG Average:\", average)\n",
    "print(\"OG Median:\", median)\n",
    "print(\"OG  Variance:\", variance)\n",
    "print(\"OG Standard Deviation:\", std_deviation)"
   ]
  },
  {
   "cell_type": "code",
   "execution_count": 18,
   "metadata": {},
   "outputs": [],
   "source": [
    "# Save the dataframes to csv\n",
    "\n",
    "df_samples.to_csv(TEST_SAMPLED_PATH, index=False)\n",
    "test_df.to_csv(TEST_PATH, index=False)\n",
    "train_df.to_csv(TRAIN_PATH, index=False)\n",
    "valid_df.to_csv(VALID_PATH, index=False)\n",
    "   "
   ]
  },
  {
   "cell_type": "code",
   "execution_count": null,
   "metadata": {},
   "outputs": [],
   "source": []
  }
 ],
 "metadata": {
  "kernelspec": {
   "display_name": "Python 3",
   "language": "python",
   "name": "python3"
  },
  "language_info": {
   "codemirror_mode": {
    "name": "ipython",
    "version": 3
   },
   "file_extension": ".py",
   "mimetype": "text/x-python",
   "name": "python",
   "nbconvert_exporter": "python",
   "pygments_lexer": "ipython3",
   "version": "3.12.2"
  }
 },
 "nbformat": 4,
 "nbformat_minor": 2
}
